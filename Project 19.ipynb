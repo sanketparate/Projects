{
 "cells": [
  {
   "cell_type": "markdown",
   "metadata": {},
   "source": [
    "> <b>Predicting Restaurant Food Cost</b>\n",
    "\n",
    "\n",
    "Who doesn’t love food? All of us must have craving for at least a few favourite food items, we may also have a few places where we like to get them, a restaurant which serves our favourite food the way we want it to be. But there is one factor that will make us reconsider having our favourite food from our favourite restaurant, the cost. Here in this hackathon, you will be predicting the cost of the food served by the restaurants across different cities in India. You will use your Data Science skills to investigate the factors that really affect the cost, and who knows maybe you will even gain some very interesting insights that might help you choose what to eat and from where.\n",
    "\n",
    "Dataset: https://github.com/dsrscientist/Data-Science-ML-Capstone-Projects/blob/master/Restaurant_food_cost.rar\n",
    "\n",
    "Size of training set: 12,690 records\n",
    "\n",
    "Size of test set: 4,231 records\n",
    "\n",
    "\n",
    "\n",
    "Size of training set: 12,690 records\n",
    "\n",
    "Size of test set: 4,231 records\n",
    "\n",
    "<b>FEATURES:</b>\n",
    "<b>TITLE:</b> The feature of the restaurant which can help identify what and for whom it is suitable for.\n",
    "\n",
    "<b>RESTAURANT_ID:</b> A unique ID for each restaurant.\n",
    "\n",
    "<b>CUISINES:</b> The variety of cuisines that the restaurant offers.\n",
    "\n",
    "<b>TIME:</b> The open hours of the restaurant.\n",
    "\n",
    "<b>CITY:</b> The city in which the restaurant is located.\n",
    "\n",
    "<b>LOCALITY:</b> The locality of the restaurant.\n",
    "\n",
    "<b>RATING:</b> The average rating of the restaurant by customers.\n",
    "\n",
    "<b>VOTES:</b> The overall votes received by the restaurant.\n",
    "\n",
    "<b>COST:</b> The average cost of a two-person meal."
   ]
  },
  {
   "cell_type": "markdown",
   "metadata": {
    "collapsed": true
   },
   "source": [
    "<b>Importing Necessary Libraries</b>"
   ]
  },
  {
   "cell_type": "code",
   "execution_count": 7,
   "metadata": {},
   "outputs": [],
   "source": [
    "import pandas as pd\n",
    "import numpy as np\n",
    "import matplotlib.pyplot as plt\n",
    "%matplotlib inline\n",
    "import warnings\n",
    "warnings.filterwarnings(\"ignore\")\n",
    "from scipy.stats import zscore\n",
    "from sklearn.model_selection import train_test_split\n",
    "import os\n",
    "from sklearn.metrics import r2_score\n",
    "import missingno as msno \n",
    "import seaborn as sns\n",
    "from sklearn.preprocessing import LabelEncoder\n",
    "from sklearn.metrics import mean_squared_error\n",
    "from sklearn.tree import DecisionTreeRegressor\n",
    "from sklearn.ensemble import RandomForestRegressor\n",
    "from sklearn.model_selection import GridSearchCV\n",
    "from sklearn.model_selection import cross_val_score\n",
    "from sklearn.ensemble import GradientBoostingRegressor"
   ]
  },
  {
   "cell_type": "code",
   "execution_count": 8,
   "metadata": {
    "collapsed": true
   },
   "outputs": [],
   "source": [
    "os.chdir(\"C:/Users/SANKET/Music/Projects/Restaurant_food_cost/Participants_Data_Final\")"
   ]
  },
  {
   "cell_type": "code",
   "execution_count": 9,
   "metadata": {},
   "outputs": [],
   "source": [
    "# Reading the data\n",
    "train_food=pd.read_excel(\"Data_Train.xlsx\")\n",
    "test_food=pd.read_excel(\"Data_Test.xlsx\")"
   ]
  },
  {
   "cell_type": "code",
   "execution_count": 10,
   "metadata": {},
   "outputs": [
    {
     "data": {
      "text/html": [
       "<div>\n",
       "<style>\n",
       "    .dataframe thead tr:only-child th {\n",
       "        text-align: right;\n",
       "    }\n",
       "\n",
       "    .dataframe thead th {\n",
       "        text-align: left;\n",
       "    }\n",
       "\n",
       "    .dataframe tbody tr th {\n",
       "        vertical-align: top;\n",
       "    }\n",
       "</style>\n",
       "<table border=\"1\" class=\"dataframe\">\n",
       "  <thead>\n",
       "    <tr style=\"text-align: right;\">\n",
       "      <th></th>\n",
       "      <th>CITY</th>\n",
       "      <th>COST</th>\n",
       "      <th>CUISINES</th>\n",
       "      <th>LOCALITY</th>\n",
       "      <th>RATING</th>\n",
       "      <th>RESTAURANT_ID</th>\n",
       "      <th>TIME</th>\n",
       "      <th>TITLE</th>\n",
       "      <th>VOTES</th>\n",
       "    </tr>\n",
       "  </thead>\n",
       "  <tbody>\n",
       "    <tr>\n",
       "      <th>0</th>\n",
       "      <td>Thane</td>\n",
       "      <td>1200.0</td>\n",
       "      <td>Malwani, Goan, North Indian</td>\n",
       "      <td>Dombivali East</td>\n",
       "      <td>3.6</td>\n",
       "      <td>9438</td>\n",
       "      <td>11am – 4pm, 7:30pm – 11:30pm (Mon-Sun)</td>\n",
       "      <td>CASUAL DINING</td>\n",
       "      <td>49 votes</td>\n",
       "    </tr>\n",
       "    <tr>\n",
       "      <th>1</th>\n",
       "      <td>Chennai</td>\n",
       "      <td>1500.0</td>\n",
       "      <td>Asian, Modern Indian, Japanese</td>\n",
       "      <td>Ramapuram</td>\n",
       "      <td>4.2</td>\n",
       "      <td>13198</td>\n",
       "      <td>6pm – 11pm (Mon-Sun)</td>\n",
       "      <td>CASUAL DINING,BAR</td>\n",
       "      <td>30 votes</td>\n",
       "    </tr>\n",
       "    <tr>\n",
       "      <th>2</th>\n",
       "      <td>Chennai</td>\n",
       "      <td>800.0</td>\n",
       "      <td>North Indian, Chinese, Biryani, Hyderabadi</td>\n",
       "      <td>Saligramam</td>\n",
       "      <td>3.8</td>\n",
       "      <td>10915</td>\n",
       "      <td>11am – 3:30pm, 7pm – 11pm (Mon-Sun)</td>\n",
       "      <td>CASUAL DINING</td>\n",
       "      <td>221 votes</td>\n",
       "    </tr>\n",
       "    <tr>\n",
       "      <th>3</th>\n",
       "      <td>Mumbai</td>\n",
       "      <td>800.0</td>\n",
       "      <td>Tibetan, Chinese</td>\n",
       "      <td>Bandra West</td>\n",
       "      <td>4.1</td>\n",
       "      <td>6346</td>\n",
       "      <td>11:30am – 1am (Mon-Sun)</td>\n",
       "      <td>QUICK BITES</td>\n",
       "      <td>24 votes</td>\n",
       "    </tr>\n",
       "    <tr>\n",
       "      <th>4</th>\n",
       "      <td>Mumbai</td>\n",
       "      <td>300.0</td>\n",
       "      <td>Desserts</td>\n",
       "      <td>Lower Parel</td>\n",
       "      <td>3.8</td>\n",
       "      <td>15387</td>\n",
       "      <td>11am – 1am (Mon-Sun)</td>\n",
       "      <td>DESSERT PARLOR</td>\n",
       "      <td>165 votes</td>\n",
       "    </tr>\n",
       "  </tbody>\n",
       "</table>\n",
       "</div>"
      ],
      "text/plain": [
       "      CITY    COST                                    CUISINES  \\\n",
       "0    Thane  1200.0                 Malwani, Goan, North Indian   \n",
       "1  Chennai  1500.0              Asian, Modern Indian, Japanese   \n",
       "2  Chennai   800.0  North Indian, Chinese, Biryani, Hyderabadi   \n",
       "3   Mumbai   800.0                            Tibetan, Chinese   \n",
       "4   Mumbai   300.0                                    Desserts   \n",
       "\n",
       "         LOCALITY RATING  RESTAURANT_ID  \\\n",
       "0  Dombivali East    3.6           9438   \n",
       "1       Ramapuram    4.2          13198   \n",
       "2      Saligramam    3.8          10915   \n",
       "3     Bandra West    4.1           6346   \n",
       "4     Lower Parel    3.8          15387   \n",
       "\n",
       "                                     TIME              TITLE      VOTES  \n",
       "0  11am – 4pm, 7:30pm – 11:30pm (Mon-Sun)      CASUAL DINING   49 votes  \n",
       "1                    6pm – 11pm (Mon-Sun)  CASUAL DINING,BAR   30 votes  \n",
       "2     11am – 3:30pm, 7pm – 11pm (Mon-Sun)      CASUAL DINING  221 votes  \n",
       "3                 11:30am – 1am (Mon-Sun)        QUICK BITES   24 votes  \n",
       "4                    11am – 1am (Mon-Sun)     DESSERT PARLOR  165 votes  "
      ]
     },
     "execution_count": 10,
     "metadata": {},
     "output_type": "execute_result"
    }
   ],
   "source": [
    "# Merging the datasets\n",
    "cost_data=pd.concat([train_food, test_food],ignore_index=True)\n",
    "cost_data.head()"
   ]
  },
  {
   "cell_type": "code",
   "execution_count": 11,
   "metadata": {},
   "outputs": [
    {
     "data": {
      "text/plain": [
       "(16921, 9)"
      ]
     },
     "execution_count": 11,
     "metadata": {},
     "output_type": "execute_result"
    }
   ],
   "source": [
    "cost_data.shape"
   ]
  },
  {
   "cell_type": "markdown",
   "metadata": {},
   "source": [
    "<b>Observation:</b>\n",
    "There are 16921 rows and 9 columns in the dataset."
   ]
  },
  {
   "cell_type": "code",
   "execution_count": 12,
   "metadata": {},
   "outputs": [],
   "source": [
    "# Removing the unnecessary columns from the dataset\n",
    "cost_data.drop([\"RESTAURANT_ID\",\"TIME\"],axis=1,inplace=True)"
   ]
  },
  {
   "cell_type": "code",
   "execution_count": 13,
   "metadata": {},
   "outputs": [
    {
     "data": {
      "text/plain": [
       "CITY         object\n",
       "COST        float64\n",
       "CUISINES     object\n",
       "LOCALITY     object\n",
       "RATING       object\n",
       "TITLE        object\n",
       "VOTES        object\n",
       "dtype: object"
      ]
     },
     "execution_count": 13,
     "metadata": {},
     "output_type": "execute_result"
    }
   ],
   "source": [
    "cost_data.dtypes"
   ]
  },
  {
   "cell_type": "markdown",
   "metadata": {},
   "source": [
    "<b>Observation:</b>\n",
    "There are 6 attributes left in the dataset, out of which 4 attributes are of object datatype and 1 attribute(COST) is of float datatype."
   ]
  },
  {
   "cell_type": "markdown",
   "metadata": {},
   "source": [
    "<b>Checking the Null Values</b>"
   ]
  },
  {
   "cell_type": "code",
   "execution_count": 14,
   "metadata": {},
   "outputs": [
    {
     "data": {
      "text/plain": [
       "CITY         147\n",
       "COST        4231\n",
       "CUISINES       0\n",
       "LOCALITY     128\n",
       "RATING         4\n",
       "TITLE          0\n",
       "VOTES       1606\n",
       "dtype: int64"
      ]
     },
     "execution_count": 14,
     "metadata": {},
     "output_type": "execute_result"
    }
   ],
   "source": [
    "cost_data.isnull().sum()"
   ]
  },
  {
   "cell_type": "code",
   "execution_count": 15,
   "metadata": {},
   "outputs": [
    {
     "data": {
      "image/png": "[encoded data removed]",
      "text/plain": [
       "<matplotlib.figure.Figure at 0x219746f7748>"
      ]
     },
     "metadata": {},
     "output_type": "display_data"
    }
   ],
   "source": [
    "msno.matrix(cost_data) \n",
    "plt.show()"
   ]
  },
  {
   "cell_type": "markdown",
   "metadata": {},
   "source": [
    "<b>Observation:</b>\n",
    "From the above Visualization, we see that there are missing values in the attributes(CITY,COST,LOCALITY,RATING,VOTES)."
   ]
  },
  {
   "cell_type": "markdown",
   "metadata": {},
   "source": [
    "<b>Exploring the Attributes</b>"
   ]
  },
  {
   "cell_type": "code",
   "execution_count": 16,
   "metadata": {},
   "outputs": [
    {
     "data": {
      "text/plain": [
       "44 votes      92\n",
       "22 votes      88\n",
       "6 votes       87\n",
       "29 votes      83\n",
       "28 votes      81\n",
       "26 votes      81\n",
       "24 votes      81\n",
       "23 votes      80\n",
       "25 votes      79\n",
       "35 votes      78\n",
       "33 votes      77\n",
       "38 votes      76\n",
       "57 votes      75\n",
       "42 votes      75\n",
       "4 votes       75\n",
       "32 votes      74\n",
       "13 votes      74\n",
       "12 votes      74\n",
       "15 votes      73\n",
       "27 votes      73\n",
       "19 votes      73\n",
       "54 votes      73\n",
       "31 votes      72\n",
       "37 votes      71\n",
       "55 votes      71\n",
       "47 votes      71\n",
       "20 votes      71\n",
       "52 votes      71\n",
       "8 votes       71\n",
       "41 votes      70\n",
       "              ..\n",
       "6457 votes     1\n",
       "1094 votes     1\n",
       "1135 votes     1\n",
       "7549 votes     1\n",
       "3173 votes     1\n",
       "1668 votes     1\n",
       "1757 votes     1\n",
       "2276 votes     1\n",
       "1181 votes     1\n",
       "2102 votes     1\n",
       "2971 votes     1\n",
       "2728 votes     1\n",
       "1861 votes     1\n",
       "3007 votes     1\n",
       "942 votes      1\n",
       "2132 votes     1\n",
       "1108 votes     1\n",
       "1324 votes     1\n",
       "2199 votes     1\n",
       "3913 votes     1\n",
       "1554 votes     1\n",
       "1828 votes     1\n",
       "2877 votes     1\n",
       "1513 votes     1\n",
       "9005 votes     1\n",
       "3968 votes     1\n",
       "2408 votes     1\n",
       "2577 votes     1\n",
       "3094 votes     1\n",
       "1771 votes     1\n",
       "Name: VOTES, Length: 2075, dtype: int64"
      ]
     },
     "execution_count": 16,
     "metadata": {},
     "output_type": "execute_result"
    }
   ],
   "source": [
    "cost_data.VOTES.value_counts()"
   ]
  },
  {
   "cell_type": "markdown",
   "metadata": {},
   "source": [
    "attribute(VOTES) has 1606 (0)."
   ]
  },
  {
   "cell_type": "markdown",
   "metadata": {},
   "source": [
    "<b>Filling NULL Values</b>"
   ]
  },
  {
   "cell_type": "code",
   "execution_count": 17,
   "metadata": {},
   "outputs": [],
   "source": [
    "# As VOTES hasa \"new\" in one of its rows, we are replacing it with 0\n",
    "cost_data[\"RATING\"].replace(\"NEW\",0, inplace=True)\n",
    "cost_data[\"RATING\"].fillna('-',inplace=True)\n",
    "cost_data[\"RATING\"].fillna(0,inplace=True)"
   ]
  },
  {
   "cell_type": "code",
   "execution_count": 18,
   "metadata": {
    "collapsed": true
   },
   "outputs": [],
   "source": [
    "# Analysing the VOTES column, it can be converted to int by stripping off votes\n",
    "cost_data[\"VOTES\"]= cost_data[\"VOTES\"].str.replace(r'\\D','')\n",
    "cost_data.dropna(subset=[\"VOTES\"],axis=0,inplace=True)\n",
    "# Converting attribute into int datatype\n",
    "cost_data[\"VOTES\"]=cost_data[\"VOTES\"].astype(int)"
   ]
  },
  {
   "cell_type": "code",
   "execution_count": 19,
   "metadata": {},
   "outputs": [
    {
     "name": "stdout",
     "output_type": "stream",
     "text": [
      "There are duplicates in the dataset: 22\n",
      "After removing duplicates: 0\n"
     ]
    }
   ],
   "source": [
    "# Checking the Duplicates\n",
    "print(\"There are duplicates in the dataset:\",cost_data.duplicated().sum())\n",
    "\n",
    "# Dropping the Duplicates\n",
    "cost_data=cost_data.drop_duplicates()\n",
    "print(\"After removing duplicates:\",cost_data.duplicated().sum())"
   ]
  },
  {
   "cell_type": "code",
   "execution_count": 20,
   "metadata": {},
   "outputs": [],
   "source": [
    "# Filling the missing values of categorical attributes using mode\n",
    "for column in cost_data[[\"CITY\",\"LOCALITY\"]]:\n",
    "    mode = cost_data[column].mode()\n",
    "    cost_data[column] = cost_data[column].fillna(mode)[0]"
   ]
  },
  {
   "cell_type": "code",
   "execution_count": 21,
   "metadata": {
    "collapsed": true
   },
   "outputs": [],
   "source": [
    "# Filling the missing values of numerical attributes using mean\n",
    "cost_data['COST'] = cost_data['COST'].fillna(cost_data['COST'].mean())"
   ]
  },
  {
   "cell_type": "code",
   "execution_count": 22,
   "metadata": {},
   "outputs": [],
   "source": [
    "# Changing the datatype of Rating\n",
    "cost_data['RATING'] = cost_data['RATING'].astype('float')"
   ]
  },
  {
   "cell_type": "code",
   "execution_count": 23,
   "metadata": {},
   "outputs": [
    {
     "name": "stdout",
     "output_type": "stream",
     "text": [
      "<class 'pandas.core.frame.DataFrame'>\n",
      "Int64Index: 15293 entries, 0 to 16920\n",
      "Data columns (total 7 columns):\n",
      "CITY        15293 non-null object\n",
      "COST        15293 non-null float64\n",
      "CUISINES    15293 non-null object\n",
      "LOCALITY    15293 non-null object\n",
      "RATING      15293 non-null float64\n",
      "TITLE       15293 non-null object\n",
      "VOTES       15293 non-null int32\n",
      "dtypes: float64(2), int32(1), object(4)\n",
      "memory usage: 1.5+ MB\n"
     ]
    }
   ],
   "source": [
    "cost_data.info()"
   ]
  },
  {
   "cell_type": "code",
   "execution_count": 24,
   "metadata": {},
   "outputs": [
    {
     "data": {
      "text/plain": [
       "CITY        0\n",
       "COST        0\n",
       "CUISINES    0\n",
       "LOCALITY    0\n",
       "RATING      0\n",
       "TITLE       0\n",
       "VOTES       0\n",
       "dtype: int64"
      ]
     },
     "execution_count": 24,
     "metadata": {},
     "output_type": "execute_result"
    }
   ],
   "source": [
    "cost_data.isnull().sum()"
   ]
  },
  {
   "cell_type": "code",
   "execution_count": 25,
   "metadata": {},
   "outputs": [
    {
     "name": "stdout",
     "output_type": "stream",
     "text": [
      "Max number of cuisines serverd are :8\n"
     ]
    }
   ],
   "source": [
    "#Now we will find maximum number of cuisines resutarnt are serving\n",
    "MAX_CUISINES=-1\n",
    "for i in range(len(cost_data[\"CUISINES\"])):\n",
    "    temp=len(cost_data[\"CUISINES\"].iloc[i].split(\",\"))\n",
    "    if temp>MAX_CUISINES:\n",
    "        MAX_CUISINES=temp\n",
    "print(\"Max number of cuisines serverd are :{}\".format(MAX_CUISINES))"
   ]
  },
  {
   "cell_type": "code",
   "execution_count": 26,
   "metadata": {
    "collapsed": true
   },
   "outputs": [],
   "source": [
    "C1=list()\n",
    "C2=list()\n",
    "C3=list()\n",
    "C4=list()\n",
    "C5=list()\n",
    "C6=list()\n",
    "C7=list()\n",
    "C8=list()\n",
    "for i in range(len(cost_data[\"CUISINES\"])):\n",
    "    temp=cost_data[\"CUISINES\"].iloc[i].split(\",\")\n",
    "    try :\n",
    "        C1.append(temp[0].strip().upper())\n",
    "    except :\n",
    "        C1.append('NONE')\n",
    "    try :\n",
    "        C2.append(temp[1].strip().upper())\n",
    "    except :\n",
    "        C2.append('NONE')\n",
    "    try :\n",
    "        C3.append(temp[2].strip().upper())\n",
    "    except :\n",
    "        C3.append('NONE')\n",
    "    try :\n",
    "        C4.append(temp[3].strip().upper())\n",
    "    except :\n",
    "        C4.append('NONE')\n",
    "    try :\n",
    "        C5.append(temp[4].strip().upper())\n",
    "    except :\n",
    "        C5.append('NONE')\n",
    "    try :\n",
    "        C6.append(temp[5].strip().upper())\n",
    "    except :\n",
    "        C6.append('NONE')\n",
    "    try :\n",
    "        C7.append(temp[6].strip().upper())\n",
    "    except :\n",
    "        C7.append('NONE')\n",
    "    try :\n",
    "        C8.append(temp[7].strip().upper())\n",
    "    except :\n",
    "        C8.append('NONE')\n",
    "        \n",
    "cost_data[\"C1\"]=C1\n",
    "cost_data[\"C2\"]=C2\n",
    "cost_data[\"C3\"]=C3\n",
    "cost_data[\"C4\"]=C4\n",
    "cost_data[\"C5\"]=C5\n",
    "cost_data[\"C6\"]=C6\n",
    "cost_data[\"C7\"]=C7\n",
    "cost_data[\"C8\"]=C8"
   ]
  },
  {
   "cell_type": "code",
   "execution_count": 27,
   "metadata": {},
   "outputs": [
    {
     "name": "stdout",
     "output_type": "stream",
     "text": [
      "Max number of titles are :2\n"
     ]
    }
   ],
   "source": [
    "#Now we will divide the \"TITLE\" column into multiple columns\n",
    "#First we will find maximum number of TITLE resutarnt having\n",
    "max_titles=-1\n",
    "for i in range(len(cost_data[\"TITLE\"])):\n",
    "    temp=len(cost_data[\"TITLE\"].iloc[i].split(\",\"))\n",
    "    if temp>max_titles:\n",
    "        max_titles=temp\n",
    "print(\"Max number of titles are :{}\".format(max_titles))"
   ]
  },
  {
   "cell_type": "code",
   "execution_count": 28,
   "metadata": {
    "collapsed": true
   },
   "outputs": [],
   "source": [
    "T1=list()\n",
    "T2=list()\n",
    "for i in range(len(cost_data[\"TITLE\"])):\n",
    "    temp=cost_data[\"TITLE\"].iloc[i].split(\",\")\n",
    "    try :\n",
    "        T1.append(temp[0].strip().upper())\n",
    "    except :\n",
    "        T1.append('NONE')\n",
    "    try :\n",
    "        T2.append(temp[1].strip().upper())\n",
    "    except :\n",
    "        T2.append('NONE')\n",
    "\n",
    "cost_data[\"T1\"]=T1\n",
    "cost_data[\"T2\"]=T2"
   ]
  },
  {
   "cell_type": "code",
   "execution_count": 29,
   "metadata": {},
   "outputs": [
    {
     "data": {
      "text/html": [
       "<div>\n",
       "<style>\n",
       "    .dataframe thead tr:only-child th {\n",
       "        text-align: right;\n",
       "    }\n",
       "\n",
       "    .dataframe thead th {\n",
       "        text-align: left;\n",
       "    }\n",
       "\n",
       "    .dataframe tbody tr th {\n",
       "        vertical-align: top;\n",
       "    }\n",
       "</style>\n",
       "<table border=\"1\" class=\"dataframe\">\n",
       "  <thead>\n",
       "    <tr style=\"text-align: right;\">\n",
       "      <th></th>\n",
       "      <th>CITY</th>\n",
       "      <th>COST</th>\n",
       "      <th>CUISINES</th>\n",
       "      <th>LOCALITY</th>\n",
       "      <th>RATING</th>\n",
       "      <th>TITLE</th>\n",
       "      <th>VOTES</th>\n",
       "      <th>C1</th>\n",
       "      <th>C2</th>\n",
       "      <th>C3</th>\n",
       "      <th>C4</th>\n",
       "      <th>C5</th>\n",
       "      <th>C6</th>\n",
       "      <th>C7</th>\n",
       "      <th>C8</th>\n",
       "      <th>T1</th>\n",
       "      <th>T2</th>\n",
       "    </tr>\n",
       "  </thead>\n",
       "  <tbody>\n",
       "    <tr>\n",
       "      <th>0</th>\n",
       "      <td>Thane</td>\n",
       "      <td>1200.0</td>\n",
       "      <td>Malwani, Goan, North Indian</td>\n",
       "      <td>Dombivali East</td>\n",
       "      <td>3.6</td>\n",
       "      <td>CASUAL DINING</td>\n",
       "      <td>49</td>\n",
       "      <td>MALWANI</td>\n",
       "      <td>GOAN</td>\n",
       "      <td>NORTH INDIAN</td>\n",
       "      <td>NONE</td>\n",
       "      <td>NONE</td>\n",
       "      <td>NONE</td>\n",
       "      <td>NONE</td>\n",
       "      <td>NONE</td>\n",
       "      <td>CASUAL DINING</td>\n",
       "      <td>NONE</td>\n",
       "    </tr>\n",
       "    <tr>\n",
       "      <th>1</th>\n",
       "      <td>Thane</td>\n",
       "      <td>1500.0</td>\n",
       "      <td>Asian, Modern Indian, Japanese</td>\n",
       "      <td>Dombivali East</td>\n",
       "      <td>4.2</td>\n",
       "      <td>CASUAL DINING,BAR</td>\n",
       "      <td>30</td>\n",
       "      <td>ASIAN</td>\n",
       "      <td>MODERN INDIAN</td>\n",
       "      <td>JAPANESE</td>\n",
       "      <td>NONE</td>\n",
       "      <td>NONE</td>\n",
       "      <td>NONE</td>\n",
       "      <td>NONE</td>\n",
       "      <td>NONE</td>\n",
       "      <td>CASUAL DINING</td>\n",
       "      <td>BAR</td>\n",
       "    </tr>\n",
       "    <tr>\n",
       "      <th>2</th>\n",
       "      <td>Thane</td>\n",
       "      <td>800.0</td>\n",
       "      <td>North Indian, Chinese, Biryani, Hyderabadi</td>\n",
       "      <td>Dombivali East</td>\n",
       "      <td>3.8</td>\n",
       "      <td>CASUAL DINING</td>\n",
       "      <td>221</td>\n",
       "      <td>NORTH INDIAN</td>\n",
       "      <td>CHINESE</td>\n",
       "      <td>BIRYANI</td>\n",
       "      <td>HYDERABADI</td>\n",
       "      <td>NONE</td>\n",
       "      <td>NONE</td>\n",
       "      <td>NONE</td>\n",
       "      <td>NONE</td>\n",
       "      <td>CASUAL DINING</td>\n",
       "      <td>NONE</td>\n",
       "    </tr>\n",
       "  </tbody>\n",
       "</table>\n",
       "</div>"
      ],
      "text/plain": [
       "    CITY    COST                                    CUISINES        LOCALITY  \\\n",
       "0  Thane  1200.0                 Malwani, Goan, North Indian  Dombivali East   \n",
       "1  Thane  1500.0              Asian, Modern Indian, Japanese  Dombivali East   \n",
       "2  Thane   800.0  North Indian, Chinese, Biryani, Hyderabadi  Dombivali East   \n",
       "\n",
       "   RATING              TITLE  VOTES            C1             C2  \\\n",
       "0     3.6      CASUAL DINING     49       MALWANI           GOAN   \n",
       "1     4.2  CASUAL DINING,BAR     30         ASIAN  MODERN INDIAN   \n",
       "2     3.8      CASUAL DINING    221  NORTH INDIAN        CHINESE   \n",
       "\n",
       "             C3          C4    C5    C6    C7    C8             T1    T2  \n",
       "0  NORTH INDIAN        NONE  NONE  NONE  NONE  NONE  CASUAL DINING  NONE  \n",
       "1      JAPANESE        NONE  NONE  NONE  NONE  NONE  CASUAL DINING   BAR  \n",
       "2       BIRYANI  HYDERABADI  NONE  NONE  NONE  NONE  CASUAL DINING  NONE  "
      ]
     },
     "execution_count": 29,
     "metadata": {},
     "output_type": "execute_result"
    }
   ],
   "source": [
    "cost_data.head(3)"
   ]
  },
  {
   "cell_type": "code",
   "execution_count": 30,
   "metadata": {
    "collapsed": true
   },
   "outputs": [],
   "source": [
    "# We can drop CUISINE and TITLE columns\n",
    "cost_data.drop([\"CUISINES\",\"TITLE\"],axis=1,inplace=True)"
   ]
  },
  {
   "cell_type": "markdown",
   "metadata": {},
   "source": [
    "<b>Exploratotry Data Analysis</b>"
   ]
  },
  {
   "cell_type": "code",
   "execution_count": 44,
   "metadata": {},
   "outputs": [
    {
     "data": {
      "text/plain": [
       "<matplotlib.axes._subplots.AxesSubplot at 0x21977a1df60>"
      ]
     },
     "execution_count": 44,
     "metadata": {},
     "output_type": "execute_result"
    },
    {
     "data": {
      "image/png": "[encoded data removed]",
      "text/plain": [
       "<matplotlib.figure.Figure at 0x219778208d0>"
      ]
     },
     "metadata": {},
     "output_type": "display_data"
    }
   ],
   "source": [
    "sns.distplot(cost_data[\"VOTES\"])"
   ]
  },
  {
   "cell_type": "code",
   "execution_count": 34,
   "metadata": {},
   "outputs": [
    {
     "data": {
      "text/plain": [
       "<matplotlib.axes._subplots.AxesSubplot at 0x21974e820f0>"
      ]
     },
     "execution_count": 34,
     "metadata": {},
     "output_type": "execute_result"
    },
    {
     "data": {
      "image/png": "[encoded data removed]",
      "text/plain": [
       "<matplotlib.figure.Figure at 0x21974f045f8>"
      ]
     },
     "metadata": {},
     "output_type": "display_data"
    }
   ],
   "source": [
    "sns.distplot(cost_data[\"RATING\"])"
   ]
  },
  {
   "cell_type": "markdown",
   "metadata": {},
   "source": [
    "<b>Label Encoder</b>"
   ]
  },
  {
   "cell_type": "code",
   "execution_count": 45,
   "metadata": {},
   "outputs": [],
   "source": [
    "# Converting the categorical variables \n",
    "l=LabelEncoder()\n",
    "for col in cost_data.columns:\n",
    "    if cost_data[col].dtype==\"object\":\n",
    "        cost_data[col]=l.fit_transform(cost_data[col])"
   ]
  },
  {
   "cell_type": "markdown",
   "metadata": {},
   "source": [
    "<b>Dividing the input and output variables</b>"
   ]
  },
  {
   "cell_type": "code",
   "execution_count": 46,
   "metadata": {
    "collapsed": true
   },
   "outputs": [],
   "source": [
    "X= cost_data.drop([\"COST\"],axis=1)\n",
    "y= cost_data[\"COST\"]"
   ]
  },
  {
   "cell_type": "code",
   "execution_count": 47,
   "metadata": {
    "collapsed": true
   },
   "outputs": [],
   "source": [
    "# Lets bring the dataset features into same scle\n",
    "from sklearn.preprocessing import StandardScaler\n",
    "sr=StandardScaler()\n",
    "X=sr.fit_transform(X)"
   ]
  },
  {
   "cell_type": "markdown",
   "metadata": {},
   "source": [
    "<b>Splitting the data into train and test(70:30)</b>"
   ]
  },
  {
   "cell_type": "code",
   "execution_count": 48,
   "metadata": {
    "collapsed": true
   },
   "outputs": [],
   "source": [
    "# Splitting the data into train and test(70:30) ratio\n",
    "X_train, X_test, y_train, y_test= train_test_split(X,y, test_size=0.3)"
   ]
  },
  {
   "cell_type": "code",
   "execution_count": 49,
   "metadata": {
    "collapsed": true
   },
   "outputs": [],
   "source": [
    "# We are using R2 score to evaluate\n",
    "def max_r2_score(mod,X,y):\n",
    "    max_r2_score=0\n",
    "    for r_state in range(42,100):\n",
    "        X_train,X_test, y_train, y_test= train_test_split(X,y,test_size=0.30, random_state=r_state)\n",
    "        mod.fit(X_train,y_train)\n",
    "        y_pred= mod.predict(X_test)\n",
    "        score=r2_score(y_test,y_pred)\n",
    "        if score>max_r2_score:\n",
    "            max_r2_score=score\n",
    "            final_r2_score=r_state\n",
    "    print(\"Maximum R2_Score corresponding:\",final_r2_score,\" and it is :\",round((max_r2_score),2))"
   ]
  },
  {
   "cell_type": "markdown",
   "metadata": {},
   "source": [
    "# Machine Learning Models:"
   ]
  },
  {
   "cell_type": "markdown",
   "metadata": {},
   "source": [
    "As the target variable(COST) is numeric, its regression problem. We are implementing Decision Tree Regressor, Linear Regression, Random Forest Regressor, Gradient Boosting Regressor and SVM Regressor."
   ]
  },
  {
   "cell_type": "markdown",
   "metadata": {},
   "source": [
    "<b>Decision Tree Regressor</b>"
   ]
  },
  {
   "cell_type": "code",
   "execution_count": 50,
   "metadata": {},
   "outputs": [
    {
     "data": {
      "text/plain": [
       "{'criterion': 'mae',\n",
       " 'max_depth': 2,\n",
       " 'max_leaf_nodes': 20,\n",
       " 'min_samples_leaf': 60,\n",
       " 'min_samples_split': 10}"
      ]
     },
     "execution_count": 50,
     "metadata": {},
     "output_type": "execute_result"
    }
   ],
   "source": [
    "model1=DecisionTreeRegressor()\n",
    "param_grid = {\"criterion\": [\"mse\", \"mae\"],\n",
    "              \"min_samples_split\": [10, 20, 60],\n",
    "              \"max_depth\": [2,4,10],\n",
    "              \"min_samples_leaf\": [40, 60, 80],\n",
    "              \"max_leaf_nodes\": [5, 20, 60],\n",
    "              }\n",
    "model1=GridSearchCV(model1,param_grid,cv=10)\n",
    "model1.fit(X,y)\n",
    "model1.best_params_"
   ]
  },
  {
   "cell_type": "code",
   "execution_count": 51,
   "metadata": {},
   "outputs": [
    {
     "name": "stdout",
     "output_type": "stream",
     "text": [
      "Maximum R2_Score corresponding: 72  and it is : 0.17\n"
     ]
    }
   ],
   "source": [
    "model1=DecisionTreeRegressor(criterion=\"mae\",max_depth=2,max_leaf_nodes=20,min_samples_leaf=60,min_samples_split=10)\n",
    "max_r2_score(model1,X,y)"
   ]
  },
  {
   "cell_type": "code",
   "execution_count": 52,
   "metadata": {},
   "outputs": [],
   "source": [
    "pred_model1= model1.predict(X_test)\n",
    "score_model1= model1.score(X_test, y_test)"
   ]
  },
  {
   "cell_type": "code",
   "execution_count": 53,
   "metadata": {},
   "outputs": [
    {
     "name": "stdout",
     "output_type": "stream",
     "text": [
      "Mean R2 Score for Decision Tree Regressor: -2.1706096304070778e+29\n",
      "Standard Deviation in R2 Score for Decision Tree Regressor: 4.345414351828639e+29\n"
     ]
    }
   ],
   "source": [
    "# Cross validation score\n",
    "from sklearn.model_selection import cross_val_score\n",
    "mean_dt=cross_val_score(model1,X,y,cv=10,scoring=\"r2\").mean()\n",
    "print(\"Mean R2 Score for Decision Tree Regressor:\",mean_dt)\n",
    "std_dt=cross_val_score(model1,X,y,cv=10,scoring=\"r2\").std()\n",
    "print(\"Standard Deviation in R2 Score for Decision Tree Regressor:\",std_dt)"
   ]
  },
  {
   "cell_type": "code",
   "execution_count": 55,
   "metadata": {},
   "outputs": [
    {
     "data": {
      "text/plain": [
       "490.002264420509"
      ]
     },
     "execution_count": 55,
     "metadata": {},
     "output_type": "execute_result"
    }
   ],
   "source": [
    "from sklearn import metrics\n",
    "model1_rmse=np.sqrt(metrics.mean_squared_error(y_test,pred_model1))\n",
    "model1_rmse"
   ]
  },
  {
   "cell_type": "markdown",
   "metadata": {},
   "source": [
    "<b>Gradient Boosting Regressor</b>"
   ]
  },
  {
   "cell_type": "code",
   "execution_count": 56,
   "metadata": {},
   "outputs": [
    {
     "data": {
      "text/plain": [
       "{'learning_rate': 0.02, 'max_depth': 6, 'n_estimators': 50, 'subsample': 0.5}"
      ]
     },
     "execution_count": 56,
     "metadata": {},
     "output_type": "execute_result"
    }
   ],
   "source": [
    "model2 = GradientBoostingRegressor()\n",
    "parameters= {'learning_rate': [0.02,0.03], 'subsample': [0.5,0.7], 'n_estimators': [50,100], 'max_depth': [6,10]}\n",
    "model2= GridSearchCV(estimator=model2, param_grid= parameters, cv=5, n_jobs=-1)\n",
    "model2.fit(X,y)\n",
    "model2.best_params_"
   ]
  },
  {
   "cell_type": "code",
   "execution_count": 57,
   "metadata": {},
   "outputs": [
    {
     "name": "stdout",
     "output_type": "stream",
     "text": [
      "Maximum R2_Score corresponding: 72  and it is : 0.47\n"
     ]
    }
   ],
   "source": [
    "model2 = GradientBoostingRegressor(learning_rate=0.02,max_depth=6,n_estimators=50,subsample=0.5)\n",
    "max_r2_score(model2,X,y)"
   ]
  },
  {
   "cell_type": "code",
   "execution_count": 58,
   "metadata": {},
   "outputs": [],
   "source": [
    "pred_model2= model2.predict(X_test)\n",
    "score_model2= model2.score(X_test, y_test)"
   ]
  },
  {
   "cell_type": "code",
   "execution_count": 59,
   "metadata": {},
   "outputs": [
    {
     "name": "stdout",
     "output_type": "stream",
     "text": [
      "Mean R2 Score for Gradient Boosting Regressor: -2.9665510680060595e+29\n",
      "Standard Deviation in R2 Score for Gradient Boosting Regression: 5.9427521677260875e+29\n"
     ]
    }
   ],
   "source": [
    "# Cross validation score\n",
    "mean_model2=cross_val_score(model2,X,y,cv=10,scoring=\"r2\").mean()\n",
    "print(\"Mean R2 Score for Gradient Boosting Regressor:\",mean_model2)\n",
    "std_model2=cross_val_score(model2,X,y,cv=10,scoring=\"r2\").std()\n",
    "print(\"Standard Deviation in R2 Score for Gradient Boosting Regression:\",std_model2)"
   ]
  },
  {
   "cell_type": "code",
   "execution_count": 60,
   "metadata": {},
   "outputs": [
    {
     "data": {
      "text/plain": [
       "382.58502914141735"
      ]
     },
     "execution_count": 60,
     "metadata": {},
     "output_type": "execute_result"
    }
   ],
   "source": [
    "# RMSE\n",
    "from sklearn import metrics\n",
    "model2_rmse=np.sqrt(metrics.mean_squared_error(y_test,pred_model2))\n",
    "model2_rmse"
   ]
  },
  {
   "cell_type": "markdown",
   "metadata": {},
   "source": [
    "<b>Random Forest Regressor</b>"
   ]
  },
  {
   "cell_type": "code",
   "execution_count": 62,
   "metadata": {},
   "outputs": [
    {
     "data": {
      "text/plain": [
       "{'max_depth': 100,\n",
       " 'max_features': 2,\n",
       " 'min_samples_leaf': 5,\n",
       " 'min_samples_split': 12,\n",
       " 'n_estimators': 100}"
      ]
     },
     "execution_count": 62,
     "metadata": {},
     "output_type": "execute_result"
    }
   ],
   "source": [
    "model3=RandomForestRegressor()\n",
    "param_grid = {\n",
    "    'max_depth': [80, 100],\n",
    "    'max_features': [2, 3],\n",
    "    'min_samples_leaf': [3, 5],\n",
    "    'min_samples_split': [10, 12],\n",
    "    'n_estimators': [100, 500]\n",
    "}\n",
    "model3= GridSearchCV(model3, param_grid,cv=5)\n",
    "model3.fit(X,y)\n",
    "model3.best_params_"
   ]
  },
  {
   "cell_type": "code",
   "execution_count": 64,
   "metadata": {},
   "outputs": [
    {
     "name": "stdout",
     "output_type": "stream",
     "text": [
      "Maximum R2_Score corresponding: 72  and it is : 0.46\n"
     ]
    }
   ],
   "source": [
    "model3=RandomForestRegressor(max_depth=100,max_features=2,min_samples_leaf=5,min_samples_split=12,n_estimators=100)\n",
    "max_r2_score(model3,X,y)"
   ]
  },
  {
   "cell_type": "code",
   "execution_count": 65,
   "metadata": {
    "collapsed": true
   },
   "outputs": [],
   "source": [
    "pred_model3= model3.predict(X_test)\n",
    "score_model3= model3.score(X_test, y_test)"
   ]
  },
  {
   "cell_type": "code",
   "execution_count": 66,
   "metadata": {},
   "outputs": [
    {
     "name": "stdout",
     "output_type": "stream",
     "text": [
      "Mean R2 Score for Random Forest Regressor: -3.326047795209187e+29\n",
      "Standard Deviation in R2 Score for Random Forest Regression: 7.362707078367388e+29\n"
     ]
    }
   ],
   "source": [
    "# Cross validation score\n",
    "mean_rf=cross_val_score(model3,X,y,cv=10,scoring=\"r2\").mean()\n",
    "print(\"Mean R2 Score for Random Forest Regressor:\",mean_rf)\n",
    "std_rf=cross_val_score(model3,X,y,cv=10,scoring=\"r2\").std()\n",
    "print(\"Standard Deviation in R2 Score for Random Forest Regression:\",std_rf)"
   ]
  },
  {
   "cell_type": "code",
   "execution_count": 67,
   "metadata": {},
   "outputs": [
    {
     "data": {
      "text/plain": [
       "375.8185650606107"
      ]
     },
     "execution_count": 67,
     "metadata": {},
     "output_type": "execute_result"
    }
   ],
   "source": [
    "# RMSE\n",
    "rf_se=np.sqrt(mean_squared_error(y_test,pred_model3))\n",
    "rf_se"
   ]
  },
  {
   "cell_type": "markdown",
   "metadata": {},
   "source": [
    "# Evaluation:"
   ]
  },
  {
   "cell_type": "code",
   "execution_count": 68,
   "metadata": {},
   "outputs": [
    {
     "data": {
      "text/html": [
       "<div>\n",
       "<style>\n",
       "    .dataframe thead tr:only-child th {\n",
       "        text-align: right;\n",
       "    }\n",
       "\n",
       "    .dataframe thead th {\n",
       "        text-align: left;\n",
       "    }\n",
       "\n",
       "    .dataframe tbody tr th {\n",
       "        vertical-align: top;\n",
       "    }\n",
       "</style>\n",
       "<table border=\"1\" class=\"dataframe\">\n",
       "  <thead>\n",
       "    <tr style=\"text-align: right;\">\n",
       "      <th></th>\n",
       "      <th>Model Name</th>\n",
       "      <th>RMSE</th>\n",
       "    </tr>\n",
       "  </thead>\n",
       "  <tbody>\n",
       "    <tr>\n",
       "      <th>1</th>\n",
       "      <td>Decision Tree Regressor</td>\n",
       "      <td>490.002264</td>\n",
       "    </tr>\n",
       "    <tr>\n",
       "      <th>2</th>\n",
       "      <td>Gradient Boosting Regressor</td>\n",
       "      <td>382.585029</td>\n",
       "    </tr>\n",
       "    <tr>\n",
       "      <th>3</th>\n",
       "      <td>Random Forest Regressor</td>\n",
       "      <td>375.818565</td>\n",
       "    </tr>\n",
       "  </tbody>\n",
       "</table>\n",
       "</div>"
      ],
      "text/plain": [
       "                    Model Name        RMSE\n",
       "1      Decision Tree Regressor  490.002264\n",
       "2  Gradient Boosting Regressor  382.585029\n",
       "3      Random Forest Regressor  375.818565"
      ]
     },
     "execution_count": 68,
     "metadata": {},
     "output_type": "execute_result"
    }
   ],
   "source": [
    "#Lets initialise the data frame with columns model with r2_score and RMSE value\n",
    "evaluate= [[\"Decision Tree Regressor\",model1_rmse],[\"Gradient Boosting Regressor\",model2_rmse],[\"Random Forest Regressor\",rf_se]]\n",
    "result= pd.DataFrame(evaluate, columns=[\"Model Name\",\"RMSE\"], index=[1,2,3])\n",
    "result"
   ]
  },
  {
   "cell_type": "markdown",
   "metadata": {},
   "source": [
    "<b>Observations:</b>\n",
    "<li> As the target variable is numerical, we have calculated R2 Score and evaluated RMSE for the performance of the models.</li>\n",
    "<li>From the above Model Evaluation, we can see that Random Forest Regressor performed well with lowest RMSE (375.818565).</li>"
   ]
  },
  {
   "cell_type": "markdown",
   "metadata": {},
   "source": [
    "<b>Saving the Prediction</b>"
   ]
  },
  {
   "cell_type": "markdown",
   "metadata": {},
   "source": [
    "As the Random Forest regressor performed well among all the models, we are saving the prediction."
   ]
  },
  {
   "cell_type": "code",
   "execution_count": 69,
   "metadata": {
    "collapsed": true
   },
   "outputs": [],
   "source": [
    "np.savetxt('Model19.csv',pred_model3,delimiter=',')"
   ]
  },
  {
   "cell_type": "code",
   "execution_count": 70,
   "metadata": {},
   "outputs": [
    {
     "data": {
      "text/plain": [
       "['project19.pkl']"
      ]
     },
     "execution_count": 70,
     "metadata": {},
     "output_type": "execute_result"
    }
   ],
   "source": [
    "#Lets save the above model\n",
    "from sklearn.externals import joblib \n",
    "  \n",
    "# Save the model as a pickle in a file \n",
    "joblib.dump(model3, 'project19.pkl')"
   ]
  }
 ],
 "metadata": {
  "kernelspec": {
   "display_name": "Python 3",
   "language": "python",
   "name": "python3"
  },
  "language_info": {
   "codemirror_mode": {
    "name": "ipython",
    "version": 3
   },
   "file_extension": ".py",
   "mimetype": "text/x-python",
   "name": "python",
   "nbconvert_exporter": "python",
   "pygments_lexer": "ipython3",
   "version": "3.6.1"
  }
 },
 "nbformat": 4,
 "nbformat_minor": 2
}
