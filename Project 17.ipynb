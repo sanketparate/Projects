{
 "cells": [
  {
   "cell_type": "markdown",
   "metadata": {},
   "source": [
    "Predict The Flight Ticket Price \n",
    "Flight ticket prices can be something hard to guess, today we might see a price, check out the price of the same flight tomorrow, it will be a different story. We might have often heard travellers saying that flight ticket prices are so unpredictable. Here you will be provided with prices of flight tickets for various airlines between the months of March and June of 2019 and between various cities.\n",
    "\n",
    "Dataset: https://github.com/dsrscientist/Data-Science-ML-Capstone-Projects/blob/master/Flight_Ticket_Participant_Datasets-20190305T100527Z-001.zip\n",
    "\n",
    "Size of training set: 10683 records\n",
    "\n",
    "Size of test set: 2671 records\n",
    "\n",
    "<b>FEATURES:</b>\n",
    "<b>Airline:</b> The name of the airline.\n",
    "\n",
    "<b>Date_of_Journey:</b> The date of the journey\n",
    "\n",
    "<b>Source:</b> The source from which the service begins.\n",
    "\n",
    "<b>Destination:</b> The destination where the service ends.\n",
    "\n",
    "<b>Route:</b> The route taken by the flight to reach the destination.\n",
    "\n",
    "<b>Dep_Time:</b> The time when the journey starts from the source.\n",
    "\n",
    "<b>Arrival_Time:</b> Time of arrival at the destination.\n",
    "\n",
    "<b>Duration:</b> Total duration of the flight.\n",
    "\n",
    "<b>Total_Stops:</b> Total stops between the source and destination.\n",
    "\n",
    "<b>Additional_Info:</b> Additional information about the flight\n",
    "\n",
    "<b>Price:</b> The price of the ticket"
   ]
  },
  {
   "cell_type": "markdown",
   "metadata": {
    "collapsed": true
   },
   "source": [
    "<b>Importing Necessary Libraries</b>"
   ]
  },
  {
   "cell_type": "code",
   "execution_count": 130,
   "metadata": {
    "collapsed": true
   },
   "outputs": [],
   "source": [
    "import warnings\n",
    "warnings.filterwarnings(\"ignore\")\n",
    "from scipy.stats import zscore\n",
    "import pandas as pd\n",
    "from sklearn.preprocessing import StandardScaler\n",
    "import missingno as msno \n",
    "from sklearn.model_selection import train_test_split\n",
    "import os\n",
    "import numpy as np\n",
    "from sklearn.tree import DecisionTreeRegressor\n",
    "from sklearn.ensemble import RandomForestRegressor\n",
    "from sklearn.neighbors import KNeighborsRegressor\n",
    "from sklearn.ensemble import GradientBoostingRegressor\n",
    "import matplotlib.pyplot as plt\n",
    "%matplotlib inline\n",
    "import seaborn as sns\n",
    "from sklearn.model_selection import GridSearchCV\n",
    "os.chdir(\"C:/Users/SANKET/Music/Projects/Flight_Ticket_Participant_Datasets\")"
   ]
  },
  {
   "cell_type": "code",
   "execution_count": 58,
   "metadata": {},
   "outputs": [
    {
     "name": "stdout",
     "output_type": "stream",
     "text": [
      "The shape of training data (10683, 11)\n",
      "The shape of test data (2671, 10)\n"
     ]
    }
   ],
   "source": [
    "# Reading the Dataset\n",
    "ticket_train= pd.read_excel(\"Data_Train.xlsx\")\n",
    "print(\"The shape of training data\",ticket_train.shape)\n",
    "ticket_test=pd.read_excel(\"Test_set.xlsx\")\n",
    "print(\"The shape of test data\",ticket_test.shape)"
   ]
  },
  {
   "cell_type": "code",
   "execution_count": 59,
   "metadata": {},
   "outputs": [
    {
     "data": {
      "text/html": [
       "<div>\n",
       "<style>\n",
       "    .dataframe thead tr:only-child th {\n",
       "        text-align: right;\n",
       "    }\n",
       "\n",
       "    .dataframe thead th {\n",
       "        text-align: left;\n",
       "    }\n",
       "\n",
       "    .dataframe tbody tr th {\n",
       "        vertical-align: top;\n",
       "    }\n",
       "</style>\n",
       "<table border=\"1\" class=\"dataframe\">\n",
       "  <thead>\n",
       "    <tr style=\"text-align: right;\">\n",
       "      <th></th>\n",
       "      <th>Additional_Info</th>\n",
       "      <th>Airline</th>\n",
       "      <th>Arrival_Time</th>\n",
       "      <th>Date_of_Journey</th>\n",
       "      <th>Dep_Time</th>\n",
       "      <th>Destination</th>\n",
       "      <th>Duration</th>\n",
       "      <th>Price</th>\n",
       "      <th>Route</th>\n",
       "      <th>Source</th>\n",
       "      <th>Total_Stops</th>\n",
       "    </tr>\n",
       "  </thead>\n",
       "  <tbody>\n",
       "    <tr>\n",
       "      <th>0</th>\n",
       "      <td>No info</td>\n",
       "      <td>IndiGo</td>\n",
       "      <td>01:10 22 Mar</td>\n",
       "      <td>24/03/2019</td>\n",
       "      <td>22:20</td>\n",
       "      <td>New Delhi</td>\n",
       "      <td>2h 50m</td>\n",
       "      <td>3897.0</td>\n",
       "      <td>BLR → DEL</td>\n",
       "      <td>Banglore</td>\n",
       "      <td>non-stop</td>\n",
       "    </tr>\n",
       "    <tr>\n",
       "      <th>1</th>\n",
       "      <td>No info</td>\n",
       "      <td>Air India</td>\n",
       "      <td>13:15</td>\n",
       "      <td>1/05/2019</td>\n",
       "      <td>05:50</td>\n",
       "      <td>Banglore</td>\n",
       "      <td>7h 25m</td>\n",
       "      <td>7662.0</td>\n",
       "      <td>CCU → IXR → BBI → BLR</td>\n",
       "      <td>Kolkata</td>\n",
       "      <td>2 stops</td>\n",
       "    </tr>\n",
       "    <tr>\n",
       "      <th>2</th>\n",
       "      <td>No info</td>\n",
       "      <td>Jet Airways</td>\n",
       "      <td>04:25 10 Jun</td>\n",
       "      <td>9/06/2019</td>\n",
       "      <td>09:25</td>\n",
       "      <td>Cochin</td>\n",
       "      <td>19h</td>\n",
       "      <td>13882.0</td>\n",
       "      <td>DEL → LKO → BOM → COK</td>\n",
       "      <td>Delhi</td>\n",
       "      <td>2 stops</td>\n",
       "    </tr>\n",
       "    <tr>\n",
       "      <th>3</th>\n",
       "      <td>No info</td>\n",
       "      <td>IndiGo</td>\n",
       "      <td>23:30</td>\n",
       "      <td>12/05/2019</td>\n",
       "      <td>18:05</td>\n",
       "      <td>Banglore</td>\n",
       "      <td>5h 25m</td>\n",
       "      <td>6218.0</td>\n",
       "      <td>CCU → NAG → BLR</td>\n",
       "      <td>Kolkata</td>\n",
       "      <td>1 stop</td>\n",
       "    </tr>\n",
       "    <tr>\n",
       "      <th>4</th>\n",
       "      <td>No info</td>\n",
       "      <td>IndiGo</td>\n",
       "      <td>21:35</td>\n",
       "      <td>01/03/2019</td>\n",
       "      <td>16:50</td>\n",
       "      <td>New Delhi</td>\n",
       "      <td>4h 45m</td>\n",
       "      <td>13302.0</td>\n",
       "      <td>BLR → NAG → DEL</td>\n",
       "      <td>Banglore</td>\n",
       "      <td>1 stop</td>\n",
       "    </tr>\n",
       "  </tbody>\n",
       "</table>\n",
       "</div>"
      ],
      "text/plain": [
       "  Additional_Info      Airline  Arrival_Time Date_of_Journey Dep_Time  \\\n",
       "0         No info       IndiGo  01:10 22 Mar      24/03/2019    22:20   \n",
       "1         No info    Air India         13:15       1/05/2019    05:50   \n",
       "2         No info  Jet Airways  04:25 10 Jun       9/06/2019    09:25   \n",
       "3         No info       IndiGo         23:30      12/05/2019    18:05   \n",
       "4         No info       IndiGo         21:35      01/03/2019    16:50   \n",
       "\n",
       "  Destination Duration    Price                  Route    Source Total_Stops  \n",
       "0   New Delhi   2h 50m   3897.0              BLR → DEL  Banglore    non-stop  \n",
       "1    Banglore   7h 25m   7662.0  CCU → IXR → BBI → BLR   Kolkata     2 stops  \n",
       "2      Cochin      19h  13882.0  DEL → LKO → BOM → COK     Delhi     2 stops  \n",
       "3    Banglore   5h 25m   6218.0        CCU → NAG → BLR   Kolkata      1 stop  \n",
       "4   New Delhi   4h 45m  13302.0        BLR → NAG → DEL  Banglore      1 stop  "
      ]
     },
     "execution_count": 59,
     "metadata": {},
     "output_type": "execute_result"
    }
   ],
   "source": [
    "# Merging the datasets\n",
    "ticket=pd.concat([ticket_train, ticket_test],ignore_index=True)\n",
    "ticket.head()"
   ]
  },
  {
   "cell_type": "code",
   "execution_count": 60,
   "metadata": {},
   "outputs": [
    {
     "data": {
      "text/plain": [
       "(13354, 11)"
      ]
     },
     "execution_count": 60,
     "metadata": {},
     "output_type": "execute_result"
    }
   ],
   "source": [
    "ticket.shape"
   ]
  },
  {
   "cell_type": "markdown",
   "metadata": {},
   "source": [
    "<b>Observation:</b>\n",
    "There are 13354 rows and 11 columns in the dataset."
   ]
  },
  {
   "cell_type": "code",
   "execution_count": 61,
   "metadata": {},
   "outputs": [
    {
     "data": {
      "text/plain": [
       "Additional_Info     object\n",
       "Airline             object\n",
       "Arrival_Time        object\n",
       "Date_of_Journey     object\n",
       "Dep_Time            object\n",
       "Destination         object\n",
       "Duration            object\n",
       "Price              float64\n",
       "Route               object\n",
       "Source              object\n",
       "Total_Stops         object\n",
       "dtype: object"
      ]
     },
     "execution_count": 61,
     "metadata": {},
     "output_type": "execute_result"
    }
   ],
   "source": [
    "ticket.dtypes"
   ]
  },
  {
   "cell_type": "markdown",
   "metadata": {},
   "source": [
    "<b>Observation:</b>\n",
    "There are 11 attributes, out of which there are 10 attributes are of object datatype and 1 attribute is of float datatype."
   ]
  },
  {
   "cell_type": "markdown",
   "metadata": {},
   "source": [
    "<b>Checking the Missing Value in the Dataset</b>"
   ]
  },
  {
   "cell_type": "code",
   "execution_count": 62,
   "metadata": {},
   "outputs": [
    {
     "data": {
      "text/plain": [
       "Additional_Info       0\n",
       "Airline               0\n",
       "Arrival_Time          0\n",
       "Date_of_Journey       0\n",
       "Dep_Time              0\n",
       "Destination           0\n",
       "Duration              0\n",
       "Price              2671\n",
       "Route                 1\n",
       "Source                0\n",
       "Total_Stops           1\n",
       "dtype: int64"
      ]
     },
     "execution_count": 62,
     "metadata": {},
     "output_type": "execute_result"
    }
   ],
   "source": [
    "ticket.isnull().sum()"
   ]
  },
  {
   "cell_type": "markdown",
   "metadata": {},
   "source": [
    "<b>Observation:</b>\n",
    "There are missing values in the attributes(Price, Route, Total_Stops)."
   ]
  },
  {
   "cell_type": "code",
   "execution_count": 63,
   "metadata": {
    "collapsed": true
   },
   "outputs": [],
   "source": [
    "# Filling the missing values of numerical attributes using mean\n",
    "ticket['Price'] = ticket['Price'].fillna(ticket['Price'].mean())"
   ]
  },
  {
   "cell_type": "code",
   "execution_count": 64,
   "metadata": {
    "collapsed": true
   },
   "outputs": [],
   "source": [
    "# Filling the missing values of categorical attributes using mode\n",
    "for column in ticket[[\"Route\",\"Total_Stops\"]]:\n",
    "    mode = ticket[column].mode()\n",
    "    ticket[column] = ticket[column].fillna(mode)[0]"
   ]
  },
  {
   "cell_type": "code",
   "execution_count": 65,
   "metadata": {},
   "outputs": [
    {
     "data": {
      "text/plain": [
       "Additional_Info    0\n",
       "Airline            0\n",
       "Arrival_Time       0\n",
       "Date_of_Journey    0\n",
       "Dep_Time           0\n",
       "Destination        0\n",
       "Duration           0\n",
       "Price              0\n",
       "Route              0\n",
       "Source             0\n",
       "Total_Stops        0\n",
       "dtype: int64"
      ]
     },
     "execution_count": 65,
     "metadata": {},
     "output_type": "execute_result"
    }
   ],
   "source": [
    "ticket.isnull().sum()"
   ]
  },
  {
   "cell_type": "code",
   "execution_count": 66,
   "metadata": {
    "collapsed": true
   },
   "outputs": [],
   "source": [
    "ticket[\"Arrival_Time\"]= pd.to_datetime(ticket[\"Arrival_Time\"])\n",
    "ticket[\"Dep_Time\"]= pd.to_datetime(ticket[\"Dep_Time\"])"
   ]
  },
  {
   "cell_type": "code",
   "execution_count": 67,
   "metadata": {
    "collapsed": true
   },
   "outputs": [],
   "source": [
    "x=(ticket[\"Arrival_Time\"]-ticket[\"Dep_Time\"])\n",
    "Duration=list()\n",
    "for i in range(len(x)):\n",
    "    period=x.iloc[i].seconds/3600\n",
    "    Duration.append(period)\n",
    "ticket[\"Duration\"]=Duration"
   ]
  },
  {
   "cell_type": "code",
   "execution_count": 68,
   "metadata": {
    "collapsed": true
   },
   "outputs": [],
   "source": [
    "# Lets drop the attribute Arrival_Time\n",
    "ticket.drop([\"Arrival_Time\"],axis=1,inplace=True)"
   ]
  },
  {
   "cell_type": "code",
   "execution_count": 69,
   "metadata": {},
   "outputs": [
    {
     "data": {
      "text/plain": [
       "No info                         10493\n",
       "In-flight meal not included      2426\n",
       "No check-in baggage included      396\n",
       "1 Long layover                     20\n",
       "Change airports                     8\n",
       "Business class                      5\n",
       "No Info                             3\n",
       "Red-eye flight                      1\n",
       "2 Long layover                      1\n",
       "1 Short layover                     1\n",
       "Name: Additional_Info, dtype: int64"
      ]
     },
     "execution_count": 69,
     "metadata": {},
     "output_type": "execute_result"
    }
   ],
   "source": [
    "ticket[\"Additional_Info\"].value_counts()"
   ]
  },
  {
   "cell_type": "code",
   "execution_count": 70,
   "metadata": {},
   "outputs": [
    {
     "data": {
      "text/plain": [
       "Jet Airways                          4746\n",
       "IndiGo                               2564\n",
       "Air India                            2192\n",
       "Multiple carriers                    1543\n",
       "SpiceJet                             1026\n",
       "Vistara                               608\n",
       "Air Asia                              405\n",
       "GoAir                                 240\n",
       "Multiple carriers Premium economy      16\n",
       "Jet Airways Business                    8\n",
       "Vistara Premium economy                 5\n",
       "Trujet                                  1\n",
       "Name: Airline, dtype: int64"
      ]
     },
     "execution_count": 70,
     "metadata": {},
     "output_type": "execute_result"
    }
   ],
   "source": [
    "ticket[\"Airline\"].value_counts()"
   ]
  },
  {
   "cell_type": "code",
   "execution_count": 71,
   "metadata": {
    "collapsed": true
   },
   "outputs": [],
   "source": [
    "#\"No info\" and \"No Info\" are one and same thing and repaced by \"No Info\"\n",
    "#For airlines we can combine the last few to their main tag as they are vey less in counts\n",
    "ticket[\"Additional_Info\"].replace(\"1 Long layover\",\"Long layover\",inplace=True)\n",
    "ticket[\"Additional_Info\"].replace(\"2 Long layover\",\"Long layover\",inplace=True)\n",
    "ticket[\"Additional_Info\"].replace(\"No info\",\"No Info\",inplace=True)\n",
    "ticket[\"Airline\"].replace(\"Jet Airways Business\",\"Jet Airways\",inplace=True)\n",
    "ticket[\"Airline\"].replace(\"Multiple carriers Premium economy\",\"Multiple carriers\",inplace=True)\n",
    "ticket[\"Airline\"].replace(\"Vistara Premium economy\",\"Vistara\",inplace=True)"
   ]
  },
  {
   "cell_type": "code",
   "execution_count": 72,
   "metadata": {},
   "outputs": [
    {
     "data": {
      "text/plain": [
       "Cochin       5682\n",
       "Banglore     3581\n",
       "Delhi        1582\n",
       "New Delhi    1170\n",
       "Hyderabad     883\n",
       "Kolkata       456\n",
       "Name: Destination, dtype: int64"
      ]
     },
     "execution_count": 72,
     "metadata": {},
     "output_type": "execute_result"
    }
   ],
   "source": [
    "ticket[\"Destination\"].value_counts()"
   ]
  },
  {
   "cell_type": "code",
   "execution_count": 73,
   "metadata": {
    "collapsed": true
   },
   "outputs": [],
   "source": [
    "#In Destination column \"New Delhi\" can be replaced by \"Delhi\"\n",
    "ticket[\"Destination\"].replace(\"New Delhi\",\"Delhi\",inplace=True)"
   ]
  },
  {
   "cell_type": "code",
   "execution_count": 75,
   "metadata": {
    "collapsed": true
   },
   "outputs": [],
   "source": [
    "# Now we need to exract features from dep_time\n",
    "ticket[\"time_of_day\"]=np.where((ticket[\"Dep_Time\"].dt.hour>=0)&(ticket[\"Dep_Time\"].dt.hour<=2),\"Late Night\",np.where((ticket[\"Dep_Time\"].dt.hour>=3)&(ticket[\"Dep_Time\"].dt.hour<=7),\"Early Morning\",np.where((ticket[\"Dep_Time\"].dt.hour>=8)&(ticket[\"Dep_Time\"].dt.hour<=11),\"Morning\",np.where((ticket[\"Dep_Time\"].dt.hour>=12)&(ticket[\"Dep_Time\"].dt.hour<=16),\"Afternoon\",np.where((ticket[\"Dep_Time\"].dt.hour>=17)&(ticket[\"Dep_Time\"].dt.hour<=19),\"Evening\",\"Night\")))))"
   ]
  },
  {
   "cell_type": "code",
   "execution_count": 76,
   "metadata": {
    "collapsed": true
   },
   "outputs": [],
   "source": [
    "#Some of the columns we can drop like \"Date_of_Journey\",\"Route\"\n",
    "ticket.drop([\"Date_of_Journey\",\"Route\"],axis=1,inplace=True)"
   ]
  },
  {
   "cell_type": "markdown",
   "metadata": {},
   "source": [
    "<b>Exploratory Data Analysis</b>"
   ]
  },
  {
   "cell_type": "code",
   "execution_count": 79,
   "metadata": {},
   "outputs": [
    {
     "data": {
      "image/png": "[encoded data removed]",
      "text/plain": [
       "<matplotlib.figure.Figure at 0x23247fc0160>"
      ]
     },
     "metadata": {},
     "output_type": "display_data"
    }
   ],
   "source": [
    "sns.barplot(x=\"time_of_day\",y=\"Price\",data=ticket)\n",
    "plt.show()"
   ]
  },
  {
   "cell_type": "markdown",
   "metadata": {},
   "source": [
    "<b>Observation:</b>\n",
    "Most ticket are booked in Morning and Afternoon."
   ]
  },
  {
   "cell_type": "code",
   "execution_count": 85,
   "metadata": {},
   "outputs": [
    {
     "data": {
      "image/png": "[encoded data removed]",
      "text/plain": [
       "<matplotlib.figure.Figure at 0x2324a2b1470>"
      ]
     },
     "metadata": {},
     "output_type": "display_data"
    }
   ],
   "source": [
    "plt.figure(figsize=(18,3))\n",
    "sns.barplot(x=\"Airline\",y=\"Price\",data=ticket)\n",
    "plt.show()"
   ]
  },
  {
   "cell_type": "markdown",
   "metadata": {},
   "source": [
    "<b>Observation:</b>\n",
    "People prefer travelling in Jet Airways."
   ]
  },
  {
   "cell_type": "code",
   "execution_count": 91,
   "metadata": {},
   "outputs": [
    {
     "data": {
      "image/png": "[encoded data removed]",
      "text/plain": [
       "<matplotlib.figure.Figure at 0x2324c345908>"
      ]
     },
     "metadata": {},
     "output_type": "display_data"
    }
   ],
   "source": [
    "plt.figure(figsize=(18,6))\n",
    "sns.countplot(x=\"Source\",hue=\"Airline\",data=ticket,palette=\"Set2\")\n",
    "plt.show()"
   ]
  },
  {
   "cell_type": "markdown",
   "metadata": {},
   "source": [
    "<b>Observation:</b>\n",
    "People prefer travelling in Jet Airways and source is Delhi."
   ]
  },
  {
   "cell_type": "code",
   "execution_count": 92,
   "metadata": {},
   "outputs": [
    {
     "data": {
      "image/png": "[encoded data removed]",
      "text/plain": [
       "<matplotlib.figure.Figure at 0x23249edd0b8>"
      ]
     },
     "metadata": {},
     "output_type": "display_data"
    }
   ],
   "source": [
    "sns.barplot(x=\"Source\",y=\"Price\",data=ticket,palette=\"winter\")\n",
    "plt.show()"
   ]
  },
  {
   "cell_type": "markdown",
   "metadata": {},
   "source": [
    "<b>Observation:</b>\n",
    "Mostly people travel from Delhi."
   ]
  },
  {
   "cell_type": "code",
   "execution_count": 93,
   "metadata": {
    "collapsed": true
   },
   "outputs": [],
   "source": [
    "# Dropping the Deep_Time\n",
    "ticket.drop([\"Dep_Time\"],axis=1,inplace=True)"
   ]
  },
  {
   "cell_type": "code",
   "execution_count": 95,
   "metadata": {},
   "outputs": [
    {
     "data": {
      "text/html": [
       "<div>\n",
       "<style>\n",
       "    .dataframe thead tr:only-child th {\n",
       "        text-align: right;\n",
       "    }\n",
       "\n",
       "    .dataframe thead th {\n",
       "        text-align: left;\n",
       "    }\n",
       "\n",
       "    .dataframe tbody tr th {\n",
       "        vertical-align: top;\n",
       "    }\n",
       "</style>\n",
       "<table border=\"1\" class=\"dataframe\">\n",
       "  <thead>\n",
       "    <tr style=\"text-align: right;\">\n",
       "      <th></th>\n",
       "      <th>Duration</th>\n",
       "      <th>Price</th>\n",
       "    </tr>\n",
       "  </thead>\n",
       "  <tbody>\n",
       "    <tr>\n",
       "      <th>Duration</th>\n",
       "      <td>1.000000</td>\n",
       "      <td>0.403378</td>\n",
       "    </tr>\n",
       "    <tr>\n",
       "      <th>Price</th>\n",
       "      <td>0.403378</td>\n",
       "      <td>1.000000</td>\n",
       "    </tr>\n",
       "  </tbody>\n",
       "</table>\n",
       "</div>"
      ],
      "text/plain": [
       "          Duration     Price\n",
       "Duration  1.000000  0.403378\n",
       "Price     0.403378  1.000000"
      ]
     },
     "execution_count": 95,
     "metadata": {},
     "output_type": "execute_result"
    }
   ],
   "source": [
    "ticket.corr()"
   ]
  },
  {
   "cell_type": "code",
   "execution_count": 97,
   "metadata": {
    "collapsed": true
   },
   "outputs": [],
   "source": [
    "# Converting the categorical variables\n",
    "ticket=pd.get_dummies(ticket,columns=[\"Additional_Info\",\"Airline\",\"Destination\",\"Source\",\"Total_Stops\",\"time_of_day\"],drop_first=True)"
   ]
  },
  {
   "cell_type": "markdown",
   "metadata": {},
   "source": [
    "<b>Dividing the input and output variables</b>"
   ]
  },
  {
   "cell_type": "code",
   "execution_count": 100,
   "metadata": {
    "collapsed": true
   },
   "outputs": [],
   "source": [
    "X= ticket.drop([\"Price\"],axis=1)\n",
    "y= ticket[\"Price\"]"
   ]
  },
  {
   "cell_type": "code",
   "execution_count": 101,
   "metadata": {
    "collapsed": true
   },
   "outputs": [],
   "source": [
    "# Lets bring the dataset features into same scale\n",
    "sc=StandardScaler()\n",
    "X= sc.fit_transform(X)"
   ]
  },
  {
   "cell_type": "markdown",
   "metadata": {},
   "source": [
    "<b>Splitting the data into train and test(70:30)</b>"
   ]
  },
  {
   "cell_type": "code",
   "execution_count": 102,
   "metadata": {
    "collapsed": true
   },
   "outputs": [],
   "source": [
    "X_train, X_test, y_train, y_test= train_test_split(X,y, test_size=0.30)"
   ]
  },
  {
   "cell_type": "code",
   "execution_count": 103,
   "metadata": {
    "collapsed": true
   },
   "outputs": [],
   "source": [
    "# We are using R2 score to evaluate\n",
    "from sklearn.metrics import r2_score\n",
    "def max_r2_score(models,X,y):\n",
    "    max_r2_score=0\n",
    "    for r_state in range(42,100):\n",
    "        X_train,X_test, y_train, y_test= train_test_split(X,y,test_size=0.30, random_state=r_state)\n",
    "        models.fit(X_train,y_train)\n",
    "        y_pred= models.predict(X_test)\n",
    "        score=r2_score(y_test,y_pred)\n",
    "        if score>max_r2_score:\n",
    "            max_r2_score=score\n",
    "            final_r2_score=r_state\n",
    "    print(\"Maximum R2_Score corresponding:\",final_r2_score,\" and it is :\",round((max_r2_score),2))"
   ]
  },
  {
   "cell_type": "markdown",
   "metadata": {},
   "source": [
    "# Machine Learning Models:"
   ]
  },
  {
   "cell_type": "markdown",
   "metadata": {},
   "source": [
    "As the target variable is continuous, its a regression Problem. We are implementing KNN Regressor, Random Forest Regressor and Gradient Boosting regressor."
   ]
  },
  {
   "cell_type": "markdown",
   "metadata": {},
   "source": [
    "<b>KNN Regressor</b>"
   ]
  },
  {
   "cell_type": "code",
   "execution_count": 111,
   "metadata": {},
   "outputs": [
    {
     "data": {
      "text/plain": [
       "{'n_neighbors': 29}"
      ]
     },
     "execution_count": 111,
     "metadata": {},
     "output_type": "execute_result"
    }
   ],
   "source": [
    "m1=KNeighborsRegressor()\n",
    "parameters={\"n_neighbors\":range(2,30)}\n",
    "m1= GridSearchCV(m1,parameters,cv=5)\n",
    "m1.fit(X,y)\n",
    "m1.best_params_"
   ]
  },
  {
   "cell_type": "code",
   "execution_count": 112,
   "metadata": {},
   "outputs": [
    {
     "name": "stdout",
     "output_type": "stream",
     "text": [
      "Maximum R2_Score corresponding: 98  and it is : 0.51\n"
     ]
    }
   ],
   "source": [
    "m1= KNeighborsRegressor(n_neighbors=29)\n",
    "max_r2_score(m1,X,y)"
   ]
  },
  {
   "cell_type": "code",
   "execution_count": 113,
   "metadata": {
    "collapsed": true
   },
   "outputs": [],
   "source": [
    "pred_m1= m1.predict(X_test)\n",
    "score_m1= m1.score(X_test, y_test)"
   ]
  },
  {
   "cell_type": "code",
   "execution_count": 116,
   "metadata": {},
   "outputs": [
    {
     "name": "stdout",
     "output_type": "stream",
     "text": [
      "Mean R2 Score for KNN Regressor: -6.887264776786796e+29\n",
      "Standard Deviation in R2 Score for KNN Regressor: 1.3778098994640234e+30\n"
     ]
    }
   ],
   "source": [
    "# Cross validation score\n",
    "from sklearn.model_selection import cross_val_score\n",
    "mean_m1=cross_val_score(m1,X,y,cv=10,scoring=\"r2\").mean()\n",
    "print(\"Mean R2 Score for KNN Regressor:\",mean_m1)\n",
    "std_m1=cross_val_score(m1,X,y,cv=10,scoring=\"r2\").std()\n",
    "print(\"Standard Deviation in R2 Score for KNN Regressor:\",std_m1)"
   ]
  },
  {
   "cell_type": "code",
   "execution_count": 121,
   "metadata": {},
   "outputs": [
    {
     "data": {
      "text/plain": [
       "2900.1036665165616"
      ]
     },
     "execution_count": 121,
     "metadata": {},
     "output_type": "execute_result"
    }
   ],
   "source": [
    "from sklearn import metrics\n",
    "m1_rmse = np.sqrt(metrics.mean_squared_error(y_test,pred_m1))\n",
    "m1_rmse"
   ]
  },
  {
   "cell_type": "markdown",
   "metadata": {},
   "source": [
    "<b>Random Forest Regressor</b>"
   ]
  },
  {
   "cell_type": "code",
   "execution_count": 122,
   "metadata": {},
   "outputs": [
    {
     "data": {
      "text/plain": [
       "{'max_depth': 100,\n",
       " 'max_features': 2,\n",
       " 'min_samples_leaf': 5,\n",
       " 'min_samples_split': 12,\n",
       " 'n_estimators': 100}"
      ]
     },
     "execution_count": 122,
     "metadata": {},
     "output_type": "execute_result"
    }
   ],
   "source": [
    "m2=RandomForestRegressor()\n",
    "param_grid = {\n",
    "    'max_depth': [80, 100],\n",
    "    'max_features': [2, 3],\n",
    "    'min_samples_leaf': [3, 5],\n",
    "    'min_samples_split': [10, 12],\n",
    "    'n_estimators': [100, 500]\n",
    "}\n",
    "m2= GridSearchCV(m2, param_grid,cv=5)\n",
    "m2.fit(X,y)\n",
    "m2.best_params_"
   ]
  },
  {
   "cell_type": "code",
   "execution_count": 123,
   "metadata": {},
   "outputs": [
    {
     "name": "stdout",
     "output_type": "stream",
     "text": [
      "Maximum R2_Score corresponding: 49  and it is : 0.55\n"
     ]
    }
   ],
   "source": [
    "m2=RandomForestRegressor(max_depth=100,max_features=2,min_samples_leaf=5,min_samples_split=12,n_estimators=100)\n",
    "max_r2_score(m2,X,y)"
   ]
  },
  {
   "cell_type": "code",
   "execution_count": 124,
   "metadata": {
    "collapsed": true
   },
   "outputs": [],
   "source": [
    "pred_m2= m2.predict(X_test)\n",
    "score_m2= m2.score(X_test, y_test)"
   ]
  },
  {
   "cell_type": "code",
   "execution_count": 125,
   "metadata": {},
   "outputs": [
    {
     "name": "stdout",
     "output_type": "stream",
     "text": [
      "Mean R2 Score for Random Forest Regressor: -4.5117213319669376e+29\n",
      "Standard Deviation in R2 Score for Random Forest Regression: 8.878780778096192e+29\n"
     ]
    }
   ],
   "source": [
    "# Cross validation score\n",
    "mean_m2=cross_val_score(m2,X,y,cv=10,scoring=\"r2\").mean()\n",
    "print(\"Mean R2 Score for Random Forest Regressor:\",mean_m2)\n",
    "std_m2=cross_val_score(m2,X,y,cv=10,scoring=\"r2\").std()\n",
    "print(\"Standard Deviation in R2 Score for Random Forest Regression:\",std_m2)"
   ]
  },
  {
   "cell_type": "code",
   "execution_count": 128,
   "metadata": {},
   "outputs": [
    {
     "data": {
      "text/plain": [
       "2818.386388566762"
      ]
     },
     "execution_count": 128,
     "metadata": {},
     "output_type": "execute_result"
    }
   ],
   "source": [
    "# RMSE\n",
    "m2_rmse=np.sqrt(metrics.mean_squared_error(y_test,pred_m2))\n",
    "m2_rmse"
   ]
  },
  {
   "cell_type": "markdown",
   "metadata": {},
   "source": [
    "<b>Gradient Boosting Regressor</b>"
   ]
  },
  {
   "cell_type": "code",
   "execution_count": 131,
   "metadata": {},
   "outputs": [
    {
     "data": {
      "text/plain": [
       "{'learning_rate': 0.01, 'max_depth': 4, 'n_estimators': 10, 'subsample': 0.5}"
      ]
     },
     "execution_count": 131,
     "metadata": {},
     "output_type": "execute_result"
    }
   ],
   "source": [
    "m3 = GradientBoostingRegressor()\n",
    "parameters= {'learning_rate': [0.01, 0.03], 'subsample': [0.3, 0.5], 'n_estimators': [10,50], 'max_depth': [4,8]}\n",
    "m3= GridSearchCV(estimator=m3, param_grid= parameters, cv=5, n_jobs=-1)\n",
    "m3.fit(X,y)\n",
    "m3.best_params_"
   ]
  },
  {
   "cell_type": "code",
   "execution_count": 132,
   "metadata": {},
   "outputs": [
    {
     "name": "stdout",
     "output_type": "stream",
     "text": [
      "Maximum R2_Score corresponding: 52  and it is : 0.09\n"
     ]
    }
   ],
   "source": [
    "gbi= GradientBoostingRegressor(learning_rate=0.01,max_depth=4,n_estimators=10,subsample=0.5)\n",
    "max_r2_score(gbi,X,y)"
   ]
  },
  {
   "cell_type": "code",
   "execution_count": 133,
   "metadata": {
    "collapsed": true
   },
   "outputs": [],
   "source": [
    "pred_m3= m3.predict(X_test)\n",
    "score_m3= m3.score(X_test, y_test)"
   ]
  },
  {
   "cell_type": "code",
   "execution_count": 134,
   "metadata": {},
   "outputs": [
    {
     "name": "stdout",
     "output_type": "stream",
     "text": [
      "Mean R2 Score for Gradient Boosting Regressor: -4.183760840694432e+29\n",
      "Standard Deviation in R2 Score for Gradient Boosting Regressor: 8.562787711367282e+29\n"
     ]
    }
   ],
   "source": [
    "# Cross validation score\n",
    "mean_m3=cross_val_score(m3,X,y,cv=10,scoring=\"r2\").mean()\n",
    "print(\"Mean R2 Score for Gradient Boosting Regressor:\",mean_m3)\n",
    "std_m3=cross_val_score(m3,X,y,cv=10,scoring=\"r2\").std()\n",
    "print(\"Standard Deviation in R2 Score for Gradient Boosting Regressor:\",std_m3)"
   ]
  },
  {
   "cell_type": "code",
   "execution_count": 136,
   "metadata": {},
   "outputs": [
    {
     "data": {
      "text/plain": [
       "3945.3018304928046"
      ]
     },
     "execution_count": 136,
     "metadata": {},
     "output_type": "execute_result"
    }
   ],
   "source": [
    "m3_rmse=np.sqrt(metrics.mean_squared_error(y_test,pred_m3))\n",
    "m3_rmse"
   ]
  },
  {
   "cell_type": "markdown",
   "metadata": {},
   "source": [
    "# Evaluation:"
   ]
  },
  {
   "cell_type": "code",
   "execution_count": 139,
   "metadata": {},
   "outputs": [
    {
     "data": {
      "text/html": [
       "<div>\n",
       "<style>\n",
       "    .dataframe thead tr:only-child th {\n",
       "        text-align: right;\n",
       "    }\n",
       "\n",
       "    .dataframe thead th {\n",
       "        text-align: left;\n",
       "    }\n",
       "\n",
       "    .dataframe tbody tr th {\n",
       "        vertical-align: top;\n",
       "    }\n",
       "</style>\n",
       "<table border=\"1\" class=\"dataframe\">\n",
       "  <thead>\n",
       "    <tr style=\"text-align: right;\">\n",
       "      <th></th>\n",
       "      <th>Model Name</th>\n",
       "      <th>RMSE</th>\n",
       "    </tr>\n",
       "  </thead>\n",
       "  <tbody>\n",
       "    <tr>\n",
       "      <th>1</th>\n",
       "      <td>KNN Regressor</td>\n",
       "      <td>2900.103667</td>\n",
       "    </tr>\n",
       "    <tr>\n",
       "      <th>2</th>\n",
       "      <td>Random Forest Regressor</td>\n",
       "      <td>2818.386389</td>\n",
       "    </tr>\n",
       "    <tr>\n",
       "      <th>3</th>\n",
       "      <td>Gradient Boosting Regressor</td>\n",
       "      <td>3945.301830</td>\n",
       "    </tr>\n",
       "  </tbody>\n",
       "</table>\n",
       "</div>"
      ],
      "text/plain": [
       "                    Model Name         RMSE\n",
       "1                KNN Regressor  2900.103667\n",
       "2      Random Forest Regressor  2818.386389\n",
       "3  Gradient Boosting Regressor  3945.301830"
      ]
     },
     "execution_count": 139,
     "metadata": {},
     "output_type": "execute_result"
    }
   ],
   "source": [
    "#Lets initialise the data frame with columns model with r2_score and RMSE value\n",
    "compare= [[\"KNN Regressor\",m1_rmse],[\"Random Forest Regressor\",m2_rmse],[\"Gradient Boosting Regressor\",m3_rmse]]\n",
    "result= pd.DataFrame(compare, columns=[\"Model Name\",\"RMSE\"], index=[1,2,3])\n",
    "result"
   ]
  },
  {
   "cell_type": "markdown",
   "metadata": {},
   "source": [
    "<b>Observations:</b>\n",
    "<li> As the target variable is numerical, we have calculated R2 Score and evaluated RMSE for the performance of the models.</li>\n",
    "<li>From the above Model Evaluation, we can see that Random Forest Regressor performed well with lowest RMSE (32818.386389).</li>"
   ]
  },
  {
   "cell_type": "markdown",
   "metadata": {},
   "source": [
    "<b>Saving the Prediction</b>"
   ]
  },
  {
   "cell_type": "code",
   "execution_count": 140,
   "metadata": {
    "collapsed": true
   },
   "outputs": [],
   "source": [
    "np.savetxt('Model17.csv',pred_m2,delimiter=',')"
   ]
  },
  {
   "cell_type": "code",
   "execution_count": 141,
   "metadata": {},
   "outputs": [
    {
     "data": {
      "text/plain": [
       "['project17.pkl']"
      ]
     },
     "execution_count": 141,
     "metadata": {},
     "output_type": "execute_result"
    }
   ],
   "source": [
    "#Lets save the above model\n",
    "from sklearn.externals import joblib \n",
    "  \n",
    "# Save the model as a pickle in a file \n",
    "joblib.dump(m2, 'project17.pkl')"
   ]
  }
 ],
 "metadata": {
  "kernelspec": {
   "display_name": "Python 3",
   "language": "python",
   "name": "python3"
  },
  "language_info": {
   "codemirror_mode": {
    "name": "ipython",
    "version": 3
   },
   "file_extension": ".py",
   "mimetype": "text/x-python",
   "name": "python",
   "nbconvert_exporter": "python",
   "pygments_lexer": "ipython3",
   "version": "3.6.1"
  }
 },
 "nbformat": 4,
 "nbformat_minor": 2
}
