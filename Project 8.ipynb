{
 "cells": [
  {
   "cell_type": "markdown",
   "metadata": {},
   "source": [
    "<b>Avocado dataset</b>\n",
    "\n",
    "\n",
    "Avacado is a fruit consumed by people heavily in United states. \n",
    "\n",
    "Content\n",
    "This data was downloaded from the Hass Avocado Board website in May of 2018 & compiled into a single CSV. Here's how the Hass Avocado Board describes the data on their website:\n",
    "\n",
    "> The table below represents weekly 2018 retail scan data for National retail volume (units) and price. Retail scan data comes directly from retailers’ cash registers based on actual retail sales of Hass avocados. Starting in 2013, the table below reflects an expanded, multi-outlet retail data set. Multi-outlet reporting includes an aggregation of the following channels: grocery, mass, club, drug, dollar and military. The Average Price (of avocados) in the table reflects a per unit (per avocado) cost, even when multiple units (avocados) are sold in bags. The Product Lookup codes (PLU’s) in the table are only for Hass avocados. Other varieties of avocados (e.g. greenskins) are not included in this table.\n",
    "\n",
    "Some relevant columns in the dataset:\n",
    "\n",
    "Date - The date of the observation<br>\n",
    "AveragePrice - the average price of a single avocado<br>\n",
    "type - conventional or organic<br>\n",
    "year - the year<br>\n",
    "Region - the city or region of the observation<br>\n",
    "Total Volume - Total number of avocados sold<br>\n",
    "4046 - Total number of avocados with PLU 4046 sold<br>\n",
    "4225 - Total number of avocados with PLU 4225 sold<br>\n",
    "4770 - Total number of avocados with PLU 4770 sold<br>\n",
    "\n",
    "\n",
    "Task: Classification /Regression"
   ]
  },
  {
   "cell_type": "markdown",
   "metadata": {},
   "source": [
    "Dataset: https://github.com/dsrscientist/Data-Science-ML-Capstone-Projects/blob/master/avocado.csv.zip"
   ]
  },
  {
   "cell_type": "markdown",
   "metadata": {},
   "source": [
    "# Regression"
   ]
  },
  {
   "cell_type": "markdown",
   "metadata": {
    "collapsed": true
   },
   "source": [
    "<b>Importing Necessary Libraries</b>"
   ]
  },
  {
   "cell_type": "code",
   "execution_count": 2,
   "metadata": {
    "collapsed": true
   },
   "outputs": [],
   "source": [
    "import pandas as pd\n",
    "import numpy as np\n",
    "import matplotlib.pyplot as plt\n",
    "%matplotlib inline\n",
    "import seaborn as sns\n",
    "from sklearn.metrics import r2_score"
   ]
  },
  {
   "cell_type": "code",
   "execution_count": 3,
   "metadata": {},
   "outputs": [
    {
     "data": {
      "text/html": [
       "<div>\n",
       "<style>\n",
       "    .dataframe thead tr:only-child th {\n",
       "        text-align: right;\n",
       "    }\n",
       "\n",
       "    .dataframe thead th {\n",
       "        text-align: left;\n",
       "    }\n",
       "\n",
       "    .dataframe tbody tr th {\n",
       "        vertical-align: top;\n",
       "    }\n",
       "</style>\n",
       "<table border=\"1\" class=\"dataframe\">\n",
       "  <thead>\n",
       "    <tr style=\"text-align: right;\">\n",
       "      <th></th>\n",
       "      <th>Unnamed: 0</th>\n",
       "      <th>Date</th>\n",
       "      <th>AveragePrice</th>\n",
       "      <th>Total Volume</th>\n",
       "      <th>4046</th>\n",
       "      <th>4225</th>\n",
       "      <th>4770</th>\n",
       "      <th>Total Bags</th>\n",
       "      <th>Small Bags</th>\n",
       "      <th>Large Bags</th>\n",
       "      <th>XLarge Bags</th>\n",
       "      <th>type</th>\n",
       "      <th>year</th>\n",
       "      <th>region</th>\n",
       "    </tr>\n",
       "  </thead>\n",
       "  <tbody>\n",
       "    <tr>\n",
       "      <th>0</th>\n",
       "      <td>0</td>\n",
       "      <td>2015-12-27</td>\n",
       "      <td>1.33</td>\n",
       "      <td>64236.62</td>\n",
       "      <td>1036.74</td>\n",
       "      <td>54454.85</td>\n",
       "      <td>48.16</td>\n",
       "      <td>8696.87</td>\n",
       "      <td>8603.62</td>\n",
       "      <td>93.25</td>\n",
       "      <td>0.0</td>\n",
       "      <td>conventional</td>\n",
       "      <td>2015</td>\n",
       "      <td>Albany</td>\n",
       "    </tr>\n",
       "    <tr>\n",
       "      <th>1</th>\n",
       "      <td>1</td>\n",
       "      <td>2015-12-20</td>\n",
       "      <td>1.35</td>\n",
       "      <td>54876.98</td>\n",
       "      <td>674.28</td>\n",
       "      <td>44638.81</td>\n",
       "      <td>58.33</td>\n",
       "      <td>9505.56</td>\n",
       "      <td>9408.07</td>\n",
       "      <td>97.49</td>\n",
       "      <td>0.0</td>\n",
       "      <td>conventional</td>\n",
       "      <td>2015</td>\n",
       "      <td>Albany</td>\n",
       "    </tr>\n",
       "    <tr>\n",
       "      <th>2</th>\n",
       "      <td>2</td>\n",
       "      <td>2015-12-13</td>\n",
       "      <td>0.93</td>\n",
       "      <td>118220.22</td>\n",
       "      <td>794.70</td>\n",
       "      <td>109149.67</td>\n",
       "      <td>130.50</td>\n",
       "      <td>8145.35</td>\n",
       "      <td>8042.21</td>\n",
       "      <td>103.14</td>\n",
       "      <td>0.0</td>\n",
       "      <td>conventional</td>\n",
       "      <td>2015</td>\n",
       "      <td>Albany</td>\n",
       "    </tr>\n",
       "    <tr>\n",
       "      <th>3</th>\n",
       "      <td>3</td>\n",
       "      <td>2015-12-06</td>\n",
       "      <td>1.08</td>\n",
       "      <td>78992.15</td>\n",
       "      <td>1132.00</td>\n",
       "      <td>71976.41</td>\n",
       "      <td>72.58</td>\n",
       "      <td>5811.16</td>\n",
       "      <td>5677.40</td>\n",
       "      <td>133.76</td>\n",
       "      <td>0.0</td>\n",
       "      <td>conventional</td>\n",
       "      <td>2015</td>\n",
       "      <td>Albany</td>\n",
       "    </tr>\n",
       "    <tr>\n",
       "      <th>4</th>\n",
       "      <td>4</td>\n",
       "      <td>2015-11-29</td>\n",
       "      <td>1.28</td>\n",
       "      <td>51039.60</td>\n",
       "      <td>941.48</td>\n",
       "      <td>43838.39</td>\n",
       "      <td>75.78</td>\n",
       "      <td>6183.95</td>\n",
       "      <td>5986.26</td>\n",
       "      <td>197.69</td>\n",
       "      <td>0.0</td>\n",
       "      <td>conventional</td>\n",
       "      <td>2015</td>\n",
       "      <td>Albany</td>\n",
       "    </tr>\n",
       "  </tbody>\n",
       "</table>\n",
       "</div>"
      ],
      "text/plain": [
       "   Unnamed: 0        Date  AveragePrice  Total Volume     4046       4225  \\\n",
       "0           0  2015-12-27          1.33      64236.62  1036.74   54454.85   \n",
       "1           1  2015-12-20          1.35      54876.98   674.28   44638.81   \n",
       "2           2  2015-12-13          0.93     118220.22   794.70  109149.67   \n",
       "3           3  2015-12-06          1.08      78992.15  1132.00   71976.41   \n",
       "4           4  2015-11-29          1.28      51039.60   941.48   43838.39   \n",
       "\n",
       "     4770  Total Bags  Small Bags  Large Bags  XLarge Bags          type  \\\n",
       "0   48.16     8696.87     8603.62       93.25          0.0  conventional   \n",
       "1   58.33     9505.56     9408.07       97.49          0.0  conventional   \n",
       "2  130.50     8145.35     8042.21      103.14          0.0  conventional   \n",
       "3   72.58     5811.16     5677.40      133.76          0.0  conventional   \n",
       "4   75.78     6183.95     5986.26      197.69          0.0  conventional   \n",
       "\n",
       "   year  region  \n",
       "0  2015  Albany  \n",
       "1  2015  Albany  \n",
       "2  2015  Albany  \n",
       "3  2015  Albany  \n",
       "4  2015  Albany  "
      ]
     },
     "execution_count": 3,
     "metadata": {},
     "output_type": "execute_result"
    }
   ],
   "source": [
    "# Reading the data\n",
    "ava=pd.read_csv(\"avocado.csv\")\n",
    "ava.head()"
   ]
  },
  {
   "cell_type": "code",
   "execution_count": 4,
   "metadata": {
    "collapsed": true
   },
   "outputs": [],
   "source": [
    "# Removing the unnecessary attributes\n",
    "ava.drop([\"Unnamed: 0\"],axis=1,inplace=True)\n",
    "ava.drop([\"region\"],axis=1,inplace=True)"
   ]
  },
  {
   "cell_type": "code",
   "execution_count": 5,
   "metadata": {},
   "outputs": [
    {
     "data": {
      "text/plain": [
       "(18249, 12)"
      ]
     },
     "execution_count": 5,
     "metadata": {},
     "output_type": "execute_result"
    }
   ],
   "source": [
    "ava.shape"
   ]
  },
  {
   "cell_type": "markdown",
   "metadata": {},
   "source": [
    "<b>Observation:</b>\n",
    "There are 18249 rows and 12 columns."
   ]
  },
  {
   "cell_type": "markdown",
   "metadata": {},
   "source": [
    "For analysis, we are converting attribute into date format."
   ]
  },
  {
   "cell_type": "code",
   "execution_count": 6,
   "metadata": {
    "collapsed": true
   },
   "outputs": [],
   "source": [
    "ava['Date']=pd.to_datetime(ava['Date'])"
   ]
  },
  {
   "cell_type": "markdown",
   "metadata": {},
   "source": [
    "<b>Converting the Date column into int dtype in the format DDMMYYY</b>"
   ]
  },
  {
   "cell_type": "code",
   "execution_count": 7,
   "metadata": {
    "collapsed": true
   },
   "outputs": [],
   "source": [
    "ava['Date']=ava['Date'].apply(lambda x: x.strftime('%d%m%Y'))\n",
    "ava['Date']=ava[\"Date\"].astype(int)"
   ]
  },
  {
   "cell_type": "code",
   "execution_count": 8,
   "metadata": {},
   "outputs": [
    {
     "data": {
      "text/plain": [
       "Date              int32\n",
       "AveragePrice    float64\n",
       "Total Volume    float64\n",
       "4046            float64\n",
       "4225            float64\n",
       "4770            float64\n",
       "Total Bags      float64\n",
       "Small Bags      float64\n",
       "Large Bags      float64\n",
       "XLarge Bags     float64\n",
       "type             object\n",
       "year              int64\n",
       "dtype: object"
      ]
     },
     "execution_count": 8,
     "metadata": {},
     "output_type": "execute_result"
    }
   ],
   "source": [
    "ava.dtypes"
   ]
  },
  {
   "cell_type": "markdown",
   "metadata": {},
   "source": [
    "<b>Observation:</b>\n",
    "There are 12 columns in the dataset, out of which 9 attributes are of float datatype and 2 attributes are of int datatype."
   ]
  },
  {
   "cell_type": "markdown",
   "metadata": {},
   "source": [
    "<b>Checking Missing Value</b>"
   ]
  },
  {
   "cell_type": "code",
   "execution_count": 285,
   "metadata": {},
   "outputs": [
    {
     "name": "stdout",
     "output_type": "stream",
     "text": [
      "<class 'pandas.core.frame.DataFrame'>\n",
      "RangeIndex: 18249 entries, 0 to 18248\n",
      "Data columns (total 12 columns):\n",
      "Date            18249 non-null int32\n",
      "AveragePrice    18249 non-null float64\n",
      "Total Volume    18249 non-null float64\n",
      "4046            18249 non-null float64\n",
      "4225            18249 non-null float64\n",
      "4770            18249 non-null float64\n",
      "Total Bags      18249 non-null float64\n",
      "Small Bags      18249 non-null float64\n",
      "Large Bags      18249 non-null float64\n",
      "XLarge Bags     18249 non-null float64\n",
      "type            18249 non-null object\n",
      "year            18249 non-null int64\n",
      "dtypes: float64(9), int32(1), int64(1), object(1)\n",
      "memory usage: 1.6+ MB\n"
     ]
    }
   ],
   "source": [
    "ava.info()"
   ]
  },
  {
   "cell_type": "code",
   "execution_count": 286,
   "metadata": {},
   "outputs": [
    {
     "data": {
      "text/plain": [
       "Date            0\n",
       "AveragePrice    0\n",
       "Total Volume    0\n",
       "4046            0\n",
       "4225            0\n",
       "4770            0\n",
       "Total Bags      0\n",
       "Small Bags      0\n",
       "Large Bags      0\n",
       "XLarge Bags     0\n",
       "type            0\n",
       "year            0\n",
       "dtype: int64"
      ]
     },
     "execution_count": 286,
     "metadata": {},
     "output_type": "execute_result"
    }
   ],
   "source": [
    "ava.isnull().sum()"
   ]
  },
  {
   "cell_type": "markdown",
   "metadata": {},
   "source": [
    "<b>Observation:</b>\n",
    "There is no missing values in the dataset."
   ]
  },
  {
   "cell_type": "markdown",
   "metadata": {},
   "source": [
    "<b>Summary Statistics</b>"
   ]
  },
  {
   "cell_type": "code",
   "execution_count": 287,
   "metadata": {},
   "outputs": [
    {
     "data": {
      "text/html": [
       "<div>\n",
       "<style>\n",
       "    .dataframe thead tr:only-child th {\n",
       "        text-align: right;\n",
       "    }\n",
       "\n",
       "    .dataframe thead th {\n",
       "        text-align: left;\n",
       "    }\n",
       "\n",
       "    .dataframe tbody tr th {\n",
       "        vertical-align: top;\n",
       "    }\n",
       "</style>\n",
       "<table border=\"1\" class=\"dataframe\">\n",
       "  <thead>\n",
       "    <tr style=\"text-align: right;\">\n",
       "      <th></th>\n",
       "      <th>Date</th>\n",
       "      <th>AveragePrice</th>\n",
       "      <th>Total Volume</th>\n",
       "      <th>4046</th>\n",
       "      <th>4225</th>\n",
       "      <th>4770</th>\n",
       "      <th>Total Bags</th>\n",
       "      <th>Small Bags</th>\n",
       "      <th>Large Bags</th>\n",
       "      <th>XLarge Bags</th>\n",
       "      <th>year</th>\n",
       "    </tr>\n",
       "  </thead>\n",
       "  <tbody>\n",
       "    <tr>\n",
       "      <th>count</th>\n",
       "      <td>1.824900e+04</td>\n",
       "      <td>18249.000000</td>\n",
       "      <td>1.824900e+04</td>\n",
       "      <td>1.824900e+04</td>\n",
       "      <td>1.824900e+04</td>\n",
       "      <td>1.824900e+04</td>\n",
       "      <td>1.824900e+04</td>\n",
       "      <td>1.824900e+04</td>\n",
       "      <td>1.824900e+04</td>\n",
       "      <td>18249.000000</td>\n",
       "      <td>18249.000000</td>\n",
       "    </tr>\n",
       "    <tr>\n",
       "      <th>mean</th>\n",
       "      <td>1.572640e+07</td>\n",
       "      <td>1.405978</td>\n",
       "      <td>8.506440e+05</td>\n",
       "      <td>2.930084e+05</td>\n",
       "      <td>2.951546e+05</td>\n",
       "      <td>2.283974e+04</td>\n",
       "      <td>2.396392e+05</td>\n",
       "      <td>1.821947e+05</td>\n",
       "      <td>5.433809e+04</td>\n",
       "      <td>3106.426507</td>\n",
       "      <td>2016.147899</td>\n",
       "    </tr>\n",
       "    <tr>\n",
       "      <th>std</th>\n",
       "      <td>8.776728e+06</td>\n",
       "      <td>0.402677</td>\n",
       "      <td>3.453545e+06</td>\n",
       "      <td>1.264989e+06</td>\n",
       "      <td>1.204120e+06</td>\n",
       "      <td>1.074641e+05</td>\n",
       "      <td>9.862424e+05</td>\n",
       "      <td>7.461785e+05</td>\n",
       "      <td>2.439660e+05</td>\n",
       "      <td>17692.894652</td>\n",
       "      <td>0.939938</td>\n",
       "    </tr>\n",
       "    <tr>\n",
       "      <th>min</th>\n",
       "      <td>1.012017e+06</td>\n",
       "      <td>0.440000</td>\n",
       "      <td>8.456000e+01</td>\n",
       "      <td>0.000000e+00</td>\n",
       "      <td>0.000000e+00</td>\n",
       "      <td>0.000000e+00</td>\n",
       "      <td>0.000000e+00</td>\n",
       "      <td>0.000000e+00</td>\n",
       "      <td>0.000000e+00</td>\n",
       "      <td>0.000000</td>\n",
       "      <td>2015.000000</td>\n",
       "    </tr>\n",
       "    <tr>\n",
       "      <th>25%</th>\n",
       "      <td>8.052016e+06</td>\n",
       "      <td>1.100000</td>\n",
       "      <td>1.083858e+04</td>\n",
       "      <td>8.540700e+02</td>\n",
       "      <td>3.008780e+03</td>\n",
       "      <td>0.000000e+00</td>\n",
       "      <td>5.088640e+03</td>\n",
       "      <td>2.849420e+03</td>\n",
       "      <td>1.274700e+02</td>\n",
       "      <td>0.000000</td>\n",
       "      <td>2015.000000</td>\n",
       "    </tr>\n",
       "    <tr>\n",
       "      <th>50%</th>\n",
       "      <td>1.604202e+07</td>\n",
       "      <td>1.370000</td>\n",
       "      <td>1.073768e+05</td>\n",
       "      <td>8.645300e+03</td>\n",
       "      <td>2.906102e+04</td>\n",
       "      <td>1.849900e+02</td>\n",
       "      <td>3.974383e+04</td>\n",
       "      <td>2.636282e+04</td>\n",
       "      <td>2.647710e+03</td>\n",
       "      <td>0.000000</td>\n",
       "      <td>2016.000000</td>\n",
       "    </tr>\n",
       "    <tr>\n",
       "      <th>75%</th>\n",
       "      <td>2.310202e+07</td>\n",
       "      <td>1.660000</td>\n",
       "      <td>4.329623e+05</td>\n",
       "      <td>1.110202e+05</td>\n",
       "      <td>1.502069e+05</td>\n",
       "      <td>6.243420e+03</td>\n",
       "      <td>1.107834e+05</td>\n",
       "      <td>8.333767e+04</td>\n",
       "      <td>2.202925e+04</td>\n",
       "      <td>132.500000</td>\n",
       "      <td>2017.000000</td>\n",
       "    </tr>\n",
       "    <tr>\n",
       "      <th>max</th>\n",
       "      <td>3.112202e+07</td>\n",
       "      <td>3.250000</td>\n",
       "      <td>6.250565e+07</td>\n",
       "      <td>2.274362e+07</td>\n",
       "      <td>2.047057e+07</td>\n",
       "      <td>2.546439e+06</td>\n",
       "      <td>1.937313e+07</td>\n",
       "      <td>1.338459e+07</td>\n",
       "      <td>5.719097e+06</td>\n",
       "      <td>551693.650000</td>\n",
       "      <td>2018.000000</td>\n",
       "    </tr>\n",
       "  </tbody>\n",
       "</table>\n",
       "</div>"
      ],
      "text/plain": [
       "               Date  AveragePrice  Total Volume          4046          4225  \\\n",
       "count  1.824900e+04  18249.000000  1.824900e+04  1.824900e+04  1.824900e+04   \n",
       "mean   1.572640e+07      1.405978  8.506440e+05  2.930084e+05  2.951546e+05   \n",
       "std    8.776728e+06      0.402677  3.453545e+06  1.264989e+06  1.204120e+06   \n",
       "min    1.012017e+06      0.440000  8.456000e+01  0.000000e+00  0.000000e+00   \n",
       "25%    8.052016e+06      1.100000  1.083858e+04  8.540700e+02  3.008780e+03   \n",
       "50%    1.604202e+07      1.370000  1.073768e+05  8.645300e+03  2.906102e+04   \n",
       "75%    2.310202e+07      1.660000  4.329623e+05  1.110202e+05  1.502069e+05   \n",
       "max    3.112202e+07      3.250000  6.250565e+07  2.274362e+07  2.047057e+07   \n",
       "\n",
       "               4770    Total Bags    Small Bags    Large Bags    XLarge Bags  \\\n",
       "count  1.824900e+04  1.824900e+04  1.824900e+04  1.824900e+04   18249.000000   \n",
       "mean   2.283974e+04  2.396392e+05  1.821947e+05  5.433809e+04    3106.426507   \n",
       "std    1.074641e+05  9.862424e+05  7.461785e+05  2.439660e+05   17692.894652   \n",
       "min    0.000000e+00  0.000000e+00  0.000000e+00  0.000000e+00       0.000000   \n",
       "25%    0.000000e+00  5.088640e+03  2.849420e+03  1.274700e+02       0.000000   \n",
       "50%    1.849900e+02  3.974383e+04  2.636282e+04  2.647710e+03       0.000000   \n",
       "75%    6.243420e+03  1.107834e+05  8.333767e+04  2.202925e+04     132.500000   \n",
       "max    2.546439e+06  1.937313e+07  1.338459e+07  5.719097e+06  551693.650000   \n",
       "\n",
       "               year  \n",
       "count  18249.000000  \n",
       "mean    2016.147899  \n",
       "std        0.939938  \n",
       "min     2015.000000  \n",
       "25%     2015.000000  \n",
       "50%     2016.000000  \n",
       "75%     2017.000000  \n",
       "max     2018.000000  "
      ]
     },
     "execution_count": 287,
     "metadata": {},
     "output_type": "execute_result"
    }
   ],
   "source": [
    "ava.describe()"
   ]
  },
  {
   "cell_type": "markdown",
   "metadata": {},
   "source": [
    "<b>Exploratory Data Analysis</b>"
   ]
  },
  {
   "cell_type": "markdown",
   "metadata": {},
   "source": [
    "<b>Uni-Variate Analysis</b>"
   ]
  },
  {
   "cell_type": "code",
   "execution_count": 229,
   "metadata": {},
   "outputs": [
    {
     "data": {
      "image/png": "[encoded data removed]",
      "text/plain": [
       "<matplotlib.figure.Figure at 0x27e0ae66860>"
      ]
     },
     "metadata": {},
     "output_type": "display_data"
    }
   ],
   "source": [
    "sns.countplot(\"type\",data=ava)\n",
    "plt.show()"
   ]
  },
  {
   "cell_type": "markdown",
   "metadata": {},
   "source": [
    "<b>Observation:</b>\n",
    "Almost conventional and organic types are equal."
   ]
  },
  {
   "cell_type": "code",
   "execution_count": 230,
   "metadata": {},
   "outputs": [
    {
     "data": {
      "image/png": "[encoded data removed]",
      "text/plain": [
       "<matplotlib.figure.Figure at 0x27e0a380c88>"
      ]
     },
     "metadata": {},
     "output_type": "display_data"
    }
   ],
   "source": [
    "sns.countplot(\"year\",data=ava)\n",
    "plt.show()"
   ]
  },
  {
   "cell_type": "markdown",
   "metadata": {},
   "source": [
    "<b>Observation:</b>\n",
    "We see that there are less avacado in 2018."
   ]
  },
  {
   "cell_type": "code",
   "execution_count": 162,
   "metadata": {},
   "outputs": [
    {
     "data": {
      "text/plain": [
       "<matplotlib.axes._subplots.AxesSubplot at 0x27e054809e8>"
      ]
     },
     "execution_count": 162,
     "metadata": {},
     "output_type": "execute_result"
    },
    {
     "data": {
      "image/png": "[encoded data removed]",
      "text/plain": [
       "<matplotlib.figure.Figure at 0x27e0548bc18>"
      ]
     },
     "metadata": {},
     "output_type": "display_data"
    }
   ],
   "source": [
    "sns.boxplot(ava[\"AveragePrice\"])"
   ]
  },
  {
   "cell_type": "markdown",
   "metadata": {},
   "source": [
    "<b>Observation:</b>\n",
    "From the above visualization, we can see that there is an outlier above 1.7"
   ]
  },
  {
   "cell_type": "code",
   "execution_count": 163,
   "metadata": {},
   "outputs": [
    {
     "data": {
      "text/plain": [
       "<matplotlib.axes._subplots.AxesSubplot at 0x27e05479748>"
      ]
     },
     "execution_count": 163,
     "metadata": {},
     "output_type": "execute_result"
    },
    {
     "data": {
      "image/png": "[encoded data removed]",
      "text/plain": [
       "<matplotlib.figure.Figure at 0x27e0655a780>"
      ]
     },
     "metadata": {},
     "output_type": "display_data"
    }
   ],
   "source": [
    "sns.boxplot(ava[\"Total Volume\"])"
   ]
  },
  {
   "cell_type": "markdown",
   "metadata": {},
   "source": [
    "<b>Observation:</b>\n",
    "From the above visualization, there is an outlier above 15000"
   ]
  },
  {
   "cell_type": "code",
   "execution_count": 165,
   "metadata": {},
   "outputs": [
    {
     "data": {
      "image/png": "[encoded data removed]",
      "text/plain": [
       "<matplotlib.figure.Figure at 0x27e0669e9b0>"
      ]
     },
     "metadata": {},
     "output_type": "display_data"
    }
   ],
   "source": [
    "sns.boxplot(ava[\"4046\"])\n",
    "plt.show()"
   ]
  },
  {
   "cell_type": "markdown",
   "metadata": {},
   "source": [
    "<b>Observation:</b>\n",
    "There is an outlier above 800."
   ]
  },
  {
   "cell_type": "code",
   "execution_count": 166,
   "metadata": {},
   "outputs": [
    {
     "data": {
      "image/png": "[encoded data removed]",
      "text/plain": [
       "<matplotlib.figure.Figure at 0x27e067c1b00>"
      ]
     },
     "metadata": {},
     "output_type": "display_data"
    }
   ],
   "source": [
    "sns.boxplot(ava[\"4225\"])\n",
    "plt.show()"
   ]
  },
  {
   "cell_type": "markdown",
   "metadata": {},
   "source": [
    "<b>Observation:</b>\n",
    "From the above visualization, there is an outlier above 800."
   ]
  },
  {
   "cell_type": "code",
   "execution_count": 167,
   "metadata": {},
   "outputs": [
    {
     "data": {
      "image/png": "[encoded data removed]",
      "text/plain": [
       "<matplotlib.figure.Figure at 0x27e067ea208>"
      ]
     },
     "metadata": {},
     "output_type": "display_data"
    }
   ],
   "source": [
    "sns.boxplot(ava[\"4770\"])\n",
    "plt.show()"
   ]
  },
  {
   "cell_type": "markdown",
   "metadata": {},
   "source": [
    "<b>Observation:</b>\n",
    "There is an outlier above 200."
   ]
  },
  {
   "cell_type": "code",
   "execution_count": 168,
   "metadata": {},
   "outputs": [
    {
     "data": {
      "text/plain": [
       "<matplotlib.axes._subplots.AxesSubplot at 0x27e0684fc88>"
      ]
     },
     "execution_count": 168,
     "metadata": {},
     "output_type": "execute_result"
    },
    {
     "data": {
      "image/png": "[encoded data removed]",
      "text/plain": [
       "<matplotlib.figure.Figure at 0x27e0690b5f8>"
      ]
     },
     "metadata": {},
     "output_type": "display_data"
    }
   ],
   "source": [
    "sns.boxplot(ava[\"Total Bags\"])"
   ]
  },
  {
   "cell_type": "markdown",
   "metadata": {},
   "source": [
    "<b>Observation:</b>\n",
    "There is an outlier above 800."
   ]
  },
  {
   "cell_type": "code",
   "execution_count": 169,
   "metadata": {},
   "outputs": [
    {
     "data": {
      "text/plain": [
       "<matplotlib.axes._subplots.AxesSubplot at 0x27e069006d8>"
      ]
     },
     "execution_count": 169,
     "metadata": {},
     "output_type": "execute_result"
    },
    {
     "data": {
      "image/png": "[encoded data removed]",
      "text/plain": [
       "<matplotlib.figure.Figure at 0x27e06913400>"
      ]
     },
     "metadata": {},
     "output_type": "display_data"
    }
   ],
   "source": [
    "sns.boxplot(ava[\"Small Bags\"])"
   ]
  },
  {
   "cell_type": "markdown",
   "metadata": {},
   "source": [
    "<b>Observation:</b>\n",
    "There is an outlier above 600."
   ]
  },
  {
   "cell_type": "code",
   "execution_count": 171,
   "metadata": {},
   "outputs": [
    {
     "data": {
      "text/plain": [
       "<matplotlib.axes._subplots.AxesSubplot at 0x27e067a8cc0>"
      ]
     },
     "execution_count": 171,
     "metadata": {},
     "output_type": "execute_result"
    },
    {
     "data": {
      "image/png": "[encoded data removed]",
      "text/plain": [
       "<matplotlib.figure.Figure at 0x27e0545c978>"
      ]
     },
     "metadata": {},
     "output_type": "display_data"
    }
   ],
   "source": [
    "sns.boxplot(ava[\"Large Bags\"])"
   ]
  },
  {
   "cell_type": "markdown",
   "metadata": {},
   "source": [
    "<b>Observation:</b>\n",
    "There is an outlier above 300."
   ]
  },
  {
   "cell_type": "code",
   "execution_count": 173,
   "metadata": {},
   "outputs": [
    {
     "data": {
      "text/plain": [
       "<matplotlib.axes._subplots.AxesSubplot at 0x27e052d7b70>"
      ]
     },
     "execution_count": 173,
     "metadata": {},
     "output_type": "execute_result"
    },
    {
     "data": {
      "image/png": "[encoded data removed]",
      "text/plain": [
       "<matplotlib.figure.Figure at 0x27e05336438>"
      ]
     },
     "metadata": {},
     "output_type": "display_data"
    }
   ],
   "source": [
    "sns.boxplot(ava[\"XLarge Bags\"])"
   ]
  },
  {
   "cell_type": "markdown",
   "metadata": {},
   "source": [
    "<b>Observation:</b>\n",
    "There is an outlier above 10."
   ]
  },
  {
   "cell_type": "code",
   "execution_count": 175,
   "metadata": {},
   "outputs": [
    {
     "data": {
      "text/plain": [
       "<matplotlib.axes._subplots.AxesSubplot at 0x27e02cc60b8>"
      ]
     },
     "execution_count": 175,
     "metadata": {},
     "output_type": "execute_result"
    },
    {
     "data": {
      "image/png": "[encoded data removed]",
      "text/plain": [
       "<matplotlib.figure.Figure at 0x27e04de7780>"
      ]
     },
     "metadata": {},
     "output_type": "display_data"
    }
   ],
   "source": [
    "sns.boxplot(ava[\"year\"])"
   ]
  },
  {
   "cell_type": "markdown",
   "metadata": {},
   "source": [
    "<b>Observation:</b>\n",
    "From the above visualization, there is no outlier."
   ]
  },
  {
   "cell_type": "markdown",
   "metadata": {},
   "source": [
    "<b>Bi-Variate Analysis</b>"
   ]
  },
  {
   "cell_type": "code",
   "execution_count": 99,
   "metadata": {},
   "outputs": [
    {
     "data": {
      "image/png": "[encoded data removed]",
      "text/plain": [
       "<matplotlib.figure.Figure at 0x27e7f7de828>"
      ]
     },
     "metadata": {},
     "output_type": "display_data"
    }
   ],
   "source": [
    "ava.plot(kind=\"scatter\",x=\"Total Volume\", y=\"Total Bags\")\n",
    "plt.show()"
   ]
  },
  {
   "cell_type": "markdown",
   "metadata": {},
   "source": [
    "There is positive linear association between Total Volume and Total Bags."
   ]
  },
  {
   "cell_type": "code",
   "execution_count": 113,
   "metadata": {},
   "outputs": [
    {
     "data": {
      "image/png": "[encoded data removed]",
      "text/plain": [
       "<matplotlib.figure.Figure at 0x27e026627f0>"
      ]
     },
     "metadata": {},
     "output_type": "display_data"
    }
   ],
   "source": [
    "ava.plot(kind=\"scatter\",x=\"Total Volume\",y=\"AveragePrice\")\n",
    "plt.show()"
   ]
  },
  {
   "cell_type": "markdown",
   "metadata": {},
   "source": [
    "There is no association between Total Volume and AveragePrice."
   ]
  },
  {
   "cell_type": "code",
   "execution_count": 126,
   "metadata": {},
   "outputs": [
    {
     "data": {
      "image/png": "[encoded data removed]",
      "text/plain": [
       "<matplotlib.figure.Figure at 0x27e03766da0>"
      ]
     },
     "metadata": {},
     "output_type": "display_data"
    }
   ],
   "source": [
    "ava.plot(kind=\"scatter\",x=\"AveragePrice\",y=\"Small Bags\")\n",
    "plt.show()"
   ]
  },
  {
   "cell_type": "markdown",
   "metadata": {},
   "source": [
    "There is nonlinear association between AveragePrice and Small bags."
   ]
  },
  {
   "cell_type": "code",
   "execution_count": 125,
   "metadata": {},
   "outputs": [
    {
     "data": {
      "text/plain": [
       "<matplotlib.text.Text at 0x27e0357db00>"
      ]
     },
     "execution_count": 125,
     "metadata": {},
     "output_type": "execute_result"
    },
    {
     "data": {
      "image/png": "[encoded data removed]",
      "text/plain": [
       "<matplotlib.figure.Figure at 0x27e03676d68>"
      ]
     },
     "metadata": {},
     "output_type": "display_data"
    }
   ],
   "source": [
    "f,ax=plt.subplots(figsize=(15,5))\n",
    "sns.barplot(x=\"year\",y=\"AveragePrice\",hue=\"type\",data=ava)\n",
    "plt.title(\"Compare Average Prices of Years\")"
   ]
  },
  {
   "cell_type": "markdown",
   "metadata": {},
   "source": [
    "In 2017, conventional and organic avacado types are more as compare to rest of years."
   ]
  },
  {
   "cell_type": "markdown",
   "metadata": {},
   "source": [
    "<b>Multi-Variate Analysis</b>"
   ]
  },
  {
   "cell_type": "code",
   "execution_count": 96,
   "metadata": {},
   "outputs": [
    {
     "data": {
      "image/png": "[encoded data removed]",
      "text/plain": [
       "<matplotlib.figure.Figure at 0x27e037f9518>"
      ]
     },
     "metadata": {},
     "output_type": "display_data"
    }
   ],
   "source": [
    "ava.hist(figsize=(15,10),grid=True,bins=20);"
   ]
  },
  {
   "cell_type": "code",
   "execution_count": 231,
   "metadata": {},
   "outputs": [
    {
     "data": {
      "image/png": "[encoded data removed]",
      "text/plain": [
       "<matplotlib.figure.Figure at 0x27e0ad29b70>"
      ]
     },
     "metadata": {},
     "output_type": "display_data"
    }
   ],
   "source": [
    "heatmap=ava.corr()\n",
    "plt.figure(figsize=(10,8))\n",
    "sns.heatmap(heatmap, cmap=\"YlGn\",annot=True)\n",
    "plt.show()"
   ]
  },
  {
   "cell_type": "markdown",
   "metadata": {},
   "source": [
    "<b>Observation:</b>\n",
    "<li>There is multicollinearity between 4046,4225, Total Bags, Small Bags with Total Volume. So we can remove 4225 and Total Bags from the dataset.</li>"
   ]
  },
  {
   "cell_type": "code",
   "execution_count": 9,
   "metadata": {
    "collapsed": true
   },
   "outputs": [],
   "source": [
    "import warnings\n",
    "warnings.filterwarnings(\"ignore\")\n",
    "ava.drop([\"4046\", \"Small Bags\"],axis=1,inplace=True)"
   ]
  },
  {
   "cell_type": "markdown",
   "metadata": {},
   "source": [
    "<b>Label Encoder</b>"
   ]
  },
  {
   "cell_type": "code",
   "execution_count": 10,
   "metadata": {
    "collapsed": true
   },
   "outputs": [],
   "source": [
    "# Lets convert the variable\n",
    "from sklearn.preprocessing import LabelEncoder\n",
    "LE= LabelEncoder()\n",
    "ava[\"type\"]=LE.fit_transform(ava[\"type\"])"
   ]
  },
  {
   "cell_type": "markdown",
   "metadata": {},
   "source": [
    "<b>Checking Skewness</b>"
   ]
  },
  {
   "cell_type": "code",
   "execution_count": 11,
   "metadata": {},
   "outputs": [
    {
     "data": {
      "text/plain": [
       "Date             0.014391\n",
       "AveragePrice     0.580303\n",
       "Total Volume     9.007687\n",
       "4225             8.942466\n",
       "4770            10.159396\n",
       "Total Bags       9.756072\n",
       "Large Bags       9.796455\n",
       "XLarge Bags     13.139751\n",
       "type             0.000329\n",
       "year             0.215339\n",
       "dtype: float64"
      ]
     },
     "execution_count": 11,
     "metadata": {},
     "output_type": "execute_result"
    }
   ],
   "source": [
    "ava.skew(axis=0)"
   ]
  },
  {
   "cell_type": "code",
   "execution_count": 12,
   "metadata": {
    "collapsed": true
   },
   "outputs": [],
   "source": [
    "# Treating the skewness in the dataset\n",
    "import warnings\n",
    "warnings.filterwarnings(\"ignore\")\n",
    "for index in ava.skew().index:\n",
    "    if ava.skew().loc[index]>0.5:\n",
    "        ava[index]=np.sqrt(ava[index])"
   ]
  },
  {
   "cell_type": "code",
   "execution_count": 13,
   "metadata": {},
   "outputs": [
    {
     "data": {
      "text/plain": [
       "Date            0.014391\n",
       "AveragePrice    0.196766\n",
       "Total Volume    3.986597\n",
       "4225            3.896355\n",
       "4770            4.128605\n",
       "Total Bags      4.128864\n",
       "Large Bags      4.134963\n",
       "XLarge Bags     4.827368\n",
       "type            0.000329\n",
       "year            0.215339\n",
       "dtype: float64"
      ]
     },
     "execution_count": 13,
     "metadata": {},
     "output_type": "execute_result"
    }
   ],
   "source": [
    "ava.skew(axis=0)"
   ]
  },
  {
   "cell_type": "markdown",
   "metadata": {},
   "source": [
    "<b>Checking Outliers</b>"
   ]
  },
  {
   "cell_type": "code",
   "execution_count": 14,
   "metadata": {},
   "outputs": [
    {
     "name": "stdout",
     "output_type": "stream",
     "text": [
      "The shape of dataset before removing outliers (18249, 10)\n",
      "The shape of dataset after removing outliers (17319, 10)\n"
     ]
    }
   ],
   "source": [
    "from scipy.stats import zscore\n",
    "z_score=abs(zscore(ava))\n",
    "print(\"The shape of dataset before removing outliers\",ava.shape)\n",
    "ava=ava.loc[(z_score<3).all(axis=1)]\n",
    "print(\"The shape of dataset after removing outliers\",ava.shape)"
   ]
  },
  {
   "cell_type": "markdown",
   "metadata": {},
   "source": [
    "<b>Dividing the input and output variables</b>"
   ]
  },
  {
   "cell_type": "code",
   "execution_count": 184,
   "metadata": {
    "collapsed": true
   },
   "outputs": [],
   "source": [
    "X= ava.drop([\"AveragePrice\"],axis=1)\n",
    "y= ava[\"AveragePrice\"]"
   ]
  },
  {
   "cell_type": "markdown",
   "metadata": {},
   "source": [
    "<b>Standarization</b>"
   ]
  },
  {
   "cell_type": "code",
   "execution_count": 185,
   "metadata": {
    "collapsed": true
   },
   "outputs": [],
   "source": [
    "# Lets bring the dataset features into same scale\n",
    "from sklearn.preprocessing import StandardScaler\n",
    "scaler=StandardScaler()\n",
    "X= scaler.fit_transform(X)"
   ]
  },
  {
   "cell_type": "markdown",
   "metadata": {},
   "source": [
    "<b>Splitting the data into train and test</b>"
   ]
  },
  {
   "cell_type": "code",
   "execution_count": 186,
   "metadata": {
    "collapsed": true
   },
   "outputs": [],
   "source": [
    "from sklearn.model_selection import train_test_split\n",
    "\n",
    "X_train, X_test, y_train, y_test= train_test_split(X,y, test_size=0.30)"
   ]
  },
  {
   "cell_type": "code",
   "execution_count": 187,
   "metadata": {
    "collapsed": true
   },
   "outputs": [],
   "source": [
    "# We are using R2 score to evaluate\n",
    "def mx_r2_score(cr,X,y):\n",
    "    mx_r2_score=0\n",
    "    for r_state in range(42,100):\n",
    "        X_train,X_test, y_train, y_test= train_test_split(X,y,test_size=0.30, random_state=r_state)\n",
    "        cr.fit(X_train,y_train)\n",
    "        y_pred= cr.predict(X_test)\n",
    "        score=r2_score(y_test,y_pred)\n",
    "        if score>mx_r2_score:\n",
    "            mx_r2_score=score\n",
    "            final_r2_score=r_state\n",
    "    print(\"Maximum R2_Score corresponding:\",final_r2_score,\" and it is :\",round((mx_r2_score),3))"
   ]
  },
  {
   "cell_type": "markdown",
   "metadata": {},
   "source": [
    "# Machine Learning Models:"
   ]
  },
  {
   "cell_type": "markdown",
   "metadata": {},
   "source": [
    "As the target variable is continuous (AveragePrice), its regression Problem.  We are using Linear Regression, Random Forest Regressor, KNN Regressor, XG Boost Regressor and Gradient Boosting Regressor."
   ]
  },
  {
   "cell_type": "markdown",
   "metadata": {},
   "source": [
    "<b>Linear Regression</b>"
   ]
  },
  {
   "cell_type": "code",
   "execution_count": 191,
   "metadata": {},
   "outputs": [
    {
     "data": {
      "text/plain": [
       "{'copy_X': True, 'fit_intercept': True, 'normalize': True}"
      ]
     },
     "execution_count": 191,
     "metadata": {},
     "output_type": "execute_result"
    }
   ],
   "source": [
    "from sklearn.linear_model import LinearRegression\n",
    "Linreg=LinearRegression()\n",
    "\n",
    "# Hyperparameter Tuning\n",
    "from sklearn.model_selection import GridSearchCV\n",
    "parameters = {'fit_intercept':[True,False], 'normalize':[True,False], 'copy_X':[True, False]}\n",
    "Linreg= GridSearchCV(Linreg,parameters, cv=5)\n",
    "Linreg.fit(X,y)\n",
    "Linreg.best_params_"
   ]
  },
  {
   "cell_type": "code",
   "execution_count": 192,
   "metadata": {},
   "outputs": [
    {
     "name": "stdout",
     "output_type": "stream",
     "text": [
      "Maximum R2_Score corresponding: 71  and it is : 0.481\n"
     ]
    }
   ],
   "source": [
    "Linreg=LinearRegression(copy_X=True,fit_intercept=True,normalize=False)\n",
    "mx_r2_score(Linreg,X,y)"
   ]
  },
  {
   "cell_type": "code",
   "execution_count": 193,
   "metadata": {},
   "outputs": [
    {
     "name": "stdout",
     "output_type": "stream",
     "text": [
      "The accuracy of the Linear Regression Model is: 0.475\n"
     ]
    }
   ],
   "source": [
    "pred_linreg= Linreg.predict(X_test)\n",
    "l_r1= Linreg.score(X_test, y_test)\n",
    "print(\"The accuracy of the Linear Regression Model is:\",round((l_r1),3))"
   ]
  },
  {
   "cell_type": "code",
   "execution_count": 195,
   "metadata": {},
   "outputs": [
    {
     "name": "stdout",
     "output_type": "stream",
     "text": [
      "Mean R2 Score for Linear Regression: 0.07809065925649757\n",
      "Standard Deviation in R2 Score for Linear Regression: 0.12775466099593366\n"
     ]
    }
   ],
   "source": [
    "# Cross validation score\n",
    "from sklearn.model_selection import cross_val_score\n",
    "m_linreg=cross_val_score(Linreg,X,y,cv=10,scoring=\"r2\").mean()\n",
    "print(\"Mean R2 Score for Linear Regression:\",m_linreg)\n",
    "std_linreg=cross_val_score(Linreg,X,y,cv=10,scoring=\"r2\").std()\n",
    "print(\"Standard Deviation in R2 Score for Linear Regression:\",std_linreg)"
   ]
  },
  {
   "cell_type": "code",
   "execution_count": 196,
   "metadata": {},
   "outputs": [
    {
     "data": {
      "text/plain": [
       "0.1224139191294398"
      ]
     },
     "execution_count": 196,
     "metadata": {},
     "output_type": "execute_result"
    }
   ],
   "source": [
    "# RMSE\n",
    "from sklearn import metrics\n",
    "lin_rmse=np.sqrt(metrics.mean_squared_error(y_test,pred_linreg))\n",
    "lin_rmse"
   ]
  },
  {
   "cell_type": "markdown",
   "metadata": {},
   "source": [
    "<b>Random Forest Regressor</b>"
   ]
  },
  {
   "cell_type": "code",
   "execution_count": 197,
   "metadata": {},
   "outputs": [
    {
     "data": {
      "text/plain": [
       "{'max_depth': 100,\n",
       " 'max_features': 3,\n",
       " 'min_samples_leaf': 5,\n",
       " 'min_samples_split': 10,\n",
       " 'n_estimators': 100}"
      ]
     },
     "execution_count": 197,
     "metadata": {},
     "output_type": "execute_result"
    }
   ],
   "source": [
    "import warnings\n",
    "warnings.filterwarnings(\"ignore\")\n",
    "from sklearn.ensemble import RandomForestRegressor\n",
    "rf=RandomForestRegressor()\n",
    "param_grid = {\n",
    "    'max_depth': [80, 100],\n",
    "    'max_features': [2, 3],\n",
    "    'min_samples_leaf': [3, 5],\n",
    "    'min_samples_split': [10, 12],\n",
    "    'n_estimators': [100, 500]\n",
    "}\n",
    "rf= GridSearchCV(rf, param_grid,cv=5)\n",
    "rf.fit(X,y)\n",
    "rf.best_params_"
   ]
  },
  {
   "cell_type": "code",
   "execution_count": 199,
   "metadata": {},
   "outputs": [
    {
     "name": "stdout",
     "output_type": "stream",
     "text": [
      "Maximum R2_Score corresponding: 80  and it is : 0.767\n"
     ]
    }
   ],
   "source": [
    "rf=RandomForestRegressor(max_depth=100,max_features=3,min_samples_leaf=5,min_samples_split=10,n_estimators=100)\n",
    "mx_r2_score(rf,X,y)"
   ]
  },
  {
   "cell_type": "code",
   "execution_count": 200,
   "metadata": {},
   "outputs": [
    {
     "name": "stdout",
     "output_type": "stream",
     "text": [
      "The accuracy of the Random Forest Regressor Model is: 0.83\n"
     ]
    }
   ],
   "source": [
    "pred_rf= rf.predict(X_test)\n",
    "rf_1= rf.score(X_test, y_test)\n",
    "print(\"The accuracy of the Random Forest Regressor Model is:\",round((rf_1),3))"
   ]
  },
  {
   "cell_type": "code",
   "execution_count": 202,
   "metadata": {},
   "outputs": [
    {
     "name": "stdout",
     "output_type": "stream",
     "text": [
      "Mean R2 Score for Random Forest Regressor: 0.3372083416947763\n",
      "Standard Deviation in R2 Score for Random Forest Regression: 0.10015144821154387\n"
     ]
    }
   ],
   "source": [
    "# Cross validation score\n",
    "from sklearn.model_selection import cross_val_score\n",
    "mean_rfr=cross_val_score(rf,X,y,cv=10,scoring=\"r2\").mean()\n",
    "print(\"Mean R2 Score for Random Forest Regressor:\",mean_rfr)\n",
    "std_rfr=cross_val_score(rf,X,y,cv=10,scoring=\"r2\").std()\n",
    "print(\"Standard Deviation in R2 Score for Random Forest Regression:\",std_rfr)"
   ]
  },
  {
   "cell_type": "code",
   "execution_count": 203,
   "metadata": {},
   "outputs": [
    {
     "data": {
      "text/plain": [
       "0.06963508829099015"
      ]
     },
     "execution_count": 203,
     "metadata": {},
     "output_type": "execute_result"
    }
   ],
   "source": [
    "# RMSE\n",
    "from sklearn import metrics\n",
    "rf_rmse=np.sqrt(metrics.mean_squared_error(y_test,pred_rf))\n",
    "rf_rmse"
   ]
  },
  {
   "cell_type": "markdown",
   "metadata": {},
   "source": [
    "<b>KNN Regressor</b>"
   ]
  },
  {
   "cell_type": "code",
   "execution_count": 204,
   "metadata": {},
   "outputs": [
    {
     "data": {
      "text/plain": [
       "{'n_neighbors': 29}"
      ]
     },
     "execution_count": 204,
     "metadata": {},
     "output_type": "execute_result"
    }
   ],
   "source": [
    "from sklearn.model_selection import GridSearchCV\n",
    "from sklearn.neighbors import KNeighborsRegressor\n",
    "knn=KNeighborsRegressor()\n",
    "parameters={\"n_neighbors\":range(2,30)}\n",
    "knr= GridSearchCV(knn,parameters,cv=5)\n",
    "knr.fit(X,y)\n",
    "knr.best_params_"
   ]
  },
  {
   "cell_type": "code",
   "execution_count": 205,
   "metadata": {},
   "outputs": [
    {
     "name": "stdout",
     "output_type": "stream",
     "text": [
      "Maximum R2_Score corresponding: 64  and it is : 0.621\n"
     ]
    }
   ],
   "source": [
    "knr= KNeighborsRegressor(n_neighbors=29)\n",
    "mx_r2_score(knr,X,y)"
   ]
  },
  {
   "cell_type": "code",
   "execution_count": 206,
   "metadata": {},
   "outputs": [
    {
     "name": "stdout",
     "output_type": "stream",
     "text": [
      "The accuracy of the KNN Regressor Model is: 0.629\n"
     ]
    }
   ],
   "source": [
    "pred_knn= knr.predict(X_test)\n",
    "knn_1= knr.score(X_test, y_test)\n",
    "print(\"The accuracy of the KNN Regressor Model is:\",round((knn_1),3))"
   ]
  },
  {
   "cell_type": "code",
   "execution_count": 208,
   "metadata": {},
   "outputs": [
    {
     "name": "stdout",
     "output_type": "stream",
     "text": [
      "Mean R2 Score for KNN Regressor: 0.17876137119967223\n",
      "Standard Deviation in R2 Score for KNN Regression: 0.14010995074023747\n"
     ]
    }
   ],
   "source": [
    "# Cross validation score\n",
    "mean_knn=cross_val_score(knr,X,y,cv=10,scoring=\"r2\").mean()\n",
    "print(\"Mean R2 Score for KNN Regressor:\",mean_knn)\n",
    "std_knn=cross_val_score(knr,X,y,cv=10,scoring=\"r2\").std()\n",
    "print(\"Standard Deviation in R2 Score for KNN Regression:\",std_knn)"
   ]
  },
  {
   "cell_type": "code",
   "execution_count": 207,
   "metadata": {},
   "outputs": [
    {
     "data": {
      "text/plain": [
       "0.10290619673131922"
      ]
     },
     "execution_count": 207,
     "metadata": {},
     "output_type": "execute_result"
    }
   ],
   "source": [
    "from sklearn import metrics\n",
    "knn_rm=np.sqrt(metrics.mean_squared_error(y_test,pred_knn))\n",
    "knn_rm"
   ]
  },
  {
   "cell_type": "markdown",
   "metadata": {},
   "source": [
    "<b>XG Boost Regressor</b>"
   ]
  },
  {
   "cell_type": "code",
   "execution_count": 209,
   "metadata": {},
   "outputs": [
    {
     "name": "stdout",
     "output_type": "stream",
     "text": [
      "Maximum R2_Score corresponding: 61  and it is : 0.663\n"
     ]
    }
   ],
   "source": [
    "import xgboost as xgb\n",
    "xg_reg= xgb.XGBRegressor(objective=\"reg:linear\",silent=True)\n",
    "xg_reg.fit(X,y)\n",
    "mx_r2_score(xg_reg,X,y)"
   ]
  },
  {
   "cell_type": "code",
   "execution_count": 210,
   "metadata": {},
   "outputs": [
    {
     "name": "stdout",
     "output_type": "stream",
     "text": [
      "The accuracy of the XG Boost Regressor Model is: 0.66\n"
     ]
    }
   ],
   "source": [
    "pred_x= xg_reg.predict(X_test)\n",
    "xg_1= xg_reg.score(X_test, y_test)\n",
    "print(\"The accuracy of the XG Boost Regressor Model is:\",round((xg_1),3))"
   ]
  },
  {
   "cell_type": "code",
   "execution_count": 211,
   "metadata": {},
   "outputs": [
    {
     "name": "stdout",
     "output_type": "stream",
     "text": [
      "Mean R2 Score for XG Boost Regressor: 0.3118191287289986\n",
      "Standard Deviation in R2 Score for XG Boost Regressor: 0.0919134677964948\n"
     ]
    }
   ],
   "source": [
    "# Cross validation score\n",
    "from sklearn.model_selection import cross_val_score\n",
    "mean_xg=cross_val_score(xg_reg,X,y,cv=10,scoring=\"r2\").mean()\n",
    "print(\"Mean R2 Score for XG Boost Regressor:\",mean_xg)\n",
    "std_xg=cross_val_score(xg_reg,X,y,cv=10,scoring=\"r2\").std()\n",
    "print(\"Standard Deviation in R2 Score for XG Boost Regressor:\",std_xg)"
   ]
  },
  {
   "cell_type": "code",
   "execution_count": 212,
   "metadata": {},
   "outputs": [
    {
     "data": {
      "text/plain": [
       "0.09853191240497343"
      ]
     },
     "execution_count": 212,
     "metadata": {},
     "output_type": "execute_result"
    }
   ],
   "source": [
    "# RMSE\n",
    "from sklearn import metrics\n",
    "xg_rmse=np.sqrt(metrics.mean_squared_error(y_test,pred_x))\n",
    "xg_rmse"
   ]
  },
  {
   "cell_type": "markdown",
   "metadata": {},
   "source": [
    "<b>Gradient Boosting Regressor</b>"
   ]
  },
  {
   "cell_type": "code",
   "execution_count": 213,
   "metadata": {},
   "outputs": [
    {
     "data": {
      "text/plain": [
       "{'learning_rate': 0.09, 'max_depth': 4, 'n_estimators': 500, 'subsample': 0.5}"
      ]
     },
     "execution_count": 213,
     "metadata": {},
     "output_type": "execute_result"
    }
   ],
   "source": [
    "from sklearn.ensemble import GradientBoostingRegressor\n",
    "gb = GradientBoostingRegressor()\n",
    "parameters= {'learning_rate': [0.01, 0.02,0.09], 'subsample': [0.9, 0.5,0.6], 'n_estimators': [50,100,500], 'max_depth': [4,6,8]}\n",
    "gb= GridSearchCV(estimator=gb, param_grid= parameters, cv=5, n_jobs=-1)\n",
    "gb.fit(X,y)\n",
    "gb.best_params_"
   ]
  },
  {
   "cell_type": "code",
   "execution_count": 214,
   "metadata": {},
   "outputs": [
    {
     "name": "stdout",
     "output_type": "stream",
     "text": [
      "Maximum R2_Score corresponding: 72  and it is : 0.799\n"
     ]
    }
   ],
   "source": [
    "gb = GradientBoostingRegressor(learning_rate=0.09,max_depth=4,n_estimators=500,subsample=0.5)\n",
    "mx_r2_score(gb,X,y)"
   ]
  },
  {
   "cell_type": "code",
   "execution_count": 215,
   "metadata": {},
   "outputs": [
    {
     "name": "stdout",
     "output_type": "stream",
     "text": [
      "The accuracy of the Gradient Boosting Regressor Model is: 0.842\n"
     ]
    }
   ],
   "source": [
    "pred_gb= gb.predict(X_test)\n",
    "gb_1= gb.score(X_test, y_test)\n",
    "print(\"The accuracy of the Gradient Boosting Regressor Model is:\",round((gb_1),3))"
   ]
  },
  {
   "cell_type": "code",
   "execution_count": 216,
   "metadata": {},
   "outputs": [
    {
     "name": "stdout",
     "output_type": "stream",
     "text": [
      "Mean R2 Score for Gradient Boosting Regressor: 0.4772436221715304\n",
      "Standard Deviation in R2 Score for Gradient Boosting Regression: 0.12051844026238154\n"
     ]
    }
   ],
   "source": [
    "# Cross validation score\n",
    "from sklearn.model_selection import cross_val_score\n",
    "mean_gb=cross_val_score(gb,X,y,cv=10,scoring=\"r2\").mean()\n",
    "print(\"Mean R2 Score for Gradient Boosting Regressor:\",mean_gb)\n",
    "std_gb=cross_val_score(gb,X,y,cv=10,scoring=\"r2\").std()\n",
    "print(\"Standard Deviation in R2 Score for Gradient Boosting Regression:\",std_gb)"
   ]
  },
  {
   "cell_type": "code",
   "execution_count": 217,
   "metadata": {},
   "outputs": [
    {
     "data": {
      "text/plain": [
       "0.06718301633427981"
      ]
     },
     "execution_count": 217,
     "metadata": {},
     "output_type": "execute_result"
    }
   ],
   "source": [
    "# RMSE\n",
    "from sklearn import metrics\n",
    "gbr_rmse=np.sqrt(metrics.mean_squared_error(y_test,pred_gb))\n",
    "gbr_rmse"
   ]
  },
  {
   "cell_type": "code",
   "execution_count": 228,
   "metadata": {},
   "outputs": [
    {
     "data": {
      "text/html": [
       "<div>\n",
       "<style>\n",
       "    .dataframe thead tr:only-child th {\n",
       "        text-align: right;\n",
       "    }\n",
       "\n",
       "    .dataframe thead th {\n",
       "        text-align: left;\n",
       "    }\n",
       "\n",
       "    .dataframe tbody tr th {\n",
       "        vertical-align: top;\n",
       "    }\n",
       "</style>\n",
       "<table border=\"1\" class=\"dataframe\">\n",
       "  <thead>\n",
       "    <tr style=\"text-align: right;\">\n",
       "      <th></th>\n",
       "      <th>Model Name</th>\n",
       "      <th>Accuracy</th>\n",
       "      <th>Mean F1 Score</th>\n",
       "      <th>Std from mean F1 Score</th>\n",
       "      <th>RMSE</th>\n",
       "    </tr>\n",
       "  </thead>\n",
       "  <tbody>\n",
       "    <tr>\n",
       "      <th>1</th>\n",
       "      <td>Linear Regresion</td>\n",
       "      <td>0.474866</td>\n",
       "      <td>0.078091</td>\n",
       "      <td>0.127755</td>\n",
       "      <td>0.122414</td>\n",
       "    </tr>\n",
       "    <tr>\n",
       "      <th>2</th>\n",
       "      <td>Random Forest Regressor</td>\n",
       "      <td>0.830072</td>\n",
       "      <td>0.337208</td>\n",
       "      <td>0.100151</td>\n",
       "      <td>0.069635</td>\n",
       "    </tr>\n",
       "    <tr>\n",
       "      <th>3</th>\n",
       "      <td>KNN Regressor</td>\n",
       "      <td>0.628899</td>\n",
       "      <td>0.178761</td>\n",
       "      <td>0.140110</td>\n",
       "      <td>0.102906</td>\n",
       "    </tr>\n",
       "    <tr>\n",
       "      <th>4</th>\n",
       "      <td>XG Boost Regressor</td>\n",
       "      <td>0.659778</td>\n",
       "      <td>0.311819</td>\n",
       "      <td>0.091913</td>\n",
       "      <td>0.098532</td>\n",
       "    </tr>\n",
       "    <tr>\n",
       "      <th>5</th>\n",
       "      <td>Gradient Boosting Regressor</td>\n",
       "      <td>0.841829</td>\n",
       "      <td>0.477244</td>\n",
       "      <td>0.120518</td>\n",
       "      <td>0.067183</td>\n",
       "    </tr>\n",
       "  </tbody>\n",
       "</table>\n",
       "</div>"
      ],
      "text/plain": [
       "                    Model Name  Accuracy  Mean F1 Score  \\\n",
       "1             Linear Regresion  0.474866       0.078091   \n",
       "2      Random Forest Regressor  0.830072       0.337208   \n",
       "3                KNN Regressor  0.628899       0.178761   \n",
       "4           XG Boost Regressor  0.659778       0.311819   \n",
       "5  Gradient Boosting Regressor  0.841829       0.477244   \n",
       "\n",
       "    Std from mean F1 Score      RMSE  \n",
       "1                 0.127755  0.122414  \n",
       "2                 0.100151  0.069635  \n",
       "3                 0.140110  0.102906  \n",
       "4                 0.091913  0.098532  \n",
       "5                 0.120518  0.067183  "
      ]
     },
     "execution_count": 228,
     "metadata": {},
     "output_type": "execute_result"
    }
   ],
   "source": [
    "#Lets initialise the data frame with columns model and f1_score\n",
    "data= [[\"Linear Regresion\",l_r1,m_linreg,std_linreg,lin_rmse], [\"Random Forest Regressor\",rf_1,mean_rfr,std_rfr,rf_rmse],[\"KNN Regressor\",knn_1,mean_knn, std_knn,knn_rm],[\"XG Boost Regressor\",xg_1,mean_xg,std_xg,xg_rmse],[\"Gradient Boosting Regressor\",gb_1,mean_gb, std_gb,gbr_rmse]]\n",
    "compare_results= pd.DataFrame(data, columns=[\"Model Name\", \"Accuracy\",\"Mean F1 Score\",\" Std from mean F1 Score\",\"RMSE\"], index=[1,2,3,4,5])\n",
    "compare_results"
   ]
  },
  {
   "cell_type": "markdown",
   "metadata": {},
   "source": [
    "<b>Observations:</b>\n",
    "<li> As the target variable(W) is numerical, we have calculated R2 Score and evaluated RMSE for the performance of the models.</li>\n",
    "<li>From the above table, we can conclude that Gradient Boosting Regressor performed well with Lowest RMSE(0.06183).</li>"
   ]
  },
  {
   "cell_type": "markdown",
   "metadata": {},
   "source": [
    "<b>Saving the Prediction</b>"
   ]
  },
  {
   "cell_type": "markdown",
   "metadata": {},
   "source": [
    "As the Gradient Boosting Performed well, we are saving the prediction of this model."
   ]
  },
  {
   "cell_type": "code",
   "execution_count": 301,
   "metadata": {
    "collapsed": true
   },
   "outputs": [],
   "source": [
    "np.savetxt('Model8_1.csv',pred_gb,delimiter=',')"
   ]
  },
  {
   "cell_type": "code",
   "execution_count": 302,
   "metadata": {},
   "outputs": [
    {
     "data": {
      "text/plain": [
       "['Project8_1.pkl']"
      ]
     },
     "execution_count": 302,
     "metadata": {},
     "output_type": "execute_result"
    }
   ],
   "source": [
    "#Lets save the above model\n",
    "from sklearn.externals import joblib \n",
    "  \n",
    "# Save the model as a pickle in a file \n",
    "joblib.dump(gb, 'Project8_1.pkl')"
   ]
  },
  {
   "cell_type": "markdown",
   "metadata": {},
   "source": [
    "# Classification Task:"
   ]
  },
  {
   "cell_type": "markdown",
   "metadata": {},
   "source": [
    "<b>Dividing the Input and Output variables</b>"
   ]
  },
  {
   "cell_type": "code",
   "execution_count": 15,
   "metadata": {
    "collapsed": true
   },
   "outputs": [],
   "source": [
    "X= ava.drop([\"type\"],axis=1)\n",
    "y= ava[\"type\"]"
   ]
  },
  {
   "cell_type": "markdown",
   "metadata": {},
   "source": [
    "<b>Splitting into Training and Testing</b>"
   ]
  },
  {
   "cell_type": "code",
   "execution_count": 16,
   "metadata": {
    "collapsed": true
   },
   "outputs": [],
   "source": [
    "from sklearn.model_selection import train_test_split\n",
    "\n",
    "X_train, X_test, y_train, y_test= train_test_split(X,y, test_size=0.30)"
   ]
  },
  {
   "cell_type": "code",
   "execution_count": 17,
   "metadata": {
    "collapsed": true
   },
   "outputs": [],
   "source": [
    "# We will use auc_roc score as the metrics \n",
    "from sklearn.metrics import roc_auc_score\n",
    "def mx_auc_roc_score(m1,X,y):\n",
    "    mx_auc_roc_score=0\n",
    "    for r_state in range(42,100):\n",
    "        X_train,X_test, y_train, y_test= train_test_split(X,y,test_size=0.30, random_state=r_state,stratify=y)\n",
    "        m1.fit(X_train,y_train)\n",
    "        y_pred= m1.predict(X_test)\n",
    "        auc_roc=roc_auc_score(y_test,y_pred)\n",
    "        if auc_roc>mx_auc_roc_score:\n",
    "            mx_auc_roc_score=auc_roc\n",
    "            a_score=r_state\n",
    "    print(\"Maximum AUC_ROC Score corresponding to:\",a_score,\" and it is :\",round((mx_auc_roc_score),2))"
   ]
  },
  {
   "cell_type": "markdown",
   "metadata": {},
   "source": [
    "# Machine Learning Models:"
   ]
  },
  {
   "cell_type": "markdown",
   "metadata": {},
   "source": [
    "As target variable(type) has binary class, its a Classification problem. We are using  Logistic Regression, KNN Classifier, Random Forest Classifier, SVM Classifier and Gradient Boosting Classifier."
   ]
  },
  {
   "cell_type": "markdown",
   "metadata": {},
   "source": [
    "<b>Logistic Regression</b>"
   ]
  },
  {
   "cell_type": "code",
   "execution_count": 19,
   "metadata": {},
   "outputs": [
    {
     "name": "stdout",
     "output_type": "stream",
     "text": [
      "Maximum AUC_ROC Score corresponding to: 66  and it is : 0.96\n"
     ]
    }
   ],
   "source": [
    "from sklearn.pipeline import Pipeline\n",
    "from sklearn.preprocessing import StandardScaler\n",
    "from sklearn.linear_model import LogisticRegression\n",
    "pipeline= Pipeline([(\"scaler\", StandardScaler()), ('Regression', LogisticRegression())])\n",
    "pipeline.fit(X,y)\n",
    "mx_auc_roc_score(pipeline,X,y)"
   ]
  },
  {
   "cell_type": "code",
   "execution_count": 20,
   "metadata": {},
   "outputs": [
    {
     "name": "stdout",
     "output_type": "stream",
     "text": [
      "The accuracy of the Logistic Model is: 0.951\n"
     ]
    }
   ],
   "source": [
    "from sklearn.metrics import confusion_matrix\n",
    "predlr= pipeline.predict(X_test)\n",
    "l1= pipeline.score(X_test, y_test)\n",
    "print(\"The accuracy of the Logistic Model is:\",round((l1),3))"
   ]
  },
  {
   "cell_type": "code",
   "execution_count": 21,
   "metadata": {},
   "outputs": [
    {
     "name": "stdout",
     "output_type": "stream",
     "text": [
      "[[2329  156]\n",
      " [  99 2612]]\n"
     ]
    }
   ],
   "source": [
    "print(confusion_matrix(y_test,predlr))"
   ]
  },
  {
   "cell_type": "markdown",
   "metadata": {},
   "source": [
    "<b>Observations:</b>\n",
    "<li> There are 2329 observations which are predicted Positive as TP(True Positive) and it is true.</li>\n",
    "<li> There are 2612 observations which are predicted Negative as TN(True Negative) and it is True.</li>\n",
    "<li> There are 156 observations which are predicted Negative as FN(False Negative) and it is False. </li>\n",
    "<li> There are 99 observations which are predicted Positive as FP(False Positive) and it is False.</li>"
   ]
  },
  {
   "cell_type": "code",
   "execution_count": 22,
   "metadata": {},
   "outputs": [
    {
     "name": "stdout",
     "output_type": "stream",
     "text": [
      "             precision    recall  f1-score   support\n",
      "\n",
      "          0       0.96      0.94      0.95      2485\n",
      "          1       0.94      0.96      0.95      2711\n",
      "\n",
      "avg / total       0.95      0.95      0.95      5196\n",
      "\n"
     ]
    }
   ],
   "source": [
    "from sklearn.metrics import classification_report\n",
    "print(classification_report(y_test,predlr))"
   ]
  },
  {
   "cell_type": "code",
   "execution_count": 23,
   "metadata": {},
   "outputs": [
    {
     "name": "stdout",
     "output_type": "stream",
     "text": [
      "Mean AUC_ROC Score after cross validation 0.986606979158706\n",
      "standard deviation for Logistic Regression from mean AUC_ROC score is 0.00806088096335056\n"
     ]
    }
   ],
   "source": [
    "from sklearn.model_selection import cross_val_score\n",
    "mean_lr_auc=cross_val_score(pipeline, X,y,cv=5,scoring=\"roc_auc\").mean()\n",
    "print(\"Mean AUC_ROC Score after cross validation\", cross_val_score(pipeline, X,y,cv=5,scoring=\"roc_auc\").mean())\n",
    "std_l_auc= cross_val_score(pipeline, X,y,cv=5,scoring=\"roc_auc\").std()\n",
    "print(\"standard deviation for Logistic Regression from mean AUC_ROC score is\",cross_val_score(pipeline, X,y,cv=5,scoring=\"roc_auc\").std())"
   ]
  },
  {
   "cell_type": "code",
   "execution_count": 24,
   "metadata": {},
   "outputs": [
    {
     "data": {
      "image/png": "[encoded data removed]",
      "text/plain": [
       "<matplotlib.figure.Figure at 0x18c9c97e8d0>"
      ]
     },
     "metadata": {},
     "output_type": "display_data"
    }
   ],
   "source": [
    "from sklearn.metrics import roc_curve\n",
    "from sklearn.metrics import roc_auc_score\n",
    "\n",
    "y_pred_prob= pipeline.predict_proba(X_test)[:,0]\n",
    "tpr,fpr, thresholds= roc_curve(y_test, y_pred_prob)\n",
    "\n",
    "plt.plot([0,1],[0,1],\"k--\")\n",
    "plt.plot(fpr,tpr,label=\"Logistic\")\n",
    "plt.xlabel(\"False Positive Rate\")\n",
    "plt.ylabel(\"True Positive Rate\")\n",
    "plt.title(\"Logistic Regression\")\n",
    "plt.show()"
   ]
  },
  {
   "cell_type": "code",
   "execution_count": 25,
   "metadata": {},
   "outputs": [
    {
     "data": {
      "text/plain": [
       "0.9503527249813896"
      ]
     },
     "execution_count": 25,
     "metadata": {},
     "output_type": "execute_result"
    }
   ],
   "source": [
    "auc_score1=roc_auc_score(y_test, pipeline.predict(X_test))\n",
    "auc_score1"
   ]
  },
  {
   "cell_type": "markdown",
   "metadata": {},
   "source": [
    "<b>KNN Classifier</b>"
   ]
  },
  {
   "cell_type": "code",
   "execution_count": 26,
   "metadata": {},
   "outputs": [
    {
     "data": {
      "text/plain": [
       "{'n_neighbors': 14}"
      ]
     },
     "execution_count": 26,
     "metadata": {},
     "output_type": "execute_result"
    }
   ],
   "source": [
    "from sklearn.neighbors import KNeighborsClassifier\n",
    "from sklearn.model_selection import GridSearchCV\n",
    "knn= KNeighborsClassifier()\n",
    "neighbors={\"n_neighbors\":range(1,60)}\n",
    "knn= GridSearchCV(knn, neighbors, cv=5,scoring=\"roc_auc\")\n",
    "knn.fit(X,y)\n",
    "knn.best_params_"
   ]
  },
  {
   "cell_type": "code",
   "execution_count": 27,
   "metadata": {},
   "outputs": [
    {
     "name": "stdout",
     "output_type": "stream",
     "text": [
      "Maximum AUC_ROC Score corresponding to: 42  and it is : 0.91\n"
     ]
    }
   ],
   "source": [
    "knn=KNeighborsClassifier(n_neighbors=14)\n",
    "mx_auc_roc_score(knn,X,y)"
   ]
  },
  {
   "cell_type": "code",
   "execution_count": 28,
   "metadata": {},
   "outputs": [
    {
     "name": "stdout",
     "output_type": "stream",
     "text": [
      "The accuracy of the KNN Model is: 0.909\n"
     ]
    }
   ],
   "source": [
    "pred_knn= knn.predict(X_test)\n",
    "k2= knn.score(X_test, y_test)\n",
    "print(\"The accuracy of the KNN Model is:\",round((k2),3))"
   ]
  },
  {
   "cell_type": "code",
   "execution_count": 29,
   "metadata": {},
   "outputs": [
    {
     "name": "stdout",
     "output_type": "stream",
     "text": [
      "[[2356  129]\n",
      " [ 342 2369]]\n"
     ]
    }
   ],
   "source": [
    "print(confusion_matrix(y_test,pred_knn))"
   ]
  },
  {
   "cell_type": "markdown",
   "metadata": {},
   "source": [
    "<b>Observations:</b>\n",
    "<li> There are 2356 observations which are predicted Positive as TP(True Positive) and it is true.</li>\n",
    "<li> There are 2369 observations which are predicted Negative as TN(True Negative) and it is True.</li>\n",
    "<li> There are 129 observations which are predicted Negative as FN(False Negative) and it is False. </li>\n",
    "<li> There are 342 observations which are predicted Positive as FP(False Positive) and it is False.</li>"
   ]
  },
  {
   "cell_type": "code",
   "execution_count": 30,
   "metadata": {},
   "outputs": [
    {
     "name": "stdout",
     "output_type": "stream",
     "text": [
      "             precision    recall  f1-score   support\n",
      "\n",
      "          0       0.87      0.95      0.91      2485\n",
      "          1       0.95      0.87      0.91      2711\n",
      "\n",
      "avg / total       0.91      0.91      0.91      5196\n",
      "\n"
     ]
    }
   ],
   "source": [
    "from sklearn.metrics import classification_report\n",
    "print(classification_report(y_test,pred_knn))"
   ]
  },
  {
   "cell_type": "code",
   "execution_count": 31,
   "metadata": {},
   "outputs": [
    {
     "name": "stdout",
     "output_type": "stream",
     "text": [
      "Mean AUC_ROC Score after cross validation 0.9585742239225805\n",
      "standard deviation for KNN Classifier from mean AUC_ROC score is 0.028403815298171018\n"
     ]
    }
   ],
   "source": [
    "from sklearn.model_selection import cross_val_score\n",
    "mean_knn_auc=cross_val_score(knn, X,y,cv=5,scoring=\"roc_auc\").mean()\n",
    "print(\"Mean AUC_ROC Score after cross validation\", cross_val_score(knn, X,y,cv=5,scoring=\"roc_auc\").mean())\n",
    "std_knn_auc= cross_val_score(knn, X,y,cv=5,scoring=\"roc_auc\").std()\n",
    "print(\"standard deviation for KNN Classifier from mean AUC_ROC score is\",cross_val_score(knn, X,y,cv=5,scoring=\"roc_auc\").std())"
   ]
  },
  {
   "cell_type": "code",
   "execution_count": 32,
   "metadata": {},
   "outputs": [
    {
     "data": {
      "image/png": "[encoded data removed]",
      "text/plain": [
       "<matplotlib.figure.Figure at 0x18c9c9d3780>"
      ]
     },
     "metadata": {},
     "output_type": "display_data"
    }
   ],
   "source": [
    "from sklearn.metrics import roc_curve\n",
    "from sklearn.metrics import roc_auc_score\n",
    "\n",
    "y_pred_prob= knn.predict_proba(X_test)[:,0]\n",
    "tpr,fpr, thresholds= roc_curve(y_test, y_pred_prob)\n",
    "\n",
    "\n",
    "# Plot\n",
    "plt.plot([0,1],[0,1],\"k--\")\n",
    "plt.plot(fpr,tpr,label=\"KNN\")\n",
    "plt.xlabel(\"False Positive Rate\")\n",
    "plt.ylabel(\"True Positive Rate\")\n",
    "plt.title(\"KNN\")\n",
    "plt.show()"
   ]
  },
  {
   "cell_type": "code",
   "execution_count": 33,
   "metadata": {},
   "outputs": [
    {
     "data": {
      "text/plain": [
       "0.9109679100052176"
      ]
     },
     "execution_count": 33,
     "metadata": {},
     "output_type": "execute_result"
    }
   ],
   "source": [
    "auc_score2=roc_auc_score(y_test, knn.predict(X_test))\n",
    "auc_score2"
   ]
  },
  {
   "cell_type": "markdown",
   "metadata": {},
   "source": [
    "<b>Gradient Boosting Classifier</b>"
   ]
  },
  {
   "cell_type": "code",
   "execution_count": 34,
   "metadata": {},
   "outputs": [
    {
     "data": {
      "text/plain": [
       "{'learning_rate': 0.05, 'max_depth': 8, 'n_estimators': 100, 'subsample': 0.3}"
      ]
     },
     "execution_count": 34,
     "metadata": {},
     "output_type": "execute_result"
    }
   ],
   "source": [
    "from sklearn.ensemble import GradientBoostingClassifier\n",
    "gbc = GradientBoostingClassifier()\n",
    "parameters= {'learning_rate': [0.01,0.03,0.05], 'subsample': [0.1, 0.5,0.3], 'n_estimators': [10,50,100], 'max_depth': [2,4,8]}\n",
    "gbc= GridSearchCV(estimator=gbc, param_grid= parameters, cv=5, n_jobs=-1)\n",
    "gbc.fit(X,y)\n",
    "gbc.best_params_"
   ]
  },
  {
   "cell_type": "code",
   "execution_count": 35,
   "metadata": {},
   "outputs": [
    {
     "name": "stdout",
     "output_type": "stream",
     "text": [
      "Maximum AUC_ROC Score corresponding to: 87  and it is : 0.99\n"
     ]
    }
   ],
   "source": [
    "gbc = GradientBoostingClassifier(learning_rate=0.05,max_depth=8,n_estimators=100,subsample=0.3)\n",
    "mx_auc_roc_score(gbc,X,y)"
   ]
  },
  {
   "cell_type": "code",
   "execution_count": 36,
   "metadata": {},
   "outputs": [
    {
     "name": "stdout",
     "output_type": "stream",
     "text": [
      "The accuracy of the Grading Boosting Model is: 0.993\n"
     ]
    }
   ],
   "source": [
    "pred_gbc= gbc.predict(X_test)\n",
    "g2= gbc.score(X_test, y_test)\n",
    "print(\"The accuracy of the Grading Boosting Model is:\",round((g2),3))"
   ]
  },
  {
   "cell_type": "code",
   "execution_count": 37,
   "metadata": {},
   "outputs": [
    {
     "name": "stdout",
     "output_type": "stream",
     "text": [
      "[[2474   11]\n",
      " [  23 2688]]\n"
     ]
    }
   ],
   "source": [
    "print(confusion_matrix(y_test,pred_gbc))"
   ]
  },
  {
   "cell_type": "markdown",
   "metadata": {},
   "source": [
    "<b>Observations:</b>\n",
    "<li> There are 2474 observations which are predicted Positive as TP(True Positive) and it is true.</li>\n",
    "<li> There are 2688 observations which are predicted Negative as TN(True Negative) and it is True.</li>\n",
    "<li> There are 11 observations which are predicted Negative as FN(False Negative) and it is False. </li>\n",
    "<li> There are 23 observations which are predicted Positive as FP(False Positive) and it is False.</li>"
   ]
  },
  {
   "cell_type": "code",
   "execution_count": 38,
   "metadata": {},
   "outputs": [
    {
     "name": "stdout",
     "output_type": "stream",
     "text": [
      "             precision    recall  f1-score   support\n",
      "\n",
      "          0       0.99      1.00      0.99      2485\n",
      "          1       1.00      0.99      0.99      2711\n",
      "\n",
      "avg / total       0.99      0.99      0.99      5196\n",
      "\n"
     ]
    }
   ],
   "source": [
    "from sklearn.metrics import classification_report\n",
    "print(classification_report(y_test,pred_gbc))"
   ]
  },
  {
   "cell_type": "code",
   "execution_count": 39,
   "metadata": {},
   "outputs": [
    {
     "name": "stdout",
     "output_type": "stream",
     "text": [
      "Mean AUC_ROC Score after cross validation 0.9919961301451398\n",
      "standard deviation for Gradient  Boosting from mean AUC_ROC score is 0.005660130947559537\n"
     ]
    }
   ],
   "source": [
    "from sklearn.model_selection import cross_val_score\n",
    "m_gbc_auc=cross_val_score(gbc, X,y,cv=5,scoring=\"roc_auc\").mean()\n",
    "print(\"Mean AUC_ROC Score after cross validation\", cross_val_score(gbc, X,y,cv=5,scoring=\"roc_auc\").mean())\n",
    "m_sgbc_auc= cross_val_score(gbc, X,y,cv=5,scoring=\"roc_auc\").std()\n",
    "print(\"standard deviation for Gradient  Boosting from mean AUC_ROC score is\",cross_val_score(gbc, X,y,cv=5,scoring=\"roc_auc\").std())"
   ]
  },
  {
   "cell_type": "code",
   "execution_count": 40,
   "metadata": {},
   "outputs": [
    {
     "data": {
      "image/png": "[encoded data removed]",
      "text/plain": [
       "<matplotlib.figure.Figure at 0x18c9cbc4e80>"
      ]
     },
     "metadata": {},
     "output_type": "display_data"
    }
   ],
   "source": [
    "from sklearn.metrics import roc_curve\n",
    "from sklearn.metrics import roc_auc_score\n",
    "\n",
    "y_pred_prob= gbc.predict_proba(X_test)[:,0]\n",
    "tpr,fpr, thresholds= roc_curve(y_test, y_pred_prob)\n",
    "\n",
    "\n",
    "# Plot\n",
    "plt.plot([0,1],[0,1],\"k--\")\n",
    "plt.plot(fpr,tpr,label=\"Gradient Boosting\")\n",
    "plt.xlabel(\"False Positive Rate\")\n",
    "plt.ylabel(\"True Positive Rate\")\n",
    "plt.title(\"Gradient Boosting\")\n",
    "plt.show()"
   ]
  },
  {
   "cell_type": "code",
   "execution_count": 41,
   "metadata": {},
   "outputs": [
    {
     "data": {
      "text/plain": [
       "0.9935447431917214"
      ]
     },
     "execution_count": 41,
     "metadata": {},
     "output_type": "execute_result"
    }
   ],
   "source": [
    "auc_score3=roc_auc_score(y_test, gbc.predict(X_test))\n",
    "auc_score3"
   ]
  },
  {
   "cell_type": "markdown",
   "metadata": {},
   "source": [
    "<b>Random Forest Classifier</b>"
   ]
  },
  {
   "cell_type": "code",
   "execution_count": 43,
   "metadata": {},
   "outputs": [
    {
     "data": {
      "text/plain": [
       "{'criterion': 'entropy',\n",
       " 'max_depth': 10,\n",
       " 'max_features': 'auto',\n",
       " 'min_samples_leaf': 3,\n",
       " 'min_samples_split': 5,\n",
       " 'n_estimators': 8}"
      ]
     },
     "execution_count": 43,
     "metadata": {},
     "output_type": "execute_result"
    }
   ],
   "source": [
    "from sklearn.ensemble import RandomForestClassifier\n",
    "ran_forest= RandomForestClassifier()\n",
    "parameters= {'n_estimators':[4,6,8],'max_features':['log2','sqrt','auto'],'criterion':['entropy','gini'],'max_depth':[2,5,10],'min_samples_split':[2,3,5],'min_samples_leaf':[3,5,7]}\n",
    "ran_forest= GridSearchCV(ran_forest,parameters)\n",
    "ran_forest.fit(X,y)\n",
    "ran_forest.best_params_"
   ]
  },
  {
   "cell_type": "code",
   "execution_count": 44,
   "metadata": {},
   "outputs": [
    {
     "name": "stdout",
     "output_type": "stream",
     "text": [
      "Maximum AUC_ROC Score corresponding to: 51  and it is : 0.99\n"
     ]
    }
   ],
   "source": [
    "ran_forest=RandomForestClassifier(criterion='entropy', max_depth=10,max_features='auto',min_samples_leaf=3,min_samples_split=5,n_estimators=8)\n",
    "mx_auc_roc_score(ran_forest,X,y)"
   ]
  },
  {
   "cell_type": "code",
   "execution_count": 45,
   "metadata": {},
   "outputs": [
    {
     "name": "stdout",
     "output_type": "stream",
     "text": [
      "The accuracy of the Random Forest Classifier is: 0.99\n"
     ]
    }
   ],
   "source": [
    "pred_rf= ran_forest.predict(X_test)\n",
    "rf2= ran_forest.score(X_test, y_test)\n",
    "print(\"The accuracy of the Random Forest Classifier is:\",round((rf2),3))"
   ]
  },
  {
   "cell_type": "code",
   "execution_count": 46,
   "metadata": {},
   "outputs": [
    {
     "name": "stdout",
     "output_type": "stream",
     "text": [
      "[[2465   20]\n",
      " [  30 2681]]\n"
     ]
    }
   ],
   "source": [
    "print(confusion_matrix(y_test,pred_rf))"
   ]
  },
  {
   "cell_type": "markdown",
   "metadata": {},
   "source": [
    "<b>Observations:</b>\n",
    "<li> There are 2476 observations which are predicted Positive as TP(True Positive) and it is true.</li>\n",
    "<li> There are 2650 observations which are predicted Negative as TN(True Negative) and it is True.</li>\n",
    "<li> There are 23 observations which are predicted Negative as FN(False Negative) and it is False. </li>\n",
    "<li> There are 47 observations which are predicted Positive as FP(False Positive) and it is False.</li>"
   ]
  },
  {
   "cell_type": "code",
   "execution_count": 426,
   "metadata": {},
   "outputs": [
    {
     "name": "stdout",
     "output_type": "stream",
     "text": [
      "             precision    recall  f1-score   support\n",
      "\n",
      "          0       0.98      0.99      0.99      2499\n",
      "          1       0.99      0.98      0.99      2697\n",
      "\n",
      "avg / total       0.99      0.99      0.99      5196\n",
      "\n"
     ]
    }
   ],
   "source": [
    "print(classification_report(y_test,pred_rf))"
   ]
  },
  {
   "cell_type": "code",
   "execution_count": 47,
   "metadata": {},
   "outputs": [
    {
     "name": "stdout",
     "output_type": "stream",
     "text": [
      "Mean AUC_ROC Score after cross validation 0.9900937741762001\n",
      "standard deviation for Random Forest Classifier from mean AUC_ROC score is 0.009588913609106966\n"
     ]
    }
   ],
   "source": [
    "from sklearn.model_selection import cross_val_score\n",
    "mean_rf_auc=cross_val_score(ran_forest, X,y,cv=5,scoring=\"roc_auc\").mean()\n",
    "print(\"Mean AUC_ROC Score after cross validation\", cross_val_score(ran_forest, X,y,cv=5,scoring=\"roc_auc\").mean())\n",
    "std_rf_auc= cross_val_score(ran_forest, X,y,cv=5,scoring=\"roc_auc\").std()\n",
    "print(\"standard deviation for Random Forest Classifier from mean AUC_ROC score is\",cross_val_score(ran_forest, X,y,cv=5,scoring=\"roc_auc\").std())"
   ]
  },
  {
   "cell_type": "code",
   "execution_count": 48,
   "metadata": {},
   "outputs": [
    {
     "data": {
      "image/png": "[encoded data removed]",
      "text/plain": [
       "<matplotlib.figure.Figure at 0x18c9cbc4f28>"
      ]
     },
     "metadata": {},
     "output_type": "display_data"
    }
   ],
   "source": [
    "y_pred_prob= ran_forest.predict_proba(X_test)[:,0]\n",
    "tpr,fpr, thresholds= roc_curve(y_test, y_pred_prob)\n",
    "\n",
    "\n",
    "# Plot\n",
    "plt.plot([0,1],[0,1],\"k--\")\n",
    "plt.plot(fpr,tpr,label=\"Decision Tree\")\n",
    "plt.xlabel(\"False Positive Rate\")\n",
    "plt.ylabel(\"True Positive Rate\")\n",
    "plt.title(\"Random Forest Classifier\")\n",
    "plt.show()"
   ]
  },
  {
   "cell_type": "code",
   "execution_count": 49,
   "metadata": {},
   "outputs": [
    {
     "data": {
      "text/plain": [
       "0.9904428414826844"
      ]
     },
     "execution_count": 49,
     "metadata": {},
     "output_type": "execute_result"
    }
   ],
   "source": [
    "auc_score4=roc_auc_score(y_test, ran_forest.predict(X_test))\n",
    "auc_score4"
   ]
  },
  {
   "cell_type": "markdown",
   "metadata": {},
   "source": [
    "# Evaluation:"
   ]
  },
  {
   "cell_type": "code",
   "execution_count": 50,
   "metadata": {},
   "outputs": [
    {
     "data": {
      "text/html": [
       "<div>\n",
       "<style>\n",
       "    .dataframe thead tr:only-child th {\n",
       "        text-align: right;\n",
       "    }\n",
       "\n",
       "    .dataframe thead th {\n",
       "        text-align: left;\n",
       "    }\n",
       "\n",
       "    .dataframe tbody tr th {\n",
       "        vertical-align: top;\n",
       "    }\n",
       "</style>\n",
       "<table border=\"1\" class=\"dataframe\">\n",
       "  <thead>\n",
       "    <tr style=\"text-align: right;\">\n",
       "      <th></th>\n",
       "      <th>Model Name</th>\n",
       "      <th>Accuracy</th>\n",
       "      <th>Mean F1 Score</th>\n",
       "      <th>Std from mean F1 Score</th>\n",
       "    </tr>\n",
       "  </thead>\n",
       "  <tbody>\n",
       "    <tr>\n",
       "      <th>1</th>\n",
       "      <td>Logistic Regression</td>\n",
       "      <td>0.950924</td>\n",
       "      <td>0.986607</td>\n",
       "      <td>0.008061</td>\n",
       "    </tr>\n",
       "    <tr>\n",
       "      <th>2</th>\n",
       "      <td>KNN</td>\n",
       "      <td>0.909353</td>\n",
       "      <td>0.958574</td>\n",
       "      <td>0.028404</td>\n",
       "    </tr>\n",
       "    <tr>\n",
       "      <th>3</th>\n",
       "      <td>Gradient Boosting Classifier</td>\n",
       "      <td>0.993457</td>\n",
       "      <td>0.993418</td>\n",
       "      <td>0.005544</td>\n",
       "    </tr>\n",
       "    <tr>\n",
       "      <th>4</th>\n",
       "      <td>Random Forest Classifier</td>\n",
       "      <td>0.990377</td>\n",
       "      <td>0.988117</td>\n",
       "      <td>0.011088</td>\n",
       "    </tr>\n",
       "  </tbody>\n",
       "</table>\n",
       "</div>"
      ],
      "text/plain": [
       "                     Model Name  Accuracy  Mean F1 Score  \\\n",
       "1           Logistic Regression  0.950924       0.986607   \n",
       "2                           KNN  0.909353       0.958574   \n",
       "3  Gradient Boosting Classifier  0.993457       0.993418   \n",
       "4      Random Forest Classifier  0.990377       0.988117   \n",
       "\n",
       "    Std from mean F1 Score  \n",
       "1                 0.008061  \n",
       "2                 0.028404  \n",
       "3                 0.005544  \n",
       "4                 0.011088  "
      ]
     },
     "execution_count": 50,
     "metadata": {},
     "output_type": "execute_result"
    }
   ],
   "source": [
    "#Lets initialise the data frame with columns model and f1_score\n",
    "d= [[\"Logistic Regression\", l1,mean_lr_auc,std_l_auc], [\"KNN\", k2, mean_knn_auc,std_knn_auc],[\"Gradient Boosting Classifier\", g2,m_gbc_auc, m_sgbc_auc],[\"Random Forest Classifier\",rf2,mean_rf_auc,std_rf_auc]]\n",
    "comparsion= pd.DataFrame(d, columns=[\"Model Name\", \"Accuracy\",\"Mean F1 Score\",\" Std from mean F1 Score\"], index=[1,2,3,4])\n",
    "comparsion"
   ]
  },
  {
   "cell_type": "markdown",
   "metadata": {},
   "source": [
    "<b>Observations:</b>\n",
    "<li> From the above models, Gradient Boosting performed well with 99.34% accuracy.</li>\n",
    "<li>As the data was imbalanced, we used AUC ROC for model evaluation and calculated Mean F1 Score and Standard Deviation mean F1 Score</li>"
   ]
  },
  {
   "cell_type": "markdown",
   "metadata": {},
   "source": [
    "<b>Saving the Prediction:</b>"
   ]
  },
  {
   "cell_type": "markdown",
   "metadata": {},
   "source": [
    "As the Gradient Boosting Classifier performed well, we are saving the prediction."
   ]
  },
  {
   "cell_type": "code",
   "execution_count": 52,
   "metadata": {
    "collapsed": true
   },
   "outputs": [],
   "source": [
    "np.savetxt('Model8_2.csv',pred_gbc,delimiter=',')"
   ]
  },
  {
   "cell_type": "code",
   "execution_count": 53,
   "metadata": {},
   "outputs": [
    {
     "data": {
      "text/plain": [
       "['Project8_2.pkl']"
      ]
     },
     "execution_count": 53,
     "metadata": {},
     "output_type": "execute_result"
    }
   ],
   "source": [
    "#Lets save the above model\n",
    "from sklearn.externals import joblib \n",
    "  \n",
    "# Save the model as a pickle in a file \n",
    "joblib.dump(gbc, 'Project8_2.pkl')"
   ]
  }
 ],
 "metadata": {
  "kernelspec": {
   "display_name": "Python 3",
   "language": "python",
   "name": "python3"
  },
  "language_info": {
   "codemirror_mode": {
    "name": "ipython",
    "version": 3
   },
   "file_extension": ".py",
   "mimetype": "text/x-python",
   "name": "python",
   "nbconvert_exporter": "python",
   "pygments_lexer": "ipython3",
   "version": "3.6.1"
  }
 },
 "nbformat": 4,
 "nbformat_minor": 2
}
