{
 "cells": [
  {
   "cell_type": "markdown",
   "metadata": {
    "colab_type": "text",
    "id": "orHl3e1G7l-Q"
   },
   "source": [
    "> <b>Predict A Doctor's Consultation Fee </b>\n",
    "\n",
    "\n",
    "\n",
    "We have all been in situation where we go to a doctor in emergency and find that the consultation fees are too high. As a data scientist we all should do better. What if you have data that records important details about a doctor and you get to build a model to predict the doctor’s consulting fee.? This is the hackathon that lets you do that.\n",
    "\n",
    "Dataset: https://github.com/dsrscientist/Data-Science-ML-Capstone-Projects/blob/master/Doctor_fee_consultation.zip\n",
    "\n",
    "Size of training set: 5961 records\n",
    "\n",
    "Size of test set: 1987 records\n",
    "\n",
    "<b>FEATURES:</b>\n",
    "\n",
    "<b>Qualification:</b> Qualification and degrees held by the doctor\n",
    "\n",
    "<b>Experience:</b> Experience of the doctor in number of years\n",
    "\n",
    "<b>Rating:</b> Rating given by patients\n",
    "\n",
    "<b>Profile:</b> Type of the doctor\n",
    "\n",
    "<b>Miscellaeous_Info:</b> Extra information about the doctor\n",
    "\n",
    "<b>Fees:</b> Fees charged by the doctor\n",
    "\n",
    "<b>Place:</b> Area and the city where the doctor is located."
   ]
  },
  {
   "cell_type": "markdown",
   "metadata": {
    "colab_type": "text",
    "collapsed": true,
    "id": "ZumZip1T7l-U"
   },
   "source": [
    "<b>Importing Necessary Libraries</b>"
   ]
  },
  {
   "cell_type": "code",
   "execution_count": 277,
   "metadata": {
    "colab": {
     "base_uri": "https://localhost:8080/",
     "height": 51
    },
    "colab_type": "code",
    "id": "aD7OIRMT7l-W",
    "outputId": "b71bccf4-f71b-4560-9e49-cd04cccca040"
   },
   "outputs": [
    {
     "name": "stdout",
     "output_type": "stream",
     "text": [
      "[nltk_data] Downloading package stopwords to /root/nltk_data...\n",
      "[nltk_data]   Package stopwords is already up-to-date!\n"
     ]
    }
   ],
   "source": [
    "import pandas as pd\n",
    "import numpy as np\n",
    "import matplotlib.pyplot as plt\n",
    "%matplotlib inline\n",
    "import warnings\n",
    "warnings.filterwarnings(\"ignore\")\n",
    "from scipy.stats import zscore\n",
    "from sklearn.preprocessing import StandardScaler\n",
    "import missingno as msno \n",
    "from sklearn.model_selection import train_test_split\n",
    "import os\n",
    "from sklearn.feature_extraction.text import TfidfVectorizer\n",
    "from sklearn.preprocessing import LabelEncoder\n",
    "from sklearn.metrics import mean_squared_error\n",
    "from sklearn.tree import DecisionTreeRegressor\n",
    "from sklearn.ensemble import RandomForestRegressor\n",
    "from sklearn.model_selection import GridSearchCV\n",
    "import lightgbm as lgb\n",
    "from sklearn.model_selection import cross_val_score\n",
    "import nltk\n",
    "nltk.download('stopwords')\n",
    "import re\n",
    "from nltk.stem import WordNetLemmatizer \n",
    "from nltk.corpus import stopwords\n",
    "from sklearn.ensemble import GradientBoostingRegressor"
   ]
  },
  {
   "cell_type": "code",
   "execution_count": 0,
   "metadata": {
    "colab": {},
    "colab_type": "code",
    "collapsed": true,
    "id": "O9erJloT7l-n"
   },
   "outputs": [],
   "source": [
    "fee_train=pd.read_excel(\"Final_Train.xlsx\")\n",
    "fee_test=pd.read_excel(\"Final_Test.xlsx\")"
   ]
  },
  {
   "cell_type": "code",
   "execution_count": 281,
   "metadata": {
    "colab": {
     "base_uri": "https://localhost:8080/",
     "height": 204
    },
    "colab_type": "code",
    "id": "Sp9kBX4v7l-t",
    "outputId": "e7bb9563-6ddf-4700-fbaf-e796da4037a4"
   },
   "outputs": [
    {
     "data": {
      "text/html": [
       "<div>\n",
       "<style scoped>\n",
       "    .dataframe tbody tr th:only-of-type {\n",
       "        vertical-align: middle;\n",
       "    }\n",
       "\n",
       "    .dataframe tbody tr th {\n",
       "        vertical-align: top;\n",
       "    }\n",
       "\n",
       "    .dataframe thead th {\n",
       "        text-align: right;\n",
       "    }\n",
       "</style>\n",
       "<table border=\"1\" class=\"dataframe\">\n",
       "  <thead>\n",
       "    <tr style=\"text-align: right;\">\n",
       "      <th></th>\n",
       "      <th>Qualification</th>\n",
       "      <th>Experience</th>\n",
       "      <th>Rating</th>\n",
       "      <th>Place</th>\n",
       "      <th>Profile</th>\n",
       "      <th>Miscellaneous_Info</th>\n",
       "      <th>Fees</th>\n",
       "    </tr>\n",
       "  </thead>\n",
       "  <tbody>\n",
       "    <tr>\n",
       "      <th>0</th>\n",
       "      <td>BHMS, MD - Homeopathy</td>\n",
       "      <td>24 years experience</td>\n",
       "      <td>100%</td>\n",
       "      <td>Kakkanad, Ernakulam</td>\n",
       "      <td>Homeopath</td>\n",
       "      <td>100% 16 Feedback Kakkanad, Ernakulam</td>\n",
       "      <td>100.0</td>\n",
       "    </tr>\n",
       "    <tr>\n",
       "      <th>1</th>\n",
       "      <td>BAMS, MD - Ayurveda Medicine</td>\n",
       "      <td>12 years experience</td>\n",
       "      <td>98%</td>\n",
       "      <td>Whitefield, Bangalore</td>\n",
       "      <td>Ayurveda</td>\n",
       "      <td>98% 76 Feedback Whitefield, Bangalore</td>\n",
       "      <td>350.0</td>\n",
       "    </tr>\n",
       "    <tr>\n",
       "      <th>2</th>\n",
       "      <td>MBBS, MS - Otorhinolaryngology</td>\n",
       "      <td>9 years experience</td>\n",
       "      <td>NaN</td>\n",
       "      <td>Mathikere - BEL, Bangalore</td>\n",
       "      <td>ENT Specialist</td>\n",
       "      <td>NaN</td>\n",
       "      <td>300.0</td>\n",
       "    </tr>\n",
       "    <tr>\n",
       "      <th>3</th>\n",
       "      <td>BSc - Zoology, BAMS</td>\n",
       "      <td>12 years experience</td>\n",
       "      <td>NaN</td>\n",
       "      <td>Bannerghatta Road, Bangalore</td>\n",
       "      <td>Ayurveda</td>\n",
       "      <td>Bannerghatta Road, Bangalore ₹250 Available on...</td>\n",
       "      <td>250.0</td>\n",
       "    </tr>\n",
       "    <tr>\n",
       "      <th>4</th>\n",
       "      <td>BAMS</td>\n",
       "      <td>20 years experience</td>\n",
       "      <td>100%</td>\n",
       "      <td>Keelkattalai, Chennai</td>\n",
       "      <td>Ayurveda</td>\n",
       "      <td>100% 4 Feedback Keelkattalai, Chennai</td>\n",
       "      <td>250.0</td>\n",
       "    </tr>\n",
       "  </tbody>\n",
       "</table>\n",
       "</div>"
      ],
      "text/plain": [
       "                    Qualification  ...   Fees\n",
       "0           BHMS, MD - Homeopathy  ...  100.0\n",
       "1    BAMS, MD - Ayurveda Medicine  ...  350.0\n",
       "2  MBBS, MS - Otorhinolaryngology  ...  300.0\n",
       "3             BSc - Zoology, BAMS  ...  250.0\n",
       "4                            BAMS  ...  250.0\n",
       "\n",
       "[5 rows x 7 columns]"
      ]
     },
     "execution_count": 281,
     "metadata": {
      "tags": []
     },
     "output_type": "execute_result"
    }
   ],
   "source": [
    "# Merging the datasets\n",
    "fee=pd.concat([fee_train, fee_test],ignore_index=True)\n",
    "fee.head()"
   ]
  },
  {
   "cell_type": "code",
   "execution_count": 282,
   "metadata": {
    "colab": {
     "base_uri": "https://localhost:8080/",
     "height": 34
    },
    "colab_type": "code",
    "id": "cFLGJUBj7l-6",
    "outputId": "d9f92d2b-ba39-4566-9d91-bb7492a6a4ac"
   },
   "outputs": [
    {
     "data": {
      "text/plain": [
       "(7948, 7)"
      ]
     },
     "execution_count": 282,
     "metadata": {
      "tags": []
     },
     "output_type": "execute_result"
    }
   ],
   "source": [
    "fee.shape"
   ]
  },
  {
   "cell_type": "markdown",
   "metadata": {
    "colab_type": "text",
    "id": "4r1Ng0Tf7l_G"
   },
   "source": [
    "<b>Observation:</b>\n",
    "There are 7948 rows and 7 columns in the dataset."
   ]
  },
  {
   "cell_type": "code",
   "execution_count": 283,
   "metadata": {
    "colab": {
     "base_uri": "https://localhost:8080/",
     "height": 153
    },
    "colab_type": "code",
    "id": "y4tJW7_J7l_I",
    "outputId": "344e9db3-b4d6-49ee-a8b6-d02375963570"
   },
   "outputs": [
    {
     "data": {
      "text/plain": [
       "Qualification          object\n",
       "Experience             object\n",
       "Rating                 object\n",
       "Place                  object\n",
       "Profile                object\n",
       "Miscellaneous_Info     object\n",
       "Fees                  float64\n",
       "dtype: object"
      ]
     },
     "execution_count": 283,
     "metadata": {
      "tags": []
     },
     "output_type": "execute_result"
    }
   ],
   "source": [
    "fee.dtypes"
   ]
  },
  {
   "cell_type": "markdown",
   "metadata": {
    "colab_type": "text",
    "id": "ku3VqkVe7l_O"
   },
   "source": [
    "<b>Observation:</b>\n",
    "Out of 7 attributes, there are 6 attributes which are of object datatype and 1 attribute is of float datatype."
   ]
  },
  {
   "cell_type": "markdown",
   "metadata": {
    "colab_type": "text",
    "id": "haKqypys7l_P"
   },
   "source": [
    "<b>Checking the Missing Values</b>"
   ]
  },
  {
   "cell_type": "code",
   "execution_count": 284,
   "metadata": {
    "colab": {
     "base_uri": "https://localhost:8080/",
     "height": 153
    },
    "colab_type": "code",
    "id": "z9OQBUoe7l_R",
    "outputId": "a4ec947d-4064-4035-f073-9bd1e8cd4a5c"
   },
   "outputs": [
    {
     "data": {
      "text/plain": [
       "Qualification            0\n",
       "Experience               0\n",
       "Rating                4392\n",
       "Place                   31\n",
       "Profile                  0\n",
       "Miscellaneous_Info    3454\n",
       "Fees                  1987\n",
       "dtype: int64"
      ]
     },
     "execution_count": 284,
     "metadata": {
      "tags": []
     },
     "output_type": "execute_result"
    }
   ],
   "source": [
    "fee.isnull().sum()"
   ]
  },
  {
   "cell_type": "code",
   "execution_count": 285,
   "metadata": {
    "colab": {
     "base_uri": "https://localhost:8080/",
     "height": 602
    },
    "colab_type": "code",
    "id": "okQsdRQ_7l_W",
    "outputId": "b552b79f-8300-4f0b-d763-45dbb7425827"
   },
   "outputs": [
    {
     "data": {
      "image/png": "[encoded data removed]",
      "text/plain": [
       "<Figure size 1800x720 with 2 Axes>"
      ]
     },
     "metadata": {
      "tags": []
     },
     "output_type": "display_data"
    }
   ],
   "source": [
    "msno.matrix(fee) \n",
    "plt.show()"
   ]
  },
  {
   "cell_type": "markdown",
   "metadata": {
    "colab_type": "text",
    "id": "UOncBaw37l_f"
   },
   "source": [
    "<b>Observation:</b>\n",
    "We can see that there are missing values in the attributes (Fees,Miscellaneous_Info,Place,Rating)."
   ]
  },
  {
   "cell_type": "code",
   "execution_count": 0,
   "metadata": {
    "colab": {},
    "colab_type": "code",
    "collapsed": true,
    "id": "wFq5IfcT7l_h"
   },
   "outputs": [],
   "source": [
    "# Filling the missing values attributes \"Fees\" using mean\n",
    "fee['Fees'] = fee['Fees'].fillna(fee['Fees'].mean())"
   ]
  },
  {
   "cell_type": "code",
   "execution_count": 0,
   "metadata": {
    "colab": {},
    "colab_type": "code",
    "collapsed": true,
    "id": "tETtTNn27l_q"
   },
   "outputs": [],
   "source": [
    "# Analysing the Rating column, it can be converted to int by stripping off Rating\n",
    "fee[\"Rating\"]= fee[\"Rating\"].str.strip(\"%\")\n",
    "fee[\"Rating\"].fillna(0,inplace=True)"
   ]
  },
  {
   "cell_type": "code",
   "execution_count": 0,
   "metadata": {
    "colab": {},
    "colab_type": "code",
    "collapsed": true,
    "id": "lc1MaFkq7l_7"
   },
   "outputs": [],
   "source": [
    "# Converting attribute into int datatype\n",
    "fee[\"Rating\"]= fee[\"Rating\"].astype(int)"
   ]
  },
  {
   "cell_type": "code",
   "execution_count": 0,
   "metadata": {
    "colab": {},
    "colab_type": "code",
    "collapsed": true,
    "id": "Qv7iIfXH7mAJ"
   },
   "outputs": [],
   "source": [
    "# Analysing the Experience column, it can be converted to int by stripping off Experience\n",
    "fee[\"Experience\"]= fee[\"Experience\"].str.strip(\"years experience\")\n",
    "# Converting attribute into int datatype\n",
    "fee[\"Experience\"]= fee[\"Experience\"].astype(int)"
   ]
  },
  {
   "cell_type": "code",
   "execution_count": 290,
   "metadata": {
    "colab": {
     "base_uri": "https://localhost:8080/",
     "height": 221
    },
    "colab_type": "code",
    "id": "8A0NhY_m7mAf",
    "outputId": "46ad1b82-0bb0-41ab-a0c0-4ef6789ada92"
   },
   "outputs": [
    {
     "data": {
      "text/plain": [
       "HSR Layout, Bangalore         97\n",
       "Andheri West, Mumbai          97\n",
       "Dwarka, Delhi                 93\n",
       "Banjara Hills, Hyderabad      85\n",
       "Mulund West, Mumbai           81\n",
       "                              ..\n",
       "Jahangirpuri, Delhi            1\n",
       "Safilguda, Hyderabad           1\n",
       "Paravur, Ernakulam             1\n",
       "Pasur-avanashi, Coimbatore     1\n",
       "Kurla, Mumbai                  1\n",
       "Name: Place, Length: 948, dtype: int64"
      ]
     },
     "execution_count": 290,
     "metadata": {
      "tags": []
     },
     "output_type": "execute_result"
    }
   ],
   "source": [
    "# Lets check the value of Place\n",
    "fee[\"Place\"].value_counts()"
   ]
  },
  {
   "cell_type": "code",
   "execution_count": 0,
   "metadata": {
    "colab": {},
    "colab_type": "code",
    "collapsed": true,
    "id": "oZjzfe1C7mAn"
   },
   "outputs": [],
   "source": [
    "#  We have taken 3 places where \n",
    "top_places= fee[\"Place\"].value_counts().index[0:5]\n",
    "null_condition=fee[\"Place\"].isnull()"
   ]
  },
  {
   "cell_type": "code",
   "execution_count": 0,
   "metadata": {
    "colab": {},
    "colab_type": "code",
    "collapsed": true,
    "id": "qb4ZVDL-7mAu"
   },
   "outputs": [],
   "source": [
    "#We  will impute the null values with fisrt top 5 popular places where doctor sit\n",
    "null_condition=fee[[\"Place\"]].isnull()\n",
    "count=0\n",
    "for index_null in null_condition.index:\n",
    "    if null_condition.loc[index_null][0]==True:\n",
    "        if count%5==0:\n",
    "            fee.loc[index_null,[\"Place\"]]=top_places[0]\n",
    "        if count%5==1:\n",
    "            fee.loc[index_null,[\"Place\"]]=top_places[1]\n",
    "        if count%5==2:\n",
    "            fee.loc[index_null,[\"Place\"]]=top_places[2]\n",
    "        if count%5==3:\n",
    "            fee.loc[index_null,[\"Place\"]]=top_places[3]\n",
    "        if count%5==4:\n",
    "            fee.loc[index_null,[\"Place\"]]=top_places[4]\n",
    "        count=count+1"
   ]
  },
  {
   "cell_type": "code",
   "execution_count": 293,
   "metadata": {
    "colab": {
     "base_uri": "https://localhost:8080/",
     "height": 34
    },
    "colab_type": "code",
    "id": "I_p-qwD07mAz",
    "outputId": "01d9bb12-2227-4839-d1f0-f26bc94be496"
   },
   "outputs": [
    {
     "name": "stdout",
     "output_type": "stream",
     "text": [
      "Max address length is :3\n"
     ]
    }
   ],
   "source": [
    "#Now we will divide the Place column into multiple columns followed by finding maximum length in Place column\n",
    "address_length=-1\n",
    "for i in range(len(fee[\"Place\"])):\n",
    "    temp=len(fee[\"Place\"].iloc[i].strip().upper().split(\",\"))\n",
    "    if temp>address_length:\n",
    "        address_length=temp\n",
    "print(\"Max address length is :{}\".format(address_length))"
   ]
  },
  {
   "cell_type": "code",
   "execution_count": 0,
   "metadata": {
    "colab": {},
    "colab_type": "code",
    "collapsed": true,
    "id": "il_uz6TW7mA8"
   },
   "outputs": [],
   "source": [
    "P1=list()\n",
    "P2=list()\n",
    "P3=list()\n",
    "for i in range(len(fee[\"Place\"])):\n",
    "    temp=fee[\"Place\"].iloc[i].split(\",\")\n",
    "    try :\n",
    "        P1.append(temp[0].strip().upper())\n",
    "    except :\n",
    "        P1.append('NONE')\n",
    "    try :\n",
    "        P2.append(temp[1].strip().upper())\n",
    "    except :\n",
    "        P2.append('NONE')\n",
    "    try :\n",
    "        P3.append(temp[2].strip().upper())\n",
    "    except :\n",
    "        P3.append('NONE')\n",
    "\n",
    "fee[\"P1\"]=P1\n",
    "fee[\"P2\"]=P2\n",
    "fee[\"P3\"]=P3"
   ]
  },
  {
   "cell_type": "code",
   "execution_count": 295,
   "metadata": {
    "colab": {
     "base_uri": "https://localhost:8080/",
     "height": 80
    },
    "colab_type": "code",
    "id": "khATUy9L7mBB",
    "outputId": "e433277e-152e-45d1-e902-0a3f840fcb3f"
   },
   "outputs": [
    {
     "data": {
      "text/html": [
       "<div>\n",
       "<style scoped>\n",
       "    .dataframe tbody tr th:only-of-type {\n",
       "        vertical-align: middle;\n",
       "    }\n",
       "\n",
       "    .dataframe tbody tr th {\n",
       "        vertical-align: top;\n",
       "    }\n",
       "\n",
       "    .dataframe thead th {\n",
       "        text-align: right;\n",
       "    }\n",
       "</style>\n",
       "<table border=\"1\" class=\"dataframe\">\n",
       "  <thead>\n",
       "    <tr style=\"text-align: right;\">\n",
       "      <th></th>\n",
       "      <th>Qualification</th>\n",
       "      <th>Experience</th>\n",
       "      <th>Rating</th>\n",
       "      <th>Place</th>\n",
       "      <th>Profile</th>\n",
       "      <th>Miscellaneous_Info</th>\n",
       "      <th>Fees</th>\n",
       "      <th>P1</th>\n",
       "      <th>P2</th>\n",
       "      <th>P3</th>\n",
       "    </tr>\n",
       "  </thead>\n",
       "  <tbody>\n",
       "    <tr>\n",
       "      <th>2169</th>\n",
       "      <td>BDS</td>\n",
       "      <td>11</td>\n",
       "      <td>0</td>\n",
       "      <td>Dwarka, Sector 5, Delhi</td>\n",
       "      <td>Dentist</td>\n",
       "      <td>NaN</td>\n",
       "      <td>250.0</td>\n",
       "      <td>DWARKA</td>\n",
       "      <td>SECTOR 5</td>\n",
       "      <td>DELHI</td>\n",
       "    </tr>\n",
       "  </tbody>\n",
       "</table>\n",
       "</div>"
      ],
      "text/plain": [
       "     Qualification  Experience  Rating  ...      P1        P2     P3\n",
       "2169           BDS          11       0  ...  DWARKA  SECTOR 5  DELHI\n",
       "\n",
       "[1 rows x 10 columns]"
      ]
     },
     "execution_count": 295,
     "metadata": {
      "tags": []
     },
     "output_type": "execute_result"
    }
   ],
   "source": [
    "fee.loc[fee[\"P3\"]!=\"NONE\"]"
   ]
  },
  {
   "cell_type": "markdown",
   "metadata": {
    "colab_type": "text",
    "id": "WpB5YSxD7mBK"
   },
   "source": [
    "We see that there is one row where pr contains NaN."
   ]
  },
  {
   "cell_type": "code",
   "execution_count": 0,
   "metadata": {
    "colab": {},
    "colab_type": "code",
    "collapsed": true,
    "id": "IrdTPo1I7mBM"
   },
   "outputs": [],
   "source": [
    "# Now we are changing the p2 by p3 then drop p3 column\n",
    "fee.loc[fee[\"P3\"]!=\"NONE\",[\"P2\"]]= fee[[\"P3\"]]\n",
    "fee[\"P3\"].fillna(\"DELHI\",inplace=True)\n",
    "# Dropping p3\n",
    "fee.drop([\"P3\",\"Place\"],axis=1,inplace=True)"
   ]
  },
  {
   "cell_type": "code",
   "execution_count": 297,
   "metadata": {
    "colab": {
     "base_uri": "https://localhost:8080/",
     "height": 34
    },
    "colab_type": "code",
    "id": "AftSe9IJ7mBQ",
    "outputId": "117fd83e-dab5-4893-e0f7-52de27c00ba0"
   },
   "outputs": [
    {
     "name": "stdout",
     "output_type": "stream",
     "text": [
      "Max qualification length is :17\n"
     ]
    }
   ],
   "source": [
    "#Now we are analysing the \"Qualification\" column and dividing it into multiple columns followed by maximum Length \n",
    "qualification_length=-1\n",
    "for i in range(len(fee[\"Qualification\"])):\n",
    "    temp=len(fee[\"Qualification\"].iloc[i].strip().upper().split(\",\"))\n",
    "    if temp>qualification_length:\n",
    "        qualification_length=temp\n",
    "print(\"Max qualification length is :{}\".format(qualification_length))"
   ]
  },
  {
   "cell_type": "code",
   "execution_count": 0,
   "metadata": {
    "colab": {},
    "colab_type": "code",
    "collapsed": true,
    "id": "9kP5w9uC7mBV"
   },
   "outputs": [],
   "source": [
    "Q1=list()\n",
    "Q2=list()\n",
    "Q3=list()\n",
    "Q4=list()\n",
    "Q5=list()\n",
    "Q6=list()\n",
    "Q7=list()\n",
    "Q8=list()\n",
    "Q9=list()\n",
    "Q10=list()\n",
    "Q11=list()\n",
    "Q12=list()\n",
    "Q13=list()\n",
    "Q14=list()\n",
    "Q15=list()\n",
    "Q16=list()\n",
    "Q17=list()\n",
    "for i in range(len(fee[\"Qualification\"])):\n",
    "    temp=fee[\"Qualification\"].iloc[i].split(\",\")\n",
    "    try :\n",
    "        Q1.append(temp[0].strip().upper())\n",
    "    except :\n",
    "        Q1.append('NONE')\n",
    "    try :\n",
    "        Q2.append(temp[1].strip().upper())\n",
    "    except :\n",
    "        Q2.append('NONE')\n",
    "    try :\n",
    "        Q3.append(temp[2].strip().upper())\n",
    "    except :\n",
    "        Q3.append('NONE')\n",
    "    try :\n",
    "        Q4.append(temp[3].strip().upper())\n",
    "    except :\n",
    "        Q4.append('NONE')\n",
    "    try :\n",
    "        Q5.append(temp[4].strip().upper())\n",
    "    except :\n",
    "        Q5.append('NONE')\n",
    "    try :\n",
    "        Q6.append(temp[5].strip().upper())\n",
    "    except :\n",
    "        Q6.append('NONE')\n",
    "    try :\n",
    "        Q7.append(temp[6].strip().upper())\n",
    "    except :\n",
    "        Q7.append('NONE')\n",
    "    try :\n",
    "        Q8.append(temp[7].strip().upper())\n",
    "    except :\n",
    "        Q8.append('NONE')\n",
    "    try :\n",
    "        Q9.append(temp[8].strip().upper())\n",
    "    except :\n",
    "        Q9.append('NONE')\n",
    "    try :\n",
    "        Q10.append(temp[9].strip().upper())\n",
    "    except :\n",
    "        Q10.append('NONE')\n",
    "    try :\n",
    "        Q11.append(temp[10].strip().upper())\n",
    "    except :\n",
    "        Q11.append('NONE')\n",
    "    try :\n",
    "        Q12.append(temp[11].strip().upper())\n",
    "    except :\n",
    "        Q12.append('NONE')\n",
    "    try :\n",
    "        Q13.append(temp[12].strip().upper())\n",
    "    except :\n",
    "        Q13.append('NONE')\n",
    "    try :\n",
    "        Q14.append(temp[13].strip().upper())\n",
    "    except :\n",
    "        Q14.append('NONE')\n",
    "    try :\n",
    "        Q15.append(temp[14].strip().upper())\n",
    "    except :\n",
    "        Q15.append('NONE')\n",
    "    try :\n",
    "        Q16.append(temp[15].strip().upper())\n",
    "    except :\n",
    "        Q16.append('NONE')\n",
    "    try :\n",
    "        Q17.append(temp[16].strip().upper())\n",
    "    except :\n",
    "        Q17.append('NONE')\n",
    "        \n",
    "        \n",
    "fee[\"Q1\"]=Q1\n",
    "fee[\"Q2\"]=Q2\n",
    "fee[\"Q3\"]=Q3\n",
    "fee[\"Q4\"]=Q4\n",
    "fee[\"Q5\"]=Q5\n",
    "fee[\"Q6\"]=Q6\n",
    "fee[\"Q7\"]=Q7\n",
    "fee[\"Q8\"]=Q8\n",
    "fee[\"Q9\"]=Q9\n",
    "fee[\"Q10\"]=Q10\n",
    "fee[\"Q11\"]=Q11\n",
    "fee[\"Q12\"]=Q12\n",
    "fee[\"Q13\"]=Q13\n",
    "fee[\"Q14\"]=Q14\n",
    "fee[\"Q15\"]=Q15\n",
    "fee[\"Q16\"]=Q16\n",
    "fee[\"Q17\"]=Q17"
   ]
  },
  {
   "cell_type": "code",
   "execution_count": 299,
   "metadata": {
    "colab": {
     "base_uri": "https://localhost:8080/",
     "height": 878
    },
    "colab_type": "code",
    "id": "d9xSp0jW7mBd",
    "outputId": "86028e8f-99e5-4bbe-e987-1d93c8839a9f"
   },
   "outputs": [
    {
     "data": {
      "text/html": [
       "<div>\n",
       "<style scoped>\n",
       "    .dataframe tbody tr th:only-of-type {\n",
       "        vertical-align: middle;\n",
       "    }\n",
       "\n",
       "    .dataframe tbody tr th {\n",
       "        vertical-align: top;\n",
       "    }\n",
       "\n",
       "    .dataframe thead th {\n",
       "        text-align: right;\n",
       "    }\n",
       "</style>\n",
       "<table border=\"1\" class=\"dataframe\">\n",
       "  <thead>\n",
       "    <tr style=\"text-align: right;\">\n",
       "      <th></th>\n",
       "      <th>Qualification</th>\n",
       "      <th>Experience</th>\n",
       "      <th>Rating</th>\n",
       "      <th>Profile</th>\n",
       "      <th>Miscellaneous_Info</th>\n",
       "      <th>Fees</th>\n",
       "      <th>P1</th>\n",
       "      <th>P2</th>\n",
       "      <th>Q1</th>\n",
       "      <th>Q2</th>\n",
       "      <th>Q3</th>\n",
       "      <th>Q4</th>\n",
       "      <th>Q5</th>\n",
       "      <th>Q6</th>\n",
       "      <th>Q7</th>\n",
       "      <th>Q8</th>\n",
       "      <th>Q9</th>\n",
       "      <th>Q10</th>\n",
       "      <th>Q11</th>\n",
       "      <th>Q12</th>\n",
       "      <th>Q13</th>\n",
       "      <th>Q14</th>\n",
       "      <th>Q15</th>\n",
       "      <th>Q16</th>\n",
       "      <th>Q17</th>\n",
       "    </tr>\n",
       "  </thead>\n",
       "  <tbody>\n",
       "    <tr>\n",
       "      <th>1593</th>\n",
       "      <td>Diploma in Diet and Nutrition, BHMS, Diploma i...</td>\n",
       "      <td>10</td>\n",
       "      <td>99</td>\n",
       "      <td>Homeopath</td>\n",
       "      <td>Dermabrasion Laser Resurfacing Acne / Pimples ...</td>\n",
       "      <td>500.00000</td>\n",
       "      <td>GHATKOPAR EAST</td>\n",
       "      <td>MUMBAI</td>\n",
       "      <td>DIPLOMA IN DIET AND NUTRITION</td>\n",
       "      <td>BHMS</td>\n",
       "      <td>DIPLOMA IN BEAUTY THERAPY</td>\n",
       "      <td>CERTIFICATE COURSE IN COSMETIC DERMATOLOGY &amp; L...</td>\n",
       "      <td>PG DIPLOMA IN CLINICAL COSMETOLOGY (PGDCC)</td>\n",
       "      <td>PG DIPLOMA IN TRICHOLOGY</td>\n",
       "      <td>CERTIFICATE IN BOTOX</td>\n",
       "      <td>FILLERS</td>\n",
       "      <td>THREADLIFTS</td>\n",
       "      <td>NONE</td>\n",
       "      <td>NONE</td>\n",
       "      <td>NONE</td>\n",
       "      <td>NONE</td>\n",
       "      <td>NONE</td>\n",
       "      <td>NONE</td>\n",
       "      <td>NONE</td>\n",
       "      <td>NONE</td>\n",
       "    </tr>\n",
       "    <tr>\n",
       "      <th>2035</th>\n",
       "      <td>Fellowship in Oral implantlogy, Certified Adva...</td>\n",
       "      <td>22</td>\n",
       "      <td>97</td>\n",
       "      <td>Dentist</td>\n",
       "      <td>RCT - Root Canal Treatment Cosmetic/ Aesthetic...</td>\n",
       "      <td>300.00000</td>\n",
       "      <td>ASHOK NAGAR</td>\n",
       "      <td>CHENNAI</td>\n",
       "      <td>FELLOWSHIP IN ORAL IMPLANTLOGY</td>\n",
       "      <td>CERTIFIED ADVANCE COURSE IN ENDODONTICS</td>\n",
       "      <td>CERTIFIED IN ORTHODONTICS</td>\n",
       "      <td>CERTIFICATION IN FULL MOUTH REHABILITATION</td>\n",
       "      <td>CERTIFIED BPS DENTIST</td>\n",
       "      <td>CERTIFICATE IN COSMETIC DENTISTRY</td>\n",
       "      <td>PROFESSIONAL IMPLANTOLOGY TRAINING COURSE (PITC)</td>\n",
       "      <td>FELLOWSHIP IN ADVANCED ENDOSCOPIC SINUS SURGERY</td>\n",
       "      <td>DEGREE IN DENTAL IMPLANT</td>\n",
       "      <td>FELLOWSHIP IN LASERS &amp; COSMETOLOGY</td>\n",
       "      <td>NONE</td>\n",
       "      <td>NONE</td>\n",
       "      <td>NONE</td>\n",
       "      <td>NONE</td>\n",
       "      <td>NONE</td>\n",
       "      <td>NONE</td>\n",
       "      <td>NONE</td>\n",
       "    </tr>\n",
       "    <tr>\n",
       "      <th>3562</th>\n",
       "      <td>MBBS, Diploma in Family Medicine (DFM), Certif...</td>\n",
       "      <td>5</td>\n",
       "      <td>0</td>\n",
       "      <td>General Medicine</td>\n",
       "      <td>NaN</td>\n",
       "      <td>700.00000</td>\n",
       "      <td>COIMBATORE RACECOURSE</td>\n",
       "      <td>COIMBATORE</td>\n",
       "      <td>MBBS</td>\n",
       "      <td>DIPLOMA IN FAMILY MEDICINE (DFM)</td>\n",
       "      <td>CERTIFICATE COURSE IN GESTATIONAL DIABETES (CC...</td>\n",
       "      <td>CCEDM</td>\n",
       "      <td>POST GRADUATE DIPLOMA IN DIABETOLOGY (PGDD)(CA...</td>\n",
       "      <td>UK)</td>\n",
       "      <td>ACDMC</td>\n",
       "      <td>CCMTD</td>\n",
       "      <td>NONE</td>\n",
       "      <td>NONE</td>\n",
       "      <td>NONE</td>\n",
       "      <td>NONE</td>\n",
       "      <td>NONE</td>\n",
       "      <td>NONE</td>\n",
       "      <td>NONE</td>\n",
       "      <td>NONE</td>\n",
       "      <td>NONE</td>\n",
       "    </tr>\n",
       "    <tr>\n",
       "      <th>3580</th>\n",
       "      <td>MBBS, MD - General Medicine, Post Graduate Dip...</td>\n",
       "      <td>17</td>\n",
       "      <td>88</td>\n",
       "      <td>General Medicine</td>\n",
       "      <td>Non-Invasive Cardiology Chest Pain Treatment C...</td>\n",
       "      <td>100.00000</td>\n",
       "      <td>GREATER KAILASH PART 1</td>\n",
       "      <td>DELHI</td>\n",
       "      <td>MBBS</td>\n",
       "      <td>MD - GENERAL MEDICINE</td>\n",
       "      <td>POST GRADUATE DIPLOMA IN DIABETOLOGY (PGDD)</td>\n",
       "      <td>FELLOWSHIP IN NON-INVASIVE CARDIOLOGY (FIC)</td>\n",
       "      <td>ADVANCED CERTIFICATE COURSE IN DIABETES</td>\n",
       "      <td>ADVANCED CERTIFICATE COURSE IN DIABETES</td>\n",
       "      <td>ADVANCED CERTIFICATION IN CLINICAL DIABETOLOGY</td>\n",
       "      <td>POST GRADUATE CERTIFICATE IN SPORTS MEDICINE</td>\n",
       "      <td>CLINICAL CARDIOLOGY CERTIFICATION</td>\n",
       "      <td>NONE</td>\n",
       "      <td>NONE</td>\n",
       "      <td>NONE</td>\n",
       "      <td>NONE</td>\n",
       "      <td>NONE</td>\n",
       "      <td>NONE</td>\n",
       "      <td>NONE</td>\n",
       "      <td>NONE</td>\n",
       "    </tr>\n",
       "    <tr>\n",
       "      <th>4174</th>\n",
       "      <td>MBBS, DNB - General Medicine, FRCP, Post Gradu...</td>\n",
       "      <td>29</td>\n",
       "      <td>76</td>\n",
       "      <td>General Medicine</td>\n",
       "      <td>76% 8 Feedback Old Rajendra Nagar, Delhi</td>\n",
       "      <td>100.00000</td>\n",
       "      <td>OLD RAJENDRA NAGAR</td>\n",
       "      <td>DELHI</td>\n",
       "      <td>MBBS</td>\n",
       "      <td>DNB - GENERAL MEDICINE</td>\n",
       "      <td>FRCP</td>\n",
       "      <td>POST GRADUATE CERTIFICATE IN HIV AND STD MANEG...</td>\n",
       "      <td>FELLOWSHIP IN RHEUMATOLOGY</td>\n",
       "      <td>FELLOW INDIAN ACADEMY OF CLINICAL MEDICINE</td>\n",
       "      <td>ADVANCE COURSE IN OSTEOPOROSIS</td>\n",
       "      <td>EULAR CERTIFICATE FOR RHEUMATIC DISEASES</td>\n",
       "      <td>NONE</td>\n",
       "      <td>NONE</td>\n",
       "      <td>NONE</td>\n",
       "      <td>NONE</td>\n",
       "      <td>NONE</td>\n",
       "      <td>NONE</td>\n",
       "      <td>NONE</td>\n",
       "      <td>NONE</td>\n",
       "      <td>NONE</td>\n",
       "    </tr>\n",
       "    <tr>\n",
       "      <th>5667</th>\n",
       "      <td>MD - CCM, MD - Physician, Post Graduate Diplom...</td>\n",
       "      <td>13</td>\n",
       "      <td>0</td>\n",
       "      <td>General Medicine</td>\n",
       "      <td>NaN</td>\n",
       "      <td>300.00000</td>\n",
       "      <td>PUNJAGUTTA</td>\n",
       "      <td>HYDERABAD</td>\n",
       "      <td>MD - CCM</td>\n",
       "      <td>MD - PHYSICIAN</td>\n",
       "      <td>POST GRADUATE DIPLOMA IN DIABETOLOGY (PGDD)</td>\n",
       "      <td>CCST - DIABETES &amp; ENDOCRINOLOGY</td>\n",
       "      <td>MASTER OF FAMILY MEDICINE</td>\n",
       "      <td>DIPLOMA IN FAMILY MEDICINE (DFM)</td>\n",
       "      <td>POSTGRADUATE DIPLOMA CLINICAL CARDIOLOGY (PGDCC)</td>\n",
       "      <td>POST GRADUATE DIPLOMA IN DIABETOLOGY (PGDD)</td>\n",
       "      <td>MD - CARDIOLOGY</td>\n",
       "      <td>NONE</td>\n",
       "      <td>NONE</td>\n",
       "      <td>NONE</td>\n",
       "      <td>NONE</td>\n",
       "      <td>NONE</td>\n",
       "      <td>NONE</td>\n",
       "      <td>NONE</td>\n",
       "      <td>NONE</td>\n",
       "    </tr>\n",
       "    <tr>\n",
       "      <th>7248</th>\n",
       "      <td>BDS, PG Diploma in Conservative, Endodontics a...</td>\n",
       "      <td>4</td>\n",
       "      <td>100</td>\n",
       "      <td>Dentist</td>\n",
       "      <td>Dental Crowns Dental Fillings Dental Implant F...</td>\n",
       "      <td>307.94464</td>\n",
       "      <td>NEW ASHOK NAGAR</td>\n",
       "      <td>DELHI</td>\n",
       "      <td>BDS</td>\n",
       "      <td>PG DIPLOMA IN CONSERVATIVE</td>\n",
       "      <td>ENDODONTICS AND AESTHETIC DENTISTRY</td>\n",
       "      <td>FELLOWSHIP IN CLINICAL COSMETOLOGY</td>\n",
       "      <td>PG DIPLOMA IN CLINICAL COSMETOLOGY (PGDCC)</td>\n",
       "      <td>MBA - HOSPITAL MANAGEMENT</td>\n",
       "      <td>DIPLOMA IN COSMETIC DENTISTRY</td>\n",
       "      <td>FELLOW OF ACADEMY OF GENERAL EDUCATION (FAGE)</td>\n",
       "      <td>ADVANCED RETREATMENT COURSE IN RCT</td>\n",
       "      <td>ADVANCED ENDOTONTIC COURSE ON ROOT CANAL</td>\n",
       "      <td>CERTIFIED COURSE IN ORAL SURGERY</td>\n",
       "      <td>MIDA</td>\n",
       "      <td>CERTIFICATION IN PROSTHODONTICS &amp; PERIODONTOLOGY</td>\n",
       "      <td>CERTIFIED ADVANCED COURSE IN WISDOM TOOTH EXTR...</td>\n",
       "      <td>CERTIFICATE IN COSMETIC DENTISTRY</td>\n",
       "      <td>FELLOWSHIP IN AESTHETIC DENTISTRY (FAD)</td>\n",
       "      <td>POST GRADUATE CERTIFICATE IN ENDODONTICS (PGCE)</td>\n",
       "    </tr>\n",
       "    <tr>\n",
       "      <th>7249</th>\n",
       "      <td>FAMS - Fellowship of the Academy Medicine, MBB...</td>\n",
       "      <td>28</td>\n",
       "      <td>60</td>\n",
       "      <td>ENT Specialist</td>\n",
       "      <td>60% 1 Feedback AS Rao Nagar, Hyderabad</td>\n",
       "      <td>307.94464</td>\n",
       "      <td>AS RAO NAGAR</td>\n",
       "      <td>HYDERABAD</td>\n",
       "      <td>FAMS - FELLOWSHIP OF THE ACADEMY MEDICINE</td>\n",
       "      <td>MBBS</td>\n",
       "      <td>MS - ENT</td>\n",
       "      <td>DIPLOMA IN ENT</td>\n",
       "      <td>SPECIALIZED TRAINING IN OTOLOGY</td>\n",
       "      <td>FELLOWSHIP IN HEAD &amp; NECK ONCOLOGY SURGERY</td>\n",
       "      <td>ADVANCED ENDOSCOPY TRAINING</td>\n",
       "      <td>COCHLEAR IMPLANT SURGERY</td>\n",
       "      <td>ADVANCE COURSE ON DIAGNOSIS OF ALLERGY AND IMM...</td>\n",
       "      <td>NONE</td>\n",
       "      <td>NONE</td>\n",
       "      <td>NONE</td>\n",
       "      <td>NONE</td>\n",
       "      <td>NONE</td>\n",
       "      <td>NONE</td>\n",
       "      <td>NONE</td>\n",
       "      <td>NONE</td>\n",
       "    </tr>\n",
       "  </tbody>\n",
       "</table>\n",
       "</div>"
      ],
      "text/plain": [
       "                                          Qualification  ...                                              Q17\n",
       "1593  Diploma in Diet and Nutrition, BHMS, Diploma i...  ...                                             NONE\n",
       "2035  Fellowship in Oral implantlogy, Certified Adva...  ...                                             NONE\n",
       "3562  MBBS, Diploma in Family Medicine (DFM), Certif...  ...                                             NONE\n",
       "3580  MBBS, MD - General Medicine, Post Graduate Dip...  ...                                             NONE\n",
       "4174  MBBS, DNB - General Medicine, FRCP, Post Gradu...  ...                                             NONE\n",
       "5667  MD - CCM, MD - Physician, Post Graduate Diplom...  ...                                             NONE\n",
       "7248  BDS, PG Diploma in Conservative, Endodontics a...  ...  POST GRADUATE CERTIFICATE IN ENDODONTICS (PGCE)\n",
       "7249  FAMS - Fellowship of the Academy Medicine, MBB...  ...                                             NONE\n",
       "\n",
       "[8 rows x 25 columns]"
      ]
     },
     "execution_count": 299,
     "metadata": {
      "tags": []
     },
     "output_type": "execute_result"
    }
   ],
   "source": [
    "fee.loc[(fee[\"Q8\"]!=\"NONE\")|(fee[\"Q9\"]!=\"NONE\")|(fee[\"Q10\"]!=\"NONE\")|(fee[\"Q11\"]!=\"NONE\")|(fee[\"Q12\"]!=\"NONE\")|(fee[\"Q13\"]!=\"NONE\")|(fee[\"Q14\"]!=\"NONE\")|(fee[\"Q15\"]!=\"NONE\")|(fee[\"Q16\"]!=\"NONE\")|(fee[\"Q17\"]!=\"NONE\")]"
   ]
  },
  {
   "cell_type": "code",
   "execution_count": 0,
   "metadata": {
    "colab": {},
    "colab_type": "code",
    "collapsed": true,
    "id": "anSeOpLf7mBk"
   },
   "outputs": [],
   "source": [
    "# dropping columns\n",
    "fee.drop([\"Q8\",\"Q9\",\"Q10\",\"Q11\",\"Q12\",\"Q13\",\"Q14\",\"Q15\",\"Q16\",\"Q17\",\"Qualification\"],axis=1,inplace=True)"
   ]
  },
  {
   "cell_type": "code",
   "execution_count": 0,
   "metadata": {
    "colab": {},
    "colab_type": "code",
    "collapsed": true,
    "id": "KoAbBP4_7mBu"
   },
   "outputs": [],
   "source": [
    "#Below function we will use to clean the Miscellaneous_Info column\n",
    "stop_words=list(stopwords.words('english'))\n",
    "lemmatizer = WordNetLemmatizer() \n",
    "def clean(text):\n",
    "    newstring=\"\"\n",
    "    text=re.sub(\"[\\W*]\",\" \",text)\n",
    "    text=re.sub(\"\\d+[a-z]*\",\" \",text)\n",
    "    text=re.sub(\"\\s+\",\" \",text)\n",
    "    count=0\n",
    "    for word in text.split():\n",
    "        if word not in stop_words:\n",
    "            word=lemmatizer.lemmatize(word)\n",
    "            if count==0:\n",
    "                newstring=newstring+word\n",
    "            if count!=0:\n",
    "                newstring=newstring+\" \"+word\n",
    "            count=count+1\n",
    "    return newstring"
   ]
  },
  {
   "cell_type": "code",
   "execution_count": 0,
   "metadata": {
    "colab": {},
    "colab_type": "code",
    "collapsed": true,
    "id": "IaVY2wxJnXDc"
   },
   "outputs": [],
   "source": [
    "fee[\"Miscellaneous_Info\"]=fee[\"Miscellaneous_Info\"].astype(str)"
   ]
  },
  {
   "cell_type": "code",
   "execution_count": 0,
   "metadata": {
    "colab": {},
    "colab_type": "code",
    "collapsed": true,
    "id": "eSBmYZiDBUfw"
   },
   "outputs": [],
   "source": [
    "fee[\"Miscellaneous_Info\"]=fee[\"Miscellaneous_Info\"].apply(lambda x: clean(x))"
   ]
  },
  {
   "cell_type": "code",
   "execution_count": 0,
   "metadata": {
    "colab": {},
    "colab_type": "code",
    "collapsed": true,
    "id": "QuebsvTk7mB6"
   },
   "outputs": [],
   "source": [
    "#Lets use tf-idf to convert Miscellaneous_Info\n",
    "vc = TfidfVectorizer(max_features=1000)\n",
    "fee_data= vc.fit_transform(fee[\"Miscellaneous_Info\"].to_list())"
   ]
  },
  {
   "cell_type": "code",
   "execution_count": 0,
   "metadata": {
    "colab": {},
    "colab_type": "code",
    "collapsed": true,
    "id": "dYsaaifn7mCB"
   },
   "outputs": [],
   "source": [
    "fee=pd.concat([fee,pd.DataFrame(fee_data.toarray())],axis=1)\n",
    "fee.drop([\"Miscellaneous_Info\"],axis=1,inplace=True)"
   ]
  },
  {
   "cell_type": "markdown",
   "metadata": {
    "colab_type": "text",
    "id": "fj_hByvf7mCF"
   },
   "source": [
    "<b>Exploratory Data Analysis</b>"
   ]
  },
  {
   "cell_type": "code",
   "execution_count": 306,
   "metadata": {
    "colab": {
     "base_uri": "https://localhost:8080/",
     "height": 283
    },
    "colab_type": "code",
    "id": "awj4ds_67mCG",
    "outputId": "191afb1f-367d-4adf-af75-8ab58c060057"
   },
   "outputs": [
    {
     "data": {
      "image/png": "[encoded data removed]",
      "text/plain": [
       "<Figure size 1152x288 with 1 Axes>"
      ]
     },
     "metadata": {
      "tags": []
     },
     "output_type": "display_data"
    }
   ],
   "source": [
    "import seaborn as sns\n",
    "plt.figure(figsize=(16,4))\n",
    "sns.barplot(x=\"Profile\",y=\"Fees\",data=fee)\n",
    "plt.show()"
   ]
  },
  {
   "cell_type": "markdown",
   "metadata": {
    "colab_type": "text",
    "id": "FF3DUR-NKj0C"
   },
   "source": [
    "<b>Observation:</b>\n",
    "From the above visualization, we see that most of the Doctors are ENT Specialist."
   ]
  },
  {
   "cell_type": "code",
   "execution_count": 308,
   "metadata": {
    "colab": {
     "base_uri": "https://localhost:8080/",
     "height": 225
    },
    "colab_type": "code",
    "id": "K01hULBW7mCK",
    "outputId": "8654dd83-1ca9-4aec-cdc0-9af01e0fb245"
   },
   "outputs": [
    {
     "data": {
      "image/png": "[encoded data removed]",
      "text/plain": [
       "<Figure size 1008x216 with 1 Axes>"
      ]
     },
     "metadata": {
      "tags": []
     },
     "output_type": "display_data"
    }
   ],
   "source": [
    "plt.figure(figsize=(14,3))\n",
    "sns.barplot(x=\"P2\",y=\"Fees\",data=fee)\n",
    "plt.show()"
   ]
  },
  {
   "cell_type": "markdown",
   "metadata": {
    "colab_type": "text",
    "id": "w_JkhEHEJqtz"
   },
   "source": [
    "<b>Observation:</b>\n",
    "From the above visualization, we see that most of the doctors are from Delhi."
   ]
  },
  {
   "cell_type": "code",
   "execution_count": 0,
   "metadata": {
    "colab": {},
    "colab_type": "code",
    "collapsed": true,
    "id": "l3rBpHY2rAYg"
   },
   "outputs": [],
   "source": [
    "fee[\"Profile\"]=pd.to_numeric(fee[\"Profile\"],errors='coerce')\n",
    "fee[\"P1\"]=pd.to_numeric(fee[\"P1\"],errors='coerce')\n",
    "fee[\"P2\"]=pd.to_numeric(fee[\"P2\"],errors='coerce')\n",
    "fee[\"Q1\"]=pd.to_numeric(fee[\"Q1\"],errors='coerce')\n",
    "fee[\"Q2\"]=pd.to_numeric(fee[\"Q2\"],errors='coerce')"
   ]
  },
  {
   "cell_type": "markdown",
   "metadata": {
    "colab_type": "text",
    "id": "ZXF1lSov7mCQ"
   },
   "source": [
    "<b>Label Encoder</b>"
   ]
  },
  {
   "cell_type": "code",
   "execution_count": 0,
   "metadata": {
    "colab": {},
    "colab_type": "code",
    "collapsed": true,
    "id": "aoR85Dr27mCR"
   },
   "outputs": [],
   "source": [
    "from sklearn.preprocessing import LabelEncoder\n",
    "# Converting the categorical variables \n",
    "l=LabelEncoder()\n",
    "# Converting the categorical variables \n",
    "for col in fee.columns:\n",
    "    if fee[col].dtype==\"object\":\n",
    "        fee[col]=LabelEncoder().fit_transform(fee[col])"
   ]
  },
  {
   "cell_type": "markdown",
   "metadata": {
    "colab_type": "text",
    "id": "Q-DriemC7mCV"
   },
   "source": [
    "<b>Dividing the data into train and test</b>"
   ]
  },
  {
   "cell_type": "code",
   "execution_count": 0,
   "metadata": {
    "colab": {},
    "colab_type": "code",
    "collapsed": true,
    "id": "DAogSd2A7mCW"
   },
   "outputs": [],
   "source": [
    "#Lets seprate the input and output from train dataset\n",
    "X=fee.drop(columns=[\"Fees\"],axis=1)\n",
    "y=fee[[\"Fees\"]]"
   ]
  },
  {
   "cell_type": "code",
   "execution_count": 0,
   "metadata": {
    "colab": {},
    "colab_type": "code",
    "collapsed": true,
    "id": "nJZ5Zv8u7mCa"
   },
   "outputs": [],
   "source": [
    "# Lets bring the dataset features into same scle\n",
    "from sklearn.preprocessing import StandardScaler\n",
    "sr=StandardScaler()\n",
    "X=sr.fit_transform(X)"
   ]
  },
  {
   "cell_type": "code",
   "execution_count": 0,
   "metadata": {
    "colab": {},
    "colab_type": "code",
    "collapsed": true,
    "id": "cLKeJP501HG2"
   },
   "outputs": [],
   "source": [
    "# Replacing NaN with zero\n",
    "X[:]= np.nan_to_num(X)\n",
    "y[:]=np.nan_to_num(y)"
   ]
  },
  {
   "cell_type": "markdown",
   "metadata": {
    "colab_type": "text",
    "id": "Lzd4tGFc7mCg"
   },
   "source": [
    "<b>Splitting the data into train and test</b>"
   ]
  },
  {
   "cell_type": "code",
   "execution_count": 0,
   "metadata": {
    "colab": {},
    "colab_type": "code",
    "collapsed": true,
    "id": "KMgrTwHT7mCh"
   },
   "outputs": [],
   "source": [
    "X_train, X_test, y_train, y_test= train_test_split(X,y, test_size=0.3)"
   ]
  },
  {
   "cell_type": "code",
   "execution_count": 0,
   "metadata": {
    "colab": {},
    "colab_type": "code",
    "collapsed": true,
    "id": "BURlpvaw7mCm"
   },
   "outputs": [],
   "source": [
    "# We are using R2 score to evaluate\n",
    "def r2_score(models,X,y):\n",
    "    r2_score=0\n",
    "    for r_state in range(42,100):\n",
    "        X_train,X_test, y_train, y_test= train_test_split(X,y,test_size=0.30, random_state=r_state)\n",
    "        models.fit(X_train,y_train)\n",
    "        y_pred= models.predict(X_test)\n",
    "        score=r2_score(y_test,y_pred)\n",
    "        if score>r2_score:\n",
    "            r2_score=score\n",
    "            final_r2_score=r_state\n",
    "    print(\"Maximum R2_Score corresponding:\",final_r2_score,\" and it is :\",round((r2_score),2))"
   ]
  },
  {
   "cell_type": "markdown",
   "metadata": {
    "colab_type": "text",
    "id": "wfAkfCB27mCv"
   },
   "source": [
    "# Machine Learning Models:"
   ]
  },
  {
   "cell_type": "markdown",
   "metadata": {
    "colab_type": "text",
    "id": "YxGdHPCL7mCy"
   },
   "source": [
    "As the target variable is continuous, its a regression problem. We are implementing Gradient Boosting Regressor, KNN Regressor, XG Boost Regressor and Random Forest Regressor."
   ]
  },
  {
   "cell_type": "markdown",
   "metadata": {
    "colab_type": "text",
    "id": "sA-0Bj6i7mC0"
   },
   "source": [
    "<b>Gradient Boosting Regressor</b>"
   ]
  },
  {
   "cell_type": "code",
   "execution_count": 228,
   "metadata": {
    "colab": {
     "base_uri": "https://localhost:8080/",
     "height": 34
    },
    "colab_type": "code",
    "id": "wgGj98mR7mC2",
    "outputId": "c72df1a4-5d59-435b-d29c-a8fdf84f375b"
   },
   "outputs": [
    {
     "data": {
      "text/plain": [
       "{'learning_rate': 0.02, 'max_depth': 6, 'n_estimators': 50, 'subsample': 0.5}"
      ]
     },
     "execution_count": 228,
     "metadata": {
      "tags": []
     },
     "output_type": "execute_result"
    }
   ],
   "source": [
    "gb1 = GradientBoostingRegressor()\n",
    "parameters= {'learning_rate': [0.02,0.03], 'subsample': [0.5,0.7], 'n_estimators': [50,100], 'max_depth': [6,10]}\n",
    "gb1= GridSearchCV(estimator=gb1, param_grid= parameters, cv=5, n_jobs=-1)\n",
    "gb1.fit(X,y)\n",
    "gb1.best_params_"
   ]
  },
  {
   "cell_type": "code",
   "execution_count": 0,
   "metadata": {
    "colab": {},
    "colab_type": "code",
    "collapsed": true,
    "id": "BaK-A6De7mC_"
   },
   "outputs": [],
   "source": [
    "gb1 = GradientBoostingRegressor(learning_rate=0.02,max_depth=6,n_estimators=50,subsample=0.5)"
   ]
  },
  {
   "cell_type": "code",
   "execution_count": 0,
   "metadata": {
    "colab": {},
    "colab_type": "code",
    "collapsed": true,
    "id": "KVR7lnEb7mDG"
   },
   "outputs": [],
   "source": [
    "pred_gb1= gb1.predict(X_test)\n",
    "score_gb1= gb1.score(X_test, y_test)"
   ]
  },
  {
   "cell_type": "code",
   "execution_count": 246,
   "metadata": {
    "colab": {
     "base_uri": "https://localhost:8080/",
     "height": 34
    },
    "colab_type": "code",
    "id": "x21wBFAh9FEH",
    "outputId": "d6642be1-acec-47b1-b5ea-6c5d66050a66"
   },
   "outputs": [
    {
     "name": "stdout",
     "output_type": "stream",
     "text": [
      "R-Square: 0.14830975425124826\n"
     ]
    }
   ],
   "source": [
    "print(\"R-Square:\",metrics.r2_score(y_test,pred_gb1))\n",
    "gb_r=metrics.r2_score(y_test,pred_gb1)"
   ]
  },
  {
   "cell_type": "code",
   "execution_count": 241,
   "metadata": {
    "colab": {
     "base_uri": "https://localhost:8080/",
     "height": 51
    },
    "colab_type": "code",
    "id": "m4m6QXJP7mDM",
    "outputId": "6536aee7-d1c2-45d6-e104-c5537a2c1b35"
   },
   "outputs": [
    {
     "name": "stdout",
     "output_type": "stream",
     "text": [
      "Mean R2 Score for Gradient Boosting Regressor: -1.0251171769684465e+29\n",
      "Standard Deviation in R2 Score for Gradient Boosting Regression: 2.0821289610741226e+29\n"
     ]
    }
   ],
   "source": [
    "# Cross validation score\n",
    "mean_gb1=cross_val_score(gb1,X,y,cv=10,scoring=\"r2\").mean()\n",
    "print(\"Mean R2 Score for Gradient Boosting Regressor:\",mean_gb1)\n",
    "std_gb1=cross_val_score(gb1,X,y,cv=10,scoring=\"r2\").std()\n",
    "print(\"Standard Deviation in R2 Score for Gradient Boosting Regression:\",std_gb1)"
   ]
  },
  {
   "cell_type": "code",
   "execution_count": 242,
   "metadata": {
    "colab": {
     "base_uri": "https://localhost:8080/",
     "height": 34
    },
    "colab_type": "code",
    "id": "fVCShZcD7mDR",
    "outputId": "ac131a71-1b4b-468a-bf77-fcb6a51acdd8"
   },
   "outputs": [
    {
     "data": {
      "text/plain": [
       "150.47519782328143"
      ]
     },
     "execution_count": 242,
     "metadata": {
      "tags": []
     },
     "output_type": "execute_result"
    }
   ],
   "source": [
    "# RMSE\n",
    "from sklearn import metrics\n",
    "gb1_rmse=np.sqrt(metrics.mean_squared_error(y_test,pred_gb1))\n",
    "gb1_rmse"
   ]
  },
  {
   "cell_type": "markdown",
   "metadata": {
    "colab_type": "text",
    "id": "6wXw40RY7mDW"
   },
   "source": [
    "<b>KNN Regressor</b>"
   ]
  },
  {
   "cell_type": "code",
   "execution_count": 243,
   "metadata": {
    "colab": {
     "base_uri": "https://localhost:8080/",
     "height": 34
    },
    "colab_type": "code",
    "id": "So5nx5HJ7mDY",
    "outputId": "8d4b6f02-d826-47f4-833a-d01bf3e9541d"
   },
   "outputs": [
    {
     "data": {
      "text/plain": [
       "{'n_neighbors': 29}"
      ]
     },
     "execution_count": 243,
     "metadata": {
      "tags": []
     },
     "output_type": "execute_result"
    }
   ],
   "source": [
    "from sklearn.neighbors import KNeighborsRegressor\n",
    "knn1=KNeighborsRegressor()\n",
    "parameters={\"n_neighbors\":range(2,30)}\n",
    "knn1= GridSearchCV(knn1,parameters,cv=5)\n",
    "knn1.fit(X,y)\n",
    "knn1.best_params_"
   ]
  },
  {
   "cell_type": "code",
   "execution_count": 253,
   "metadata": {
    "colab": {
     "base_uri": "https://localhost:8080/",
     "height": 68
    },
    "colab_type": "code",
    "id": "ai7cN8az7mDe",
    "outputId": "2f29563c-1d00-400f-80c9-f5b8eda4231b"
   },
   "outputs": [
    {
     "data": {
      "text/plain": [
       "KNeighborsRegressor(algorithm='auto', leaf_size=30, metric='minkowski',\n",
       "                    metric_params=None, n_jobs=None, n_neighbors=29, p=2,\n",
       "                    weights='uniform')"
      ]
     },
     "execution_count": 253,
     "metadata": {
      "tags": []
     },
     "output_type": "execute_result"
    }
   ],
   "source": [
    "knn1= KNeighborsRegressor(n_neighbors=29)\n",
    "knn1.fit(X,y)"
   ]
  },
  {
   "cell_type": "code",
   "execution_count": 0,
   "metadata": {
    "colab": {},
    "colab_type": "code",
    "collapsed": true,
    "id": "vx_yvAgI7mDl"
   },
   "outputs": [],
   "source": [
    "pred_knn1= knn1.predict(X_test)"
   ]
  },
  {
   "cell_type": "code",
   "execution_count": 255,
   "metadata": {
    "colab": {
     "base_uri": "https://localhost:8080/",
     "height": 34
    },
    "colab_type": "code",
    "id": "oMWVTyC5FlgO",
    "outputId": "fffe53d4-c1a1-432a-8097-4ad407aba855"
   },
   "outputs": [
    {
     "name": "stdout",
     "output_type": "stream",
     "text": [
      "R-Square: 0.16010707940801183\n"
     ]
    }
   ],
   "source": [
    "print(\"R-Square:\",metrics.r2_score(y_test,pred_knn1))\n",
    "knn_r=metrics.r2_score(y_test,pred_knn1)"
   ]
  },
  {
   "cell_type": "code",
   "execution_count": 256,
   "metadata": {
    "colab": {
     "base_uri": "https://localhost:8080/",
     "height": 51
    },
    "colab_type": "code",
    "id": "k19Pgp2D7mDo",
    "outputId": "e22cdf50-4116-47cc-81ca-1f848bf8b14e"
   },
   "outputs": [
    {
     "name": "stdout",
     "output_type": "stream",
     "text": [
      "Mean R2 Score for KNN Regressor: -2.6940541137010657e+29\n",
      "Standard Deviation in R2 Score for KNN Regressor: 5.388244719570267e+29\n"
     ]
    }
   ],
   "source": [
    "# Cross validation score\n",
    "mean_knn1=cross_val_score(knn1,X,y,cv=10,scoring=\"r2\").mean()\n",
    "print(\"Mean R2 Score for KNN Regressor:\",mean_knn1)\n",
    "std_knn1=cross_val_score(knn1,X,y,cv=10,scoring=\"r2\").std()\n",
    "print(\"Standard Deviation in R2 Score for KNN Regressor:\",std_knn1)"
   ]
  },
  {
   "cell_type": "code",
   "execution_count": 257,
   "metadata": {
    "colab": {
     "base_uri": "https://localhost:8080/",
     "height": 34
    },
    "colab_type": "code",
    "id": "xVPrXm1k7mDy",
    "outputId": "1feb5c5d-a4f0-47fd-ecaf-1cfd5471ba15"
   },
   "outputs": [
    {
     "data": {
      "text/plain": [
       "149.42939791081437"
      ]
     },
     "execution_count": 257,
     "metadata": {
      "tags": []
     },
     "output_type": "execute_result"
    }
   ],
   "source": [
    "knn_rmse=np.sqrt(metrics.mean_squared_error(y_test,pred_knn1))\n",
    "knn_rmse"
   ]
  },
  {
   "cell_type": "markdown",
   "metadata": {
    "colab_type": "text",
    "id": "eCP7T6GH7mEg"
   },
   "source": [
    "<b>Random Forest Regressor</b>"
   ]
  },
  {
   "cell_type": "code",
   "execution_count": 263,
   "metadata": {
    "colab": {
     "base_uri": "https://localhost:8080/",
     "height": 102
    },
    "colab_type": "code",
    "id": "92IlEVV-7mEh",
    "outputId": "6ebf2465-94c1-48fa-a840-ff2a5985f0f7"
   },
   "outputs": [
    {
     "data": {
      "text/plain": [
       "{'max_depth': 100,\n",
       " 'max_features': 2,\n",
       " 'min_samples_leaf': 5,\n",
       " 'min_samples_split': 10,\n",
       " 'n_estimators': 500}"
      ]
     },
     "execution_count": 263,
     "metadata": {
      "tags": []
     },
     "output_type": "execute_result"
    }
   ],
   "source": [
    "rf1=RandomForestRegressor()\n",
    "param_grid = {\n",
    "    'max_depth': [80, 100],\n",
    "    'max_features': [2, 3],\n",
    "    'min_samples_leaf': [3, 5],\n",
    "    'min_samples_split': [10, 12],\n",
    "    'n_estimators': [100, 500]\n",
    "}\n",
    "rf1= GridSearchCV(rf1, param_grid,cv=5)\n",
    "rf1.fit(X,y)\n",
    "rf1.best_params_"
   ]
  },
  {
   "cell_type": "code",
   "execution_count": 265,
   "metadata": {
    "colab": {
     "base_uri": "https://localhost:8080/",
     "height": 136
    },
    "colab_type": "code",
    "id": "rt2casXr7mEq",
    "outputId": "f542ba7c-e576-4841-a960-faed1087fb7f"
   },
   "outputs": [
    {
     "data": {
      "text/plain": [
       "RandomForestRegressor(bootstrap=True, ccp_alpha=0.0, criterion='mse',\n",
       "                      max_depth=100, max_features=2, max_leaf_nodes=None,\n",
       "                      max_samples=None, min_impurity_decrease=0.0,\n",
       "                      min_impurity_split=None, min_samples_leaf=5,\n",
       "                      min_samples_split=10, min_weight_fraction_leaf=0.0,\n",
       "                      n_estimators=500, n_jobs=None, oob_score=False,\n",
       "                      random_state=None, verbose=0, warm_start=False)"
      ]
     },
     "execution_count": 265,
     "metadata": {
      "tags": []
     },
     "output_type": "execute_result"
    }
   ],
   "source": [
    "rf1=RandomForestRegressor(max_depth=100,max_features=2,min_samples_leaf=5,min_samples_split=10,n_estimators=500)\n",
    "rf1.fit(X,y)"
   ]
  },
  {
   "cell_type": "code",
   "execution_count": 0,
   "metadata": {
    "colab": {},
    "colab_type": "code",
    "collapsed": true,
    "id": "SWteEf_Y7mEw"
   },
   "outputs": [],
   "source": [
    "pred_rf1= rf1.predict(X_test)\n",
    "score_rf1= rf1.score(X_test, y_test)"
   ]
  },
  {
   "cell_type": "code",
   "execution_count": 267,
   "metadata": {
    "colab": {
     "base_uri": "https://localhost:8080/",
     "height": 51
    },
    "colab_type": "code",
    "id": "cWF1Mw3y7mE6",
    "outputId": "c3a4a7d9-efad-441a-ce88-e5068295c074"
   },
   "outputs": [
    {
     "name": "stdout",
     "output_type": "stream",
     "text": [
      "Mean R2 Score for Random Forest Regressor: -1.126101301324264e+26\n",
      "Standard Deviation in R2 Score for Random Forest Regression: 2.0064662331965e+26\n"
     ]
    }
   ],
   "source": [
    "# Cross validation score\n",
    "mean_rf1=cross_val_score(rf1,X,y,cv=10,scoring=\"r2\").mean()\n",
    "print(\"Mean R2 Score for Random Forest Regressor:\",mean_rf1)\n",
    "std_rf1=cross_val_score(rf1,X,y,cv=10,scoring=\"r2\").std()\n",
    "print(\"Standard Deviation in R2 Score for Random Forest Regression:\",std_rf1)"
   ]
  },
  {
   "cell_type": "code",
   "execution_count": 268,
   "metadata": {
    "colab": {
     "base_uri": "https://localhost:8080/",
     "height": 34
    },
    "colab_type": "code",
    "id": "BDFUFQLN7mFH",
    "outputId": "80e4c1e7-e739-4777-871b-0e34ad2016f9"
   },
   "outputs": [
    {
     "data": {
      "text/plain": [
       "162.6328136403622"
      ]
     },
     "execution_count": 268,
     "metadata": {
      "tags": []
     },
     "output_type": "execute_result"
    }
   ],
   "source": [
    "# RMSE\n",
    "rf_rmse=np.sqrt(metrics.mean_squared_error(y_test,pred_rf1))\n",
    "rf_rmse"
   ]
  },
  {
   "cell_type": "markdown",
   "metadata": {
    "colab_type": "text",
    "id": "y9Ty2nnR7mFN"
   },
   "source": [
    "# Evaluation:"
   ]
  },
  {
   "cell_type": "code",
   "execution_count": 272,
   "metadata": {
    "colab": {
     "base_uri": "https://localhost:8080/",
     "height": 142
    },
    "colab_type": "code",
    "id": "0lPuRBit7mFN",
    "outputId": "96e4ad17-c804-4501-85ba-a6d42267fc60"
   },
   "outputs": [
    {
     "data": {
      "text/html": [
       "<div>\n",
       "<style scoped>\n",
       "    .dataframe tbody tr th:only-of-type {\n",
       "        vertical-align: middle;\n",
       "    }\n",
       "\n",
       "    .dataframe tbody tr th {\n",
       "        vertical-align: top;\n",
       "    }\n",
       "\n",
       "    .dataframe thead th {\n",
       "        text-align: right;\n",
       "    }\n",
       "</style>\n",
       "<table border=\"1\" class=\"dataframe\">\n",
       "  <thead>\n",
       "    <tr style=\"text-align: right;\">\n",
       "      <th></th>\n",
       "      <th>Model Name</th>\n",
       "      <th>RMSE</th>\n",
       "    </tr>\n",
       "  </thead>\n",
       "  <tbody>\n",
       "    <tr>\n",
       "      <th>1</th>\n",
       "      <td>Gradient Boosting Regressor</td>\n",
       "      <td>150.475198</td>\n",
       "    </tr>\n",
       "    <tr>\n",
       "      <th>2</th>\n",
       "      <td>KNN Regressor</td>\n",
       "      <td>149.429398</td>\n",
       "    </tr>\n",
       "    <tr>\n",
       "      <th>3</th>\n",
       "      <td>Random Forest Regressor</td>\n",
       "      <td>162.632814</td>\n",
       "    </tr>\n",
       "  </tbody>\n",
       "</table>\n",
       "</div>"
      ],
      "text/plain": [
       "                    Model Name        RMSE\n",
       "1  Gradient Boosting Regressor  150.475198\n",
       "2                KNN Regressor  149.429398\n",
       "3      Random Forest Regressor  162.632814"
      ]
     },
     "execution_count": 272,
     "metadata": {
      "tags": []
     },
     "output_type": "execute_result"
    }
   ],
   "source": [
    "#Lets initialise the data frame with columns model and f1_score\n",
    "models= [[\"Gradient Boosting Regressor\",gb1_rmse],[\"KNN Regressor\",knn_rmse],[\"Random Forest Regressor\",rf_rmse]]\n",
    "comparsion_data= pd.DataFrame(models, columns=[\"Model Name\",\"RMSE\"], index=[1,2,3])\n",
    "comparsion_data"
   ]
  },
  {
   "cell_type": "markdown",
   "metadata": {
    "colab_type": "text",
    "id": "iKI93QCKJPML"
   },
   "source": [
    "From the above comparsion, KNN Regressor performed well with lowest RMSE of 149.429398."
   ]
  },
  {
   "cell_type": "markdown",
   "metadata": {
    "colab_type": "text",
    "id": "Sx3ny39C7mFp"
   },
   "source": [
    "<b>Saving the Prediction</b>"
   ]
  },
  {
   "cell_type": "markdown",
   "metadata": {
    "colab_type": "text",
    "id": "5JcrJkfX7mFq"
   },
   "source": [
    "As the KNN Regressor performed well, we are saving the prediction."
   ]
  },
  {
   "cell_type": "code",
   "execution_count": 0,
   "metadata": {
    "colab": {},
    "colab_type": "code",
    "collapsed": true,
    "id": "vMvHQ2kx7mFr"
   },
   "outputs": [],
   "source": [
    "np.savetxt('Model18.csv',pred_knn1,delimiter=',')"
   ]
  },
  {
   "cell_type": "code",
   "execution_count": 274,
   "metadata": {
    "colab": {
     "base_uri": "https://localhost:8080/",
     "height": 34
    },
    "colab_type": "code",
    "id": "h1fOn5RF7mFt",
    "outputId": "c8435099-f361-418f-feea-6f5f19df57f4"
   },
   "outputs": [
    {
     "data": {
      "text/plain": [
       "['project18.pkl']"
      ]
     },
     "execution_count": 274,
     "metadata": {
      "tags": []
     },
     "output_type": "execute_result"
    }
   ],
   "source": [
    "#Lets save the above model\n",
    "from sklearn.externals import joblib \n",
    "  \n",
    "# Save the model as a pickle in a file \n",
    "joblib.dump(knn1, 'project18.pkl')"
   ]
  }
 ],
 "metadata": {
  "colab": {
   "name": "Project 18.ipynb",
   "provenance": []
  },
  "kernelspec": {
   "display_name": "Python 3",
   "language": "python",
   "name": "python3"
  },
  "language_info": {
   "codemirror_mode": {
    "name": "ipython",
    "version": 3
   },
   "file_extension": ".py",
   "mimetype": "text/x-python",
   "name": "python",
   "nbconvert_exporter": "python",
   "pygments_lexer": "ipython3",
   "version": "3.6.1"
  }
 },
 "nbformat": 4,
 "nbformat_minor": 1
}
